{
 "cells": [
  {
   "cell_type": "markdown",
   "id": "8cfa587b",
   "metadata": {},
   "source": [
    "# Deploy and Run the SQD-PCM Function from the Cleveland Clinic Foundation"
   ]
  },
  {
   "cell_type": "markdown",
   "id": "01bdd609",
   "metadata": {
    "vscode": {
     "languageId": "plaintext"
    }
   },
   "source": [
    "This interactive guide shows how to upload the SQD-PCM function template to Qiskit Serverless and run an example workload."
   ]
  },
  {
   "cell_type": "markdown",
   "id": "a0cb6f4a",
   "metadata": {
    "vscode": {
     "languageId": "plaintext"
    }
   },
   "source": [
    "### Requirements\n",
    "\n",
    "This guide was developed with the following package versions:\n",
    "\n",
    "```\n",
    "qiskit-ibm-catalog == 0.5.0\n",
    "qiskit-ibm-runtime == 0.38.0\n",
    "numpy\n",
    "```"
   ]
  },
  {
   "cell_type": "markdown",
   "id": "6c92ac84",
   "metadata": {
    "vscode": {
     "languageId": "plaintext"
    }
   },
   "source": [
    "## 1. Autentication\n",
    "\n",
    "Use `qiskit-ibm-catalog` to authenticate to `QiskitServerless` with your API key (token), which you can find on the [IBM Quantum Platform](https://quantum.cloud.ibm.com) dashboard. This will allow you to locally instantiate the serverless client to upload or run the selected function:\n",
    "\n",
    "```python\n",
    "from qiskit_ibm_catalog import QiskitServerless\n",
    "serverless = QiskitServerless(token=\"MY_TOKEN\")\n",
    "```\n",
    "\n",
    "You can optionally use `save_account()` to save your credentials in your local environment (see the [Set up your IBM Cloud account](/docs/guides/cloud-setup#cloud-save) guide). Note that this writes your credentials to the same file as [`QiskitRuntimeService.save_account()`](/docs/api/qiskit-ibm-runtime/qiskit-runtime-service#save_account):\n",
    "\n",
    "```python\n",
    "QiskitServerless.save_account(token=\"MY_TOKEN\")\n",
    "```\n",
    "\n",
    "If the account is saved, there is no need to provide the token to authenticate:"
   ]
  },
  {
   "cell_type": "code",
   "execution_count": 1,
   "id": "7393286a",
   "metadata": {},
   "outputs": [],
   "source": [
    "from qiskit_ibm_catalog import QiskitServerless\n",
    "\n",
    "# Authenticate to the remote cluster\n",
    "serverless = QiskitServerless(channel=\"ibm_quantum\")"
   ]
  },
  {
   "cell_type": "markdown",
   "id": "e1f99d80",
   "metadata": {
    "vscode": {
     "languageId": "plaintext"
    }
   },
   "source": [
    "## 2. Upload the Function"
   ]
  },
  {
   "cell_type": "markdown",
   "id": "3e0e8cc8",
   "metadata": {
    "vscode": {
     "languageId": "plaintext"
    }
   },
   "source": [
    "To upload a Qiskit Function, you must first instantiate a `QiskitFunction` object that defines the function source code. The title will allow you to identify the function once it's in the remote cluster. The main entry point is the file that contains `if __name__ == \"__main__\"`. If your workflow requires additional source files, you can define a working directory that will be uploaded together with the entry point."
   ]
  },
  {
   "cell_type": "code",
   "execution_count": 2,
   "id": "77b2b9b6",
   "metadata": {},
   "outputs": [
    {
     "name": "stdout",
     "output_type": "stream",
     "text": [
      "QiskitFunction(sqd_pcm_template)\n"
     ]
    }
   ],
   "source": [
    "from qiskit_ibm_catalog import QiskitFunction\n",
    "\n",
    "template = QiskitFunction(\n",
    "    title=\"sqd_pcm_template\",\n",
    "    entrypoint=\"sqd_pcm.py\",\n",
    "    working_dir=\"./source_files/\",  # all files in this directory will be uploaded\n",
    ")\n",
    "print(template)"
   ]
  },
  {
   "cell_type": "markdown",
   "id": "72854f5a",
   "metadata": {},
   "source": [
    "Once the instance is ready, upload it to serverless:"
   ]
  },
  {
   "cell_type": "code",
   "execution_count": 3,
   "id": "59e7fdb5",
   "metadata": {},
   "outputs": [
    {
     "data": {
      "text/plain": [
       "QiskitFunction(sqd_pcm_template)"
      ]
     },
     "execution_count": 3,
     "metadata": {},
     "output_type": "execute_result"
    }
   ],
   "source": [
    "serverless.upload(template)"
   ]
  },
  {
   "cell_type": "markdown",
   "id": "ac7d8764",
   "metadata": {
    "vscode": {
     "languageId": "plaintext"
    }
   },
   "source": [
    "To check if the program successfully uploaded, use `serverless.list()`:"
   ]
  },
  {
   "cell_type": "code",
   "execution_count": 4,
   "id": "03a91030",
   "metadata": {},
   "outputs": [
    {
     "data": {
      "text/plain": [
       "[QiskitFunction(template_hamiltonian_simulation),\n",
       " QiskitFunction(hamiltonian_simulation_template),\n",
       " QiskitFunction(sqd_pcm_template)]"
      ]
     },
     "execution_count": 4,
     "metadata": {},
     "output_type": "execute_result"
    }
   ],
   "source": [
    "serverless.list()"
   ]
  },
  {
   "cell_type": "markdown",
   "id": "99408586",
   "metadata": {},
   "source": [
    "## 3. Loand and Run the Function remotely"
   ]
  },
  {
   "cell_type": "markdown",
   "id": "62b37d7a",
   "metadata": {},
   "source": [
    "\n",
    "The function template has been uploaded, so you can run it remotely with Qiskit Serverless. First, load the template by name:"
   ]
  },
  {
   "cell_type": "code",
   "execution_count": 5,
   "id": "854d12cf",
   "metadata": {},
   "outputs": [
    {
     "name": "stdout",
     "output_type": "stream",
     "text": [
      "QiskitFunction(sqd_pcm_template)\n"
     ]
    }
   ],
   "source": [
    "template = serverless.load(\"sqd_pcm_template\")\n",
    "print(template)"
   ]
  },
  {
   "cell_type": "markdown",
   "id": "fa2dc721",
   "metadata": {
    "vscode": {
     "languageId": "plaintext"
    }
   },
   "source": [
    "Next, run the template with the domain-level inputs for Hamiltonian simulation. This example specifies a methanol-based workload."
   ]
  },
  {
   "cell_type": "code",
   "execution_count": 6,
   "id": "a1719ab1",
   "metadata": {},
   "outputs": [],
   "source": [
    "molecule = {\n",
    "    \"atom\": \"\"\"\n",
    "    O -0.04559 -0.75076 -0.00000;\n",
    "    C -0.04844 0.65398 -0.00000;\n",
    "    H 0.85330 -1.05128 -0.00000;\n",
    "    H -1.08779 0.98076 -0.00000;\n",
    "    H 0.44171 1.06337 0.88811;\n",
    "    H 0.44171 1.06337 -0.88811\n",
    "    \"\"\",  # Must be specified\n",
    "    \"basis\": \"cc-pvdz\",  # default is \"sto-3g\"\n",
    "    \"spin\": 0,  # default is 0\n",
    "    \"charge\": 0,  # default is 0\n",
    "    \"verbosity\": 0,  # default is 0\n",
    "    \"number_of_active_orb\": 12,  # Must be specified\n",
    "    \"number_of_active_alpha_elec\": 7,  # Must be specified\n",
    "    \"number_of_active_beta_elec\": 7,  # Must be specified\n",
    "    \"avas_selection\": [\"%d O %s\" % (k, x) for k in [0] for x in [\"2s\", \"2px\", \"2py\", \"2pz\"]]\n",
    "    + [\"%d C %s\" % (k, x) for k in [1] for x in [\"2s\", \"2px\", \"2py\", \"2pz\"]]\n",
    "    + [\"%d H 1s\" % k for k in [2, 3, 4, 5]],\n",
    "    # default is None\n",
    "    \"datafiles_name\": \"methanol\",\n",
    "    # Must be specified. Name without the file extension.\n",
    "    # This name will be assigned for checkpoint, fcidump, and count_dictionary files\n",
    "    # as well as the name of the SQD results folder containing the\n",
    "    # \"bitstring_matrix\" and \"sci_vector\" for each batch.\n",
    "}\n",
    "\n",
    "solvent_options = {\n",
    "    \"method\": \"IEF-PCM\",  # other available methods are COSMO, C-PCM, SS(V)PE, see https://manual.q-chem.com/5.4/topic_pcm-em.html\n",
    "    \"eps\": 78.3553,  # value for water\n",
    "}\n",
    "\n",
    "lucj_options = {\n",
    "    \"initial_layout\": [\n",
    "        0,\n",
    "        14,\n",
    "        18,\n",
    "        19,\n",
    "        20,\n",
    "        33,\n",
    "        39,\n",
    "        40,\n",
    "        41,\n",
    "        53,\n",
    "        60,\n",
    "        61,\n",
    "        2,\n",
    "        3,\n",
    "        4,\n",
    "        15,\n",
    "        22,\n",
    "        23,\n",
    "        24,\n",
    "        34,\n",
    "        43,\n",
    "        44,\n",
    "        45,\n",
    "        54,\n",
    "    ],\n",
    "    \"dynamical_decoupling_choice\": True,\n",
    "    \"twirling_choice\": True,\n",
    "    \"number_of_shots\": 200000,\n",
    "    \"optimization_level\": 3,\n",
    "}\n",
    "\n",
    "sqd_options = {\n",
    "    \"sqd_iterations\": 3,\n",
    "    \"number_of_batches\": 10,\n",
    "    \"samples_per_batch\": 1000,\n",
    "    \"max_davidson_cycles\": 200,\n",
    "}\n",
    "\n",
    "backend_name = \"test_eagle_eu-de\""
   ]
  },
  {
   "cell_type": "code",
   "execution_count": 7,
   "id": "01c0667c",
   "metadata": {},
   "outputs": [
    {
     "name": "stdout",
     "output_type": "stream",
     "text": [
      "9385080f-2932-45b4-b64e-abd9f71c9824\n"
     ]
    }
   ],
   "source": [
    "job = template.run(\n",
    "    backend_name=backend_name,\n",
    "    molecule=molecule,\n",
    "    solvent_options=solvent_options,\n",
    "    lucj_options=lucj_options,\n",
    "    sqd_options=sqd_options,\n",
    ")\n",
    "print(job.job_id)"
   ]
  },
  {
   "cell_type": "markdown",
   "id": "a9101a94",
   "metadata": {},
   "source": [
    "Check the status of the job:"
   ]
  },
  {
   "cell_type": "code",
   "execution_count": 8,
   "id": "4385a34f",
   "metadata": {},
   "outputs": [
    {
     "data": {
      "text/plain": [
       "'QUEUED'"
      ]
     },
     "execution_count": 8,
     "metadata": {},
     "output_type": "execute_result"
    }
   ],
   "source": [
    "job.status()"
   ]
  },
  {
   "cell_type": "markdown",
   "id": "4adc5293",
   "metadata": {},
   "source": [
    "After the job is running, you can fetch logs created from the `logger.info` outputs. These can provide actionable information about the progress of the Hamiltonian simulation workflow. For example, the value of the objective function during the iterative component of AQC, or the two-qubit depth of the final ISA circuit intended for execution on hardware."
   ]
  },
  {
   "cell_type": "code",
   "execution_count": 9,
   "id": "a5b1f190",
   "metadata": {},
   "outputs": [
    {
     "name": "stdout",
     "output_type": "stream",
     "text": [
      "No logs yet.\n"
     ]
    }
   ],
   "source": [
    "print(job.logs())"
   ]
  },
  {
   "cell_type": "markdown",
   "id": "ba179114",
   "metadata": {},
   "source": [
    "Block the rest of the program until a result is available. After the job is done, you can retrieve the results. These include the domain-level output of Hamiltonian simulation (expectation value) and useful metadata."
   ]
  },
  {
   "cell_type": "code",
   "execution_count": 10,
   "id": "3500adce",
   "metadata": {},
   "outputs": [
    {
     "ename": "QiskitServerlessException",
     "evalue": "{}",
     "output_type": "error",
     "traceback": [
      "\u001b[0;31m---------------------------------------------------------------------------\u001b[0m",
      "\u001b[0;31mQiskitServerlessException\u001b[0m                 Traceback (most recent call last)",
      "Cell \u001b[0;32mIn[10], line 1\u001b[0m\n\u001b[0;32m----> 1\u001b[0m result \u001b[38;5;241m=\u001b[39m \u001b[43mjob\u001b[49m\u001b[38;5;241;43m.\u001b[39;49m\u001b[43mresult\u001b[49m\u001b[43m(\u001b[49m\u001b[43m)\u001b[49m\n\u001b[1;32m      3\u001b[0m result\n",
      "File \u001b[0;32m~/qiskit_workspace/qiskit-function-templates/.venv/lib/python3.11/site-packages/qiskit_serverless/core/job.py:191\u001b[0m, in \u001b[0;36mJob.result\u001b[0;34m(self, wait, cadence, verbose, maxwait)\u001b[0m\n\u001b[1;32m    188\u001b[0m results \u001b[38;5;241m=\u001b[39m \u001b[38;5;28mself\u001b[39m\u001b[38;5;241m.\u001b[39m_job_service\u001b[38;5;241m.\u001b[39mresult(\u001b[38;5;28mself\u001b[39m\u001b[38;5;241m.\u001b[39mjob_id)\n\u001b[1;32m    190\u001b[0m \u001b[38;5;28;01mif\u001b[39;00m \u001b[38;5;28mself\u001b[39m\u001b[38;5;241m.\u001b[39mstatus() \u001b[38;5;241m==\u001b[39m \u001b[38;5;124m\"\u001b[39m\u001b[38;5;124mERROR\u001b[39m\u001b[38;5;124m\"\u001b[39m:\n\u001b[0;32m--> 191\u001b[0m     \u001b[38;5;28;01mraise\u001b[39;00m QiskitServerlessException(results)\n\u001b[1;32m    193\u001b[0m \u001b[38;5;28;01mif\u001b[39;00m \u001b[38;5;28misinstance\u001b[39m(results, \u001b[38;5;28mstr\u001b[39m):\n\u001b[1;32m    194\u001b[0m     \u001b[38;5;28;01mtry\u001b[39;00m:\n",
      "\u001b[0;31mQiskitServerlessException\u001b[0m: {}"
     ]
    }
   ],
   "source": [
    "result = job.result()\n",
    "\n",
    "result"
   ]
  },
  {
   "cell_type": "markdown",
   "id": "49d0b26d",
   "metadata": {
    "vscode": {
     "languageId": "plaintext"
    }
   },
   "source": [
    "After the job completes, the entire logging output will be available."
   ]
  },
  {
   "cell_type": "code",
   "execution_count": 11,
   "id": "ddcba564",
   "metadata": {},
   "outputs": [
    {
     "name": "stdout",
     "output_type": "stream",
     "text": [
      "2025-05-05 08:39:24,466\tINFO job_manager.py:531 -- Runtime env is setting up.\n",
      "Traceback (most recent call last):\n",
      "  File \"/tmp/ray/session_2025-05-05_08-39-05_217882_1/runtime_resources/working_dir_files/_ray_pkg_8258c564a20f147b/sqd_pcm.py\", line 25, in <module>\n",
      "    import ffsim\n",
      "ModuleNotFoundError: No module named 'ffsim'\n",
      "\n"
     ]
    }
   ],
   "source": [
    "print(job.logs())"
   ]
  },
  {
   "cell_type": "code",
   "execution_count": null,
   "id": "d8525bd1",
   "metadata": {},
   "outputs": [],
   "source": []
  }
 ],
 "metadata": {
  "kernelspec": {
   "display_name": ".venv",
   "language": "python",
   "name": "python3"
  },
  "language_info": {
   "codemirror_mode": {
    "name": "ipython",
    "version": 3
   },
   "file_extension": ".py",
   "mimetype": "text/x-python",
   "name": "python",
   "nbconvert_exporter": "python",
   "pygments_lexer": "ipython3",
   "version": "3.11.11"
  }
 },
 "nbformat": 4,
 "nbformat_minor": 5
}
