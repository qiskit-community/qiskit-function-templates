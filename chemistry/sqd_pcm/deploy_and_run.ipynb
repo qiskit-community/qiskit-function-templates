{
 "cells": [
  {
   "cell_type": "markdown",
   "id": "8cfa587b",
   "metadata": {},
   "source": [
    "# Deploy and Run the SQD IEF-PCM Function Template"
   ]
  },
  {
   "cell_type": "markdown",
   "id": "48a7cab2",
   "metadata": {},
   "source": [
    "### *A project in collaboration with the Cleveland Clinic Foundation*"
   ]
  },
  {
   "cell_type": "markdown",
   "id": "01bdd609",
   "metadata": {
    "vscode": {
     "languageId": "plaintext"
    }
   },
   "source": [
    "This interactive guide shows how to upload the SQD IEF-PCM function template to Qiskit Serverless and run an example workload."
   ]
  },
  {
   "cell_type": "markdown",
   "id": "a0cb6f4a",
   "metadata": {
    "vscode": {
     "languageId": "plaintext"
    }
   },
   "source": [
    "### Requirements\n",
    "\n",
    "This guide was last run with the following package versions:"
   ]
  },
  {
   "cell_type": "code",
   "execution_count": 20,
   "id": "582fd62d-70bc-48cf-a368-b8d0be333155",
   "metadata": {},
   "outputs": [
    {
     "name": "stdout",
     "output_type": "stream",
     "text": [
      "qiskit-ibm-catalog:  0.8.0\n",
      "qiskit-ibm-runtime:  0.40.1\n"
     ]
    }
   ],
   "source": [
    "from qiskit_ibm_catalog import __version__ as catalog_version\n",
    "from qiskit_ibm_runtime import __version__ as runtime_version\n",
    "\n",
    "print(\"qiskit-ibm-catalog: \", catalog_version)\n",
    "print(\"qiskit-ibm-runtime: \", runtime_version)"
   ]
  },
  {
   "cell_type": "markdown",
   "id": "f3a337d1",
   "metadata": {},
   "source": [
    "# Simulated molecular system\n",
    "\n",
    "\n",
    "In this tutorial we show how to calculate the ground state energy and solvation free energy of methanol molecule in implicit solvent using the SQD IEF-PCM method. Here the methanol molecule is the solute, the electron structure of which is simulated explicitly, and the solvent is water, approximated as a continuous dielectric medium. To account for the [electron correlation effects](https://onlinelibrary.wiley.com/doi/epdf/10.1002/ijch.202100111) in methanol, while maintaining the balance between the computational cost and accuracy, we only include the $\\sigma$, $\\sigma^{*}$, and lone pair orbitals in the active space simulated with SQD IEF-PCM. This orbital selection is done with [atomic valence active space (AVAS) method](https://github.com/pyscf/pyscf.github.io/blob/master/examples/mcscf/43-avas.py) using the C[2s,2p], O[2s,2p], and H[1s] atomic orbital components, which results in the active space of 14 electrons and 12 orbitals (14e,12o). The reference orbitals are calculated with closed-shell Hartree Fock using the cc-pvdz basis set."
   ]
  },
  {
   "cell_type": "markdown",
   "id": "4832ef18",
   "metadata": {},
   "source": [
    "# LUCJ options\n",
    "\n",
    "The initial step of SQD method is the execution of LUCJ quantum circuit, which sample a set of computational basis states from the probability distribution of the molecular system. To achieve the balance between the depth of the LUCJ circuit and it is expressibility the qubits corresponding to the spin orbitals with the opposite spin have the two-qubit gates applied between them only in instances when these qubits are neighboring each other through single ancilla qubit. To implement this approach on IBM hardware with a heavy-hex topology, qubits representing the spin orbitals with the same spin are connected through a line topology where each line take a zig-zag shape due the heavy-hex connectivity of the target hardware, while the qubits representing the spin orbitals with the opposite spin only have connection at every 4th qubit.\n",
    "\n",
    "The user has to provide the `initial_layout` array corresponding to the qubits that satisfy this [_zig-zag_ pattern](https://pubs.rsc.org/en/content/articlehtml/2023/sc/d3sc02516k) in the `lucj_options` section of the SQD IEF-PCM function. In case of SQD IEF-PCM (14e,12o)/cc-pvdz simulations of methanol we chose the initial qubit layout corresponding to the main diagonal of the Eagle R3 QPU. Here the first 12 elements of the `initial_layout` array `[0, 14, 18, 19, 20, 33, 39, 40, 41, 53, 60, 61, ...]` correspond to the alpha spin orbitals and the last 12 elements `[... 2, 3, 4, 15, 22, 23, 24, 34, 43, 44, 45, 54]` correspond to beta spin orbitals.\n",
    "\n",
    "Importantly, the user has to make a decision regarding the `number_of_shots` which corresponds to number of measurements in LUCJ circuit. The number of shots needs to be suefficiently large due to the fact that the first step of S-CORE procedure relies on the samples in the right particle sector to obtain the initial approximation to the ground-state occupation number distribution. \n",
    "\n",
    "The number of shots is highly system- and hardware-dependent, but [noncovalent](https://arxiv.org/abs/2410.09209), [fragment-based](https://arxiv.org/abs/2411.09861), and [implicit solvent](https://pubs.acs.org/doi/10.1021/acs.jpcb.5c01030) SQD studies sugget that one can reach the chemical accuracy using:\n",
    "\n",
    "- 20,000 - 200,000 shots for systems with less than 16 molecular orbitals (32 spin orbitals)\n",
    "- 200,000 shots for systems with 16 - 18 molecular orbitals\n",
    "- 200,000 - 2,000,000 shots for systems with more than 18 molecular orbitals\n",
    "\n",
    "The required number of shots will be affected not only by the number of spin orbitals in the studied system, but also by the size of the Hilbert space corresponding to the selected active space within the studied system. Generally instances with smaller Hilbert spaces will require fewer shots. Other LUCJ options available to the user are [circuit transpiler optimization level](https://docs.quantum.ibm.com/guides/set-optimization) and [error suppresion options](https://docs.quantum.ibm.com/guides/configure-error-suppression), where these options are also going to affect the required number of shots and the resulting accuracy."
   ]
  },
  {
   "cell_type": "markdown",
   "id": "e2b46498",
   "metadata": {},
   "source": [
    "# SQD options\n",
    "Most critical options in SQD simulations are the `sqd_iterations`, `number_of_batches`, and `samples_per_batch`. Generally, the lower number of samples per batch can be counteracted with more batches (`number_of_batches`) and more iterations of S-CORE (`sqd_iterations`). \n",
    "- More batches allow user to sample more variations of the configurational subspaces. Since the lowest-energy batch is taken as the solution for the ground state energy of the system, higher number of batches can improve the results through better statistics. \n",
    "- Additional iterations of S-CORE allow to recover more configurations from original LUCJ distribution if the number of samples in correct particle sector is low. This allows user to reduce the number of samples per batch.\n",
    "\n",
    "Alternative strategy is to use the higher number of samples per batch, which ensures that most of the initial LUCJ samples in right particle space are used during the S-CORE procedure and individual subspaces encapsulate suefficient variety of electron configurations. In turn, this reduces the number of required S-CORE steps, where only 2 or 3 iterations of SQD are needed if number of samples per batch is large enough. However, more samples per batch results in higher computational cost of each diagonalization step. Hence, the balance between the accuracy and computational cost in SQD simulations can be achieved through optimal choice of `sqd_iterations`, `number_of_batches`, and `samples_per_batch` options.\n",
    "\n",
    "The [SQD IEF-PCM study](https://pubs.acs.org/doi/10.1021/acs.jpcb.5c01030) shows that when 3 iterations of S-CORE are used the chemical accuracy can be reached with:\n",
    "\n",
    "- 600 samples per batch in methanol SQD IEF-PCM (14e,12o) simulations\n",
    "- 1500 samples per batch in methylamine SQD IEF-PCM (14e,13o) simulations\n",
    "- 6000 samples per batch in water SQD IEF-PCM (8e,23o) simulations\n",
    "- 16000 samples per batch in ethanol SQD IEF-PCM (20e,18o) simulations\n",
    "\n",
    "Just like the required number of shots in LUCJ, the required number of samples per batch used in S-CORE procedure is highly system- and hardware-dependent. The examples above can be used to estimate the initial point for the benchmark of required number of samples per batch. The tutorial on systematic benchmark of required number of sample per batch can be found [here](https://qiskit.github.io/qiskit-addon-sqd/how_tos/choose_subspace_dimension.html)."
   ]
  },
  {
   "cell_type": "markdown",
   "id": "998a0f25",
   "metadata": {},
   "source": [
    "## Steps in the execution of SQD IEF-PCM function"
   ]
  },
  {
   "cell_type": "markdown",
   "id": "6c92ac84",
   "metadata": {
    "vscode": {
     "languageId": "plaintext"
    }
   },
   "source": [
    "## 1. Autentication\n",
    "\n",
    "Use `qiskit-ibm-catalog` to authenticate to `QiskitServerless` with your API key (token), which you can find on the [IBM Quantum Platform](https://quantum.cloud.ibm.com) dashboard. This will allow you to locally instantiate the serverless client to upload or run the selected function:\n",
    "\n",
    "```python\n",
    "from qiskit_ibm_catalog import QiskitServerless\n",
    "serverless = QiskitServerless(token=\"MY_TOKEN\")\n",
    "```\n",
    "\n",
    "You can optionally use `save_account()` to save your credentials in your local environment (see the [Set up your IBM Cloud account](/docs/guides/cloud-setup#cloud-save) guide). Note that this writes your credentials to the same file as [`QiskitRuntimeService.save_account()`](/docs/api/qiskit-ibm-runtime/qiskit-runtime-service#save_account):\n",
    "\n",
    "```python\n",
    "QiskitServerless.save_account(token=\"MY_TOKEN\")\n",
    "```\n",
    "\n",
    "If the account is saved, there is no need to provide the token to authenticate:"
   ]
  },
  {
   "cell_type": "code",
   "execution_count": 1,
   "id": "7393286a",
   "metadata": {},
   "outputs": [],
   "source": [
    "from qiskit_ibm_catalog import QiskitServerless\n",
    "\n",
    "# Authenticate to the remote cluster.\n",
    "# In this case, using the \"ibm_quantum_platform\" (IBM Cloud) channel\n",
    "serverless = QiskitServerless(channel=\"ibm_quantum_platform\")"
   ]
  },
  {
   "cell_type": "markdown",
   "id": "e1f99d80",
   "metadata": {
    "vscode": {
     "languageId": "plaintext"
    }
   },
   "source": [
    "## 2. Upload the custom function"
   ]
  },
  {
   "cell_type": "markdown",
   "id": "3e0e8cc8",
   "metadata": {
    "vscode": {
     "languageId": "plaintext"
    }
   },
   "source": [
    "To upload a custom Qiskit Function, you must first instantiate a `QiskitFunction` object that defines the function source code. The title will allow you to identify the function once it's in the remote cluster. The main entry point is the file that contains `if __name__ == \"__main__\"`. If your workflow requires additional source files, you can define a working directory that will be uploaded together with the entry point."
   ]
  },
  {
   "cell_type": "code",
   "execution_count": 2,
   "id": "77b2b9b6",
   "metadata": {},
   "outputs": [
    {
     "name": "stdout",
     "output_type": "stream",
     "text": [
      "QiskitFunction(sqd_pcm_template)\n"
     ]
    }
   ],
   "source": [
    "from qiskit_ibm_catalog import QiskitFunction\n",
    "\n",
    "template = QiskitFunction(\n",
    "    title=\"sqd_pcm_template\",\n",
    "    entrypoint=\"sqd_pcm_entrypoint.py\",\n",
    "    working_dir=\"./source_files/\",  # all files in this directory will be uploaded\n",
    ")\n",
    "print(template)"
   ]
  },
  {
   "cell_type": "markdown",
   "id": "72854f5a",
   "metadata": {},
   "source": [
    "Once the instance is ready, upload it to serverless:"
   ]
  },
  {
   "cell_type": "code",
   "execution_count": 3,
   "id": "59e7fdb5",
   "metadata": {},
   "outputs": [
    {
     "data": {
      "text/plain": [
       "QiskitFunction(sqd_pcm_template)"
      ]
     },
     "execution_count": 3,
     "metadata": {},
     "output_type": "execute_result"
    }
   ],
   "source": [
    "serverless.upload(template)"
   ]
  },
  {
   "cell_type": "markdown",
   "id": "ac7d8764",
   "metadata": {
    "vscode": {
     "languageId": "plaintext"
    }
   },
   "source": [
    "To check if the program successfully uploaded, use `serverless.list()`:"
   ]
  },
  {
   "cell_type": "code",
   "execution_count": 4,
   "id": "03a91030",
   "metadata": {},
   "outputs": [
    {
     "data": {
      "text/plain": [
       "[QiskitFunction(sqd_pcm_template),\n",
       " QiskitFunction(hamiltonian_simulation_template)]"
      ]
     },
     "execution_count": 4,
     "metadata": {},
     "output_type": "execute_result"
    }
   ],
   "source": [
    "serverless.list()"
   ]
  },
  {
   "cell_type": "markdown",
   "id": "99408586",
   "metadata": {},
   "source": [
    "## 3. Load and run the custom function remotely"
   ]
  },
  {
   "cell_type": "markdown",
   "id": "62b37d7a",
   "metadata": {},
   "source": [
    "\n",
    "The function template has been uploaded, so you can run it remotely with Qiskit Serverless. First, load the template by name:"
   ]
  },
  {
   "cell_type": "code",
   "execution_count": 5,
   "id": "854d12cf",
   "metadata": {},
   "outputs": [
    {
     "name": "stdout",
     "output_type": "stream",
     "text": [
      "QiskitFunction(sqd_pcm_template)\n"
     ]
    }
   ],
   "source": [
    "template = serverless.load(\"sqd_pcm_template\")\n",
    "print(template)"
   ]
  },
  {
   "cell_type": "markdown",
   "id": "fa2dc721",
   "metadata": {
    "vscode": {
     "languageId": "plaintext"
    }
   },
   "source": [
    "Next, run the template with the domain-level inputs for SQD-IEF PCM. This example specifies a methanol-based workload."
   ]
  },
  {
   "cell_type": "code",
   "execution_count": 6,
   "id": "a1719ab1",
   "metadata": {},
   "outputs": [],
   "source": [
    "molecule = {\n",
    "    \"atom\": \"\"\"\n",
    "    O -0.04559 -0.75076 -0.00000;\n",
    "    C -0.04844 0.65398 -0.00000;\n",
    "    H 0.85330 -1.05128 -0.00000;\n",
    "    H -1.08779 0.98076 -0.00000;\n",
    "    H 0.44171 1.06337 0.88811;\n",
    "    H 0.44171 1.06337 -0.88811\n",
    "    \"\"\",  # Must be specified\n",
    "    \"basis\": \"cc-pvdz\",  # default is \"sto-3g\"\n",
    "    \"spin\": 0,  # default is 0\n",
    "    \"charge\": 0,  # default is 0\n",
    "    \"verbosity\": 0,  # default is 0\n",
    "    \"number_of_active_orb\": 12,  # Must be specified\n",
    "    \"number_of_active_alpha_elec\": 7,  # Must be specified\n",
    "    \"number_of_active_beta_elec\": 7,  # Must be specified\n",
    "    \"avas_selection\": [\"%d O %s\" % (k, x) for k in [0] for x in [\"2s\", \"2px\", \"2py\", \"2pz\"]]\n",
    "    + [\"%d C %s\" % (k, x) for k in [1] for x in [\"2s\", \"2px\", \"2py\", \"2pz\"]]\n",
    "    + [\"%d H 1s\" % k for k in [2, 3, 4, 5]],  # default is None\n",
    "}\n",
    "\n",
    "solvent_options = {\n",
    "    \"method\": \"IEF-PCM\",  # other available methods are COSMO, C-PCM, SS(V)PE, see https://manual.q-chem.com/5.4/topic_pcm-em.html\n",
    "    \"eps\": 78.3553,  # value for water\n",
    "}\n",
    "\n",
    "lucj_options = {\n",
    "    \"initial_layout\": [\n",
    "        0,\n",
    "        14,\n",
    "        18,\n",
    "        19,\n",
    "        20,\n",
    "        33,\n",
    "        39,\n",
    "        40,\n",
    "        41,\n",
    "        53,\n",
    "        60,\n",
    "        61,\n",
    "        2,\n",
    "        3,\n",
    "        4,\n",
    "        15,\n",
    "        22,\n",
    "        23,\n",
    "        24,\n",
    "        34,\n",
    "        43,\n",
    "        44,\n",
    "        45,\n",
    "        54,\n",
    "    ],\n",
    "    \"dynamical_decoupling_choice\": True,\n",
    "    \"twirling_choice\": True,\n",
    "    \"number_of_shots\": 200000,\n",
    "    \"optimization_level\": 2,\n",
    "}\n",
    "\n",
    "sqd_options = {\n",
    "    \"sqd_iterations\": 3,\n",
    "    \"number_of_batches\": 10,\n",
    "    \"samples_per_batch\": 1000,\n",
    "    \"max_davidson_cycles\": 200,\n",
    "}\n",
    "\n",
    "backend_name = \"ibm_sherbrooke\""
   ]
  },
  {
   "cell_type": "code",
   "execution_count": 7,
   "id": "01c0667c",
   "metadata": {},
   "outputs": [
    {
     "name": "stdout",
     "output_type": "stream",
     "text": [
      "39f8fb70-79b2-43ca-b723-84e6b6135821\n"
     ]
    }
   ],
   "source": [
    "job = template.run(\n",
    "    backend_name=backend_name,\n",
    "    molecule=molecule,\n",
    "    solvent_options=solvent_options,\n",
    "    lucj_options=lucj_options,\n",
    "    sqd_options=sqd_options,\n",
    ")\n",
    "print(job.job_id)"
   ]
  },
  {
   "cell_type": "markdown",
   "id": "a9101a94",
   "metadata": {},
   "source": [
    "Check the detailed status of the job:"
   ]
  },
  {
   "cell_type": "code",
   "execution_count": 18,
   "id": "4385a34f",
   "metadata": {},
   "outputs": [
    {
     "name": "stdout",
     "output_type": "stream",
     "text": [
      "time = 2.35, status = DONE\n"
     ]
    }
   ],
   "source": [
    "import time\n",
    "\n",
    "t0 = time.time()\n",
    "status = job.status()\n",
    "if status == \"QUEUED\":\n",
    "    print(f\"time = {time.time()-t0:.2f}, status = QUEUED\")\n",
    "while True:\n",
    "    status = job.status()\n",
    "    if status == \"QUEUED\":\n",
    "        continue\n",
    "    print(f\"time = {time.time()-t0:.2f}, status = {status}\")\n",
    "    if status == \"DONE\" or status == \"ERROR\":\n",
    "        break"
   ]
  },
  {
   "cell_type": "markdown",
   "id": "4adc5293",
   "metadata": {},
   "source": [
    "After the job is running, you can fetch logs created from the `logger.info` outputs. These can provide actionable information about the progress of the SQD IEF-PCM workflow. For example, the same spin orbital connections, or the two-qubit depth of the final ISA circuit intended for execution on hardware."
   ]
  },
  {
   "cell_type": "code",
   "execution_count": null,
   "id": "a5b1f190",
   "metadata": {},
   "outputs": [],
   "source": [
    "print(job.logs())"
   ]
  },
  {
   "cell_type": "markdown",
   "id": "ba179114",
   "metadata": {},
   "source": [
    "Calling for the job result blocks the rest of the program until a result is available. After the job is done, you can retrieve the results. These include the solvation free energy, as well as information the lowest energy batch, lowest energy value, and other useful information such as the total solver duration."
   ]
  },
  {
   "cell_type": "code",
   "execution_count": 16,
   "id": "3500adce",
   "metadata": {},
   "outputs": [
    {
     "data": {
      "text/plain": [
       "{'total_energy_hist': array([[-115.14768518, -115.1368396 , -114.19181692, -115.13745429,\n",
       "         -115.1445012 , -114.19673326, -115.1547003 , -114.20563866,\n",
       "         -115.13748344, -115.14764974],\n",
       "        [-115.15768392, -115.15850126, -115.15857275, -115.15770916,\n",
       "         -115.15801684, -115.15822125, -115.15833521, -115.15844051,\n",
       "         -115.15735538, -115.15862354],\n",
       "        [-115.15795148, -115.15847925, -115.15856677, -115.15811156,\n",
       "         -115.15815602, -115.15785171, -115.1583672 , -115.1585533 ,\n",
       "         -115.15833528, -115.15808791]]),\n",
       " 'spin_squared_value_hist': array([[5.37327508e-03, 1.32981759e-02, 1.36214922e-02, 8.84413615e-03,\n",
       "         7.26723578e-03, 1.94875195e-02, 3.03153152e-03, 6.07543106e-03,\n",
       "         1.04951849e-02, 5.36529204e-03],\n",
       "        [6.39397528e-04, 1.36814350e-04, 9.09054260e-05, 5.99361358e-04,\n",
       "         3.64261739e-04, 2.54905866e-04, 2.32540370e-04, 1.53181990e-04,\n",
       "         7.23519739e-04, 6.80737671e-05],\n",
       "        [4.53776416e-04, 1.63043449e-04, 1.05317263e-04, 3.82912836e-04,\n",
       "         3.41047803e-04, 5.18620393e-04, 2.06819142e-04, 1.17086537e-04,\n",
       "         2.32357159e-04, 4.26071537e-04]]),\n",
       " 'solvation_free_energy_hist': array([[-0.00725018, -0.00743955, -0.01132905, -0.0073377 , -0.00722221,\n",
       "         -0.01136705, -0.00719279, -0.01072829, -0.00733404, -0.00725961],\n",
       "        [-0.00719252, -0.00718315, -0.00718074, -0.00719325, -0.00717703,\n",
       "         -0.00718391, -0.00718354, -0.00717928, -0.00719887, -0.0071801 ],\n",
       "        [-0.00719351, -0.00718255, -0.00718198, -0.00718429, -0.00718349,\n",
       "         -0.00718329, -0.0071882 , -0.00718363, -0.00718549, -0.00718814]]),\n",
       " 'occupancy_hist': [[array([0.99712298, 0.99278936, 0.99083163, 0.97328469, 0.98959809,\n",
       "          0.98922134, 0.720333  , 0.25683194, 0.01939338, 0.02840332,\n",
       "          0.00946988, 0.0327204 ]),\n",
       "   array([0.99712298, 0.99278936, 0.99083163, 0.97328469, 0.98959809,\n",
       "          0.98922134, 0.720333  , 0.25683194, 0.01939338, 0.02840332,\n",
       "          0.00946988, 0.0327204 ])],\n",
       "  [array([0.9959042 , 0.9922607 , 0.99018862, 0.99265843, 0.98927447,\n",
       "          0.9900833 , 0.99403876, 0.00989025, 0.01120814, 0.01137717,\n",
       "          0.01152871, 0.01158725]),\n",
       "   array([0.9959042 , 0.9922607 , 0.99018862, 0.99265843, 0.98927447,\n",
       "          0.9900833 , 0.99403876, 0.00989025, 0.01120814, 0.01137717,\n",
       "          0.01152871, 0.01158725])],\n",
       "  [array([0.99590079, 0.99222193, 0.99016753, 0.99265045, 0.98927264,\n",
       "          0.99007179, 0.99407207, 0.00986684, 0.01125181, 0.01141439,\n",
       "          0.01150733, 0.01160243]),\n",
       "   array([0.99590079, 0.99222193, 0.99016753, 0.99265045, 0.98927264,\n",
       "          0.99007179, 0.99407207, 0.00986684, 0.01125181, 0.01141439,\n",
       "          0.01150733, 0.01160243])]],\n",
       " 'lowest_energy_batch': 2,\n",
       " 'lowest_energy_value': -115.1585667736213,\n",
       " 'solvation_free_energy': -0.007181981952470838,\n",
       " 'sci_solver_total_duration': 493.997501373291,\n",
       " 'metadata': {'resources_usage': {'RUNNING: MAPPING': {'CPU_TIME': 6.080063343048096},\n",
       "   'RUNNING: OPTIMIZING_FOR_HARDWARE': {'CPU_TIME': 1.999896764755249},\n",
       "   'RUNNING: WAITING_FOR_QPU': {'CPU_TIME': 6.2850868701934814},\n",
       "   'RUNNING: EXECUTING_QPU': {'QPU_TIME': 21.639373540878296},\n",
       "   'RUNNING: POST_PROCESSING': {'CPU_TIME': 495.40831995010376}},\n",
       "  'num_iterations_executed': 3}}"
      ]
     },
     "execution_count": 16,
     "metadata": {},
     "output_type": "execute_result"
    }
   ],
   "source": [
    "result = job.result()\n",
    "\n",
    "result"
   ]
  },
  {
   "cell_type": "markdown",
   "id": "94a2c921",
   "metadata": {},
   "source": [
    "Note that the result metadata includes a resource usage summary that allows to better estimate the QPU and CPU time required for each workload (this example ran on a dummy device so actual resource usage times might differ).  "
   ]
  },
  {
   "cell_type": "markdown",
   "id": "49d0b26d",
   "metadata": {
    "vscode": {
     "languageId": "plaintext"
    }
   },
   "source": [
    "After the job completes, the entire logging output will be available."
   ]
  },
  {
   "cell_type": "code",
   "execution_count": 17,
   "id": "ddcba564",
   "metadata": {},
   "outputs": [
    {
     "name": "stdout",
     "output_type": "stream",
     "text": [
      "2025-06-27 08:42:41,358\tINFO job_manager.py:531 -- Runtime env is setting up.\n",
      "sqd_pcm_entrypoint.run_function:INFO:2025-06-27 08:42:45,015: Starting runtime service\n",
      "sqd_pcm_entrypoint.run_function:INFO:2025-06-27 08:42:45,621: Backend: test_eagle_us-east\n",
      "sqd_pcm_entrypoint.run_function:INFO:2025-06-27 08:42:46,809: Initializing molecule object\n",
      "sqd_pcm_entrypoint.run_function:INFO:2025-06-27 08:42:51,599: Performing CCSD\n",
      "Parsing /tmp/ray/session_2025-06-27_08-42-13_898146_1/runtime_resources/working_dir_files/_ray_pkg_4bc93dcc58c04b91/output_sqd_pcm/2025-06-27_08-42-45.fcidump.txt\n",
      "Overwritten attributes  get_ovlp get_hcore  of <class 'pyscf.scf.hf_symm.SymAdaptedRHF'>\n",
      "/usr/local/lib/python3.11/site-packages/pyscf/gto/mole.py:1293: UserWarning: Function mol.dumps drops attribute energy_nuc because it is not JSON-serializable\n",
      "  warnings.warn(msg)\n",
      "/usr/local/lib/python3.11/site-packages/pyscf/gto/mole.py:1293: UserWarning: Function mol.dumps drops attribute intor_symmetric because it is not JSON-serializable\n",
      "  warnings.warn(msg)\n",
      "converged SCF energy = -115.049680672847\n",
      "E(CCSD) = -115.1519910037652  E_corr = -0.1023103309180226\n",
      "sqd_pcm_entrypoint.run_function:INFO:2025-06-27 08:42:51,694: Same spin orbital connections: [(0, 1), (1, 2), (2, 3), (3, 4), (4, 5), (5, 6), (6, 7), (7, 8), (8, 9), (9, 10), (10, 11)]\n",
      "sqd_pcm_entrypoint.run_function:INFO:2025-06-27 08:42:51,694: Opposite spin orbital connections: [(0, 0), (4, 4), (8, 8)]\n",
      "sqd_pcm_entrypoint.run_function:INFO:2025-06-27 08:42:53,718: Optimization level: 2, ops: OrderedDict([('rz', 2438), ('sx', 1496), ('ecr', 766), ('x', 185), ('measure', 24), ('barrier', 1)]), depth: 391\n",
      "sqd_pcm_entrypoint.run_function:INFO:2025-06-27 08:42:53,736: Two-qubit gate depth: 94\n",
      "sqd_pcm_entrypoint.run_function:INFO:2025-06-27 08:42:53,737: Submitting sampler job\n",
      "sqd_pcm_entrypoint.run_function:INFO:2025-06-27 08:42:54,273: Job ID: d1f5j3lqbivc73ebqpj0\n",
      "sqd_pcm_entrypoint.run_function:INFO:2025-06-27 08:42:54,313: Job Status: QUEUED\n",
      "sqd_pcm_entrypoint.run_function:INFO:2025-06-27 08:43:24,813: Starting configuration recovery iteration 0\n",
      "sqd_pcm_entrypoint.run_function:INFO:2025-06-27 08:43:24,841: Batch 0 subspace dimension: 531441\n",
      "2025-06-27 08:43:24,844\tINFO worker.py:1588 -- Using address 172.17.16.124:6379 set in the environment variable RAY_ADDRESS\n",
      "2025-06-27 08:43:24,847\tINFO worker.py:1723 -- Connecting to existing Ray cluster at address: 172.17.16.124:6379...\n",
      "2025-06-27 08:43:24,876\tINFO worker.py:1908 -- Connected to Ray cluster. View the dashboard at \u001b[1m\u001b[32mhttp://172.17.16.124:8265 \u001b[39m\u001b[22m\n",
      "sqd_pcm_entrypoint.run_function:INFO:2025-06-27 08:43:24,945: Batch 1 subspace dimension: 519841\n",
      "sqd_pcm_entrypoint.run_function:INFO:2025-06-27 08:43:24,950: Batch 2 subspace dimension: 543169\n",
      "sqd_pcm_entrypoint.run_function:INFO:2025-06-27 08:43:24,955: Batch 3 subspace dimension: 532900\n",
      "sqd_pcm_entrypoint.run_function:INFO:2025-06-27 08:43:24,960: Batch 4 subspace dimension: 534361\n",
      "sqd_pcm_entrypoint.run_function:INFO:2025-06-27 08:43:24,964: Batch 5 subspace dimension: 531441\n",
      "sqd_pcm_entrypoint.run_function:INFO:2025-06-27 08:43:24,969: Batch 6 subspace dimension: 540225\n",
      "sqd_pcm_entrypoint.run_function:INFO:2025-06-27 08:43:24,974: Batch 7 subspace dimension: 524176\n",
      "sqd_pcm_entrypoint.run_function:INFO:2025-06-27 08:43:24,979: Batch 8 subspace dimension: 537289\n",
      "sqd_pcm_entrypoint.run_function:INFO:2025-06-27 08:43:24,983: Batch 9 subspace dimension: 540225\n",
      "sqd_pcm_entrypoint.run_function:INFO:2025-06-27 08:48:09,006: Lowest energy batch: 6\n",
      "sqd_pcm_entrypoint.run_function:INFO:2025-06-27 08:48:09,007: Lowest energy value: -115.15470029849135\n",
      "sqd_pcm_entrypoint.run_function:INFO:2025-06-27 08:48:09,007: Corresponding g_solv value: -0.0071927910374866375\n",
      "sqd_pcm_entrypoint.run_function:INFO:2025-06-27 08:48:09,007: -----------------------------------\n",
      "sqd_pcm_entrypoint.run_function:INFO:2025-06-27 08:48:09,007: Starting configuration recovery iteration 1\n",
      "sqd_pcm_entrypoint.run_function:INFO:2025-06-27 08:48:40,564: Batch 0 subspace dimension: 413449\n",
      "sqd_pcm_entrypoint.run_function:INFO:2025-06-27 08:48:40,572: Batch 1 subspace dimension: 399424\n",
      "sqd_pcm_entrypoint.run_function:INFO:2025-06-27 08:48:40,578: Batch 2 subspace dimension: 438244\n",
      "sqd_pcm_entrypoint.run_function:INFO:2025-06-27 08:48:40,583: Batch 3 subspace dimension: 422500\n",
      "sqd_pcm_entrypoint.run_function:INFO:2025-06-27 08:48:40,589: Batch 4 subspace dimension: 409600\n",
      "sqd_pcm_entrypoint.run_function:INFO:2025-06-27 08:48:40,596: Batch 5 subspace dimension: 404496\n",
      "sqd_pcm_entrypoint.run_function:INFO:2025-06-27 08:48:40,601: Batch 6 subspace dimension: 410881\n",
      "sqd_pcm_entrypoint.run_function:INFO:2025-06-27 08:48:40,605: Batch 7 subspace dimension: 442225\n",
      "sqd_pcm_entrypoint.run_function:INFO:2025-06-27 08:48:40,611: Batch 8 subspace dimension: 409600\n",
      "sqd_pcm_entrypoint.run_function:INFO:2025-06-27 08:48:40,618: Batch 9 subspace dimension: 405769\n",
      "sqd_pcm_entrypoint.run_function:INFO:2025-06-27 08:49:54,917: Lowest energy batch: 9\n",
      "sqd_pcm_entrypoint.run_function:INFO:2025-06-27 08:49:54,917: Lowest energy value: -115.15862353596414\n",
      "sqd_pcm_entrypoint.run_function:INFO:2025-06-27 08:49:54,917: Corresponding g_solv value: -0.0071800982859467006\n",
      "sqd_pcm_entrypoint.run_function:INFO:2025-06-27 08:49:54,918: -----------------------------------\n",
      "sqd_pcm_entrypoint.run_function:INFO:2025-06-27 08:49:54,918: Starting configuration recovery iteration 2\n",
      "sqd_pcm_entrypoint.run_function:INFO:2025-06-27 08:50:25,501: Batch 0 subspace dimension: 399424\n",
      "sqd_pcm_entrypoint.run_function:INFO:2025-06-27 08:50:25,508: Batch 1 subspace dimension: 412164\n",
      "sqd_pcm_entrypoint.run_function:INFO:2025-06-27 08:50:25,514: Batch 2 subspace dimension: 432964\n",
      "sqd_pcm_entrypoint.run_function:INFO:2025-06-27 08:50:25,519: Batch 3 subspace dimension: 400689\n",
      "sqd_pcm_entrypoint.run_function:INFO:2025-06-27 08:50:25,524: Batch 4 subspace dimension: 432964\n",
      "sqd_pcm_entrypoint.run_function:INFO:2025-06-27 08:50:25,529: Batch 5 subspace dimension: 418609\n",
      "sqd_pcm_entrypoint.run_function:INFO:2025-06-27 08:50:25,533: Batch 6 subspace dimension: 418609\n",
      "sqd_pcm_entrypoint.run_function:INFO:2025-06-27 08:50:25,538: Batch 7 subspace dimension: 425104\n",
      "sqd_pcm_entrypoint.run_function:INFO:2025-06-27 08:50:25,543: Batch 8 subspace dimension: 404496\n",
      "sqd_pcm_entrypoint.run_function:INFO:2025-06-27 08:50:25,548: Batch 9 subspace dimension: 429025\n",
      "sqd_pcm_entrypoint.run_function:INFO:2025-06-27 08:51:37,900: Lowest energy batch: 2\n",
      "sqd_pcm_entrypoint.run_function:INFO:2025-06-27 08:51:37,900: Lowest energy value: -115.1585667736213\n",
      "sqd_pcm_entrypoint.run_function:INFO:2025-06-27 08:51:37,901: Corresponding g_solv value: -0.007181981952470838\n",
      "sqd_pcm_entrypoint.run_function:INFO:2025-06-27 08:51:37,901: -----------------------------------\n",
      "sqd_pcm_entrypoint.run_function:INFO:2025-06-27 08:51:37,901: SCI_solver totally takes: 493.997501373291 seconds\n",
      "\n"
     ]
    }
   ],
   "source": [
    "print(job.logs())"
   ]
  }
 ],
 "metadata": {
  "kernelspec": {
   "display_name": "Python 3 (ipykernel)",
   "language": "python",
   "name": "python3"
  },
  "language_info": {
   "codemirror_mode": {
    "name": "ipython",
    "version": 3
   },
   "file_extension": ".py",
   "mimetype": "text/x-python",
   "name": "python",
   "nbconvert_exporter": "python",
   "pygments_lexer": "ipython3",
   "version": "3.11.9"
  }
 },
 "nbformat": 4,
 "nbformat_minor": 5
}
