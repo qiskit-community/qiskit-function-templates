{
 "cells": [
  {
   "cell_type": "markdown",
   "id": "8cfa587b",
   "metadata": {},
   "source": [
    "# Deploy and Run the SQD IEF-PCM Function Template"
   ]
  },
  {
   "cell_type": "markdown",
   "id": "48a7cab2",
   "metadata": {},
   "source": [
    "### *A project in collaboration with the Cleveland Clinic Foundation*"
   ]
  },
  {
   "cell_type": "markdown",
   "id": "01bdd609",
   "metadata": {
    "vscode": {
     "languageId": "plaintext"
    }
   },
   "source": [
    "This interactive guide shows how to upload the SQD IEF-PCM function template to Qiskit Serverless and run an example workload."
   ]
  },
  {
   "cell_type": "markdown",
   "id": "a0cb6f4a",
   "metadata": {
    "vscode": {
     "languageId": "plaintext"
    }
   },
   "source": [
    "### Requirements\n",
    "\n",
    "This guide was developed with the following package versions:\n",
    "\n",
    "```\n",
    "qiskit-ibm-catalog == 0.6.0\n",
    "qiskit-ibm-runtime == 0.39.0\n",
    "```"
   ]
  },
  {
   "cell_type": "markdown",
   "id": "f3a337d1",
   "metadata": {},
   "source": [
    "# Simulated molecular system\n",
    "\n",
    "\n",
    "In this tutorial we show how to calculate the ground state energy and solvation free energy of methanol molecule in implicit solvent using the SQD IEF-PCM method. Here the methanol molecule is the solute, the electron structure of which is simulated explicitly, and the solvent is water, approximated as a continuous dielectric medium. To account for the [electron correlation effects](https://onlinelibrary.wiley.com/doi/epdf/10.1002/ijch.202100111) in methanol, while maintaining the balance between the computational cost and accuracy, we only include the $\\sigma$, $\\sigma^{*}$, and lone pair orbitals in the active space simulated with SQD IEF-PCM. This orbital selection is done with [atomic valence active space (AVAS) method](https://github.com/pyscf/pyscf.github.io/blob/master/examples/mcscf/43-avas.py) using the C[2s,2p], O[2s,2p], and H[1s] atomic orbital components, which results in the active space of 14 electrons and 12 orbitals (14e,12o). The reference orbitals are calculated with closed-shell Hartree Fock using the cc-pvdz basis set."
   ]
  },
  {
   "cell_type": "markdown",
   "id": "4832ef18",
   "metadata": {},
   "source": [
    "# LUCJ options\n",
    "\n",
    "The initial step of SQD method is the execution of LUCJ quantum circuit, which sample a set of computational basis states from the probability distribution of the molecular system. To achieve the balance between the depth of the LUCJ circuit and it is expressibility the qubits corresponding to the spin orbitals with the opposite spin have the two-qubit gates applied between them only in instances when these qubits are neighboring each other through single ancilla qubit. To implement this approach on IBM hardware with a heavy-hex topology, qubits representing the spin orbitals with the same spin are connected through a line topology where each line take a zig-zag shape due the heavy-hex connectivity of the target hardware, while the qubits representing the spin orbitals with the opposite spin only have connection at every 4th qubit.\n",
    "\n",
    "The user has to provide the `initial_layout` array corresponding to the qubits that satisfy this [_zig-zag_ pattern](https://pubs.rsc.org/en/content/articlehtml/2023/sc/d3sc02516k) in the `lucj_options` section of the SQD IEF-PCM function. In case of SQD IEF-PCM (14e,12o)/cc-pvdz simulations of methanol we chose the initial qubit layout corresponding to the main diagonal of the Eagle R3 QPU. Here the first 12 elements of the `initial_layout` array `[0, 14, 18, 19, 20, 33, 39, 40, 41, 53, 60, 61, ...]` correspond to the alpha spin orbitals and the last 12 elements `[... 2, 3, 4, 15, 22, 23, 24, 34, 43, 44, 45, 54]` correspond to beta spin orbitals.\n",
    "\n",
    "Importantly, the user has to make a decision regarding the `number_of_shots` which corresponds to number of measurements in LUCJ circuit. The number of shots needs to be suefficiently large due to the fact that the first step of S-CORE procedure relies on the samples in the right particle sector to obtain the initial approximation to the ground-state occupation number distribution. \n",
    "\n",
    "The number of shots is highly system- and hardware-dependent, but [noncovalent](https://arxiv.org/abs/2410.09209), [fragment-based](https://arxiv.org/abs/2411.09861), and [implicit solvent](https://pubs.acs.org/doi/10.1021/acs.jpcb.5c01030) SQD studies sugget that one can reach the chemical accuracy using:\n",
    "\n",
    "- 20,000 - 200,000 shots for systems with less than 16 molecular orbitals (32 spin orbitals)\n",
    "- 200,000 shots for systems with 16 - 18 molecular orbitals\n",
    "- 200,000 - 2,000,000 shots for systems with more than 18 molecular orbitals\n",
    "\n",
    "The required number of shots will be affected not only by the number of spin orbitals in the studied system, but also by the size of the Hilbert space corresponding to the selected active space within the studied system. Generally instances with smaller Hilbert spaces will require fewer shots. Other LUCJ options available to the user are [circuit transpiler optimization level](https://docs.quantum.ibm.com/guides/set-optimization) and [error suppresion options](https://docs.quantum.ibm.com/guides/configure-error-suppression), where these options are also going to affect the required number of shots and the resulting accuracy."
   ]
  },
  {
   "cell_type": "markdown",
   "id": "e2b46498",
   "metadata": {},
   "source": [
    "# SQD options\n",
    "Most critical options in SQD simulations are the `sqd_iterations`, `number_of_batches`, and `samples_per_batch`. Generally, the lower number of samples per batch can be counteracted with more batches (`number_of_batches`) and more iterations of S-CORE (`sqd_iterations`). \n",
    "- More batches allow user to sample more variations of the configurational subspaces. Since the lowest-energy batch is taken as the solution for the ground state energy of the system, higher number of batches can improve the results through better statistics. \n",
    "- Additional iterations of S-CORE allow to recover more configurations from original LUCJ distribution if the number of samples in correct particle sector is low. This allows user to reduce the number of samples per batch.\n",
    "\n",
    "Alternative strategy is to use the higher number of samples per batch, which ensures that most of the initial LUCJ samples in right particle space are used during the S-CORE procedure and individual subspaces encapsulate suefficient variety of electron configurations. In turn, this reduces the number of required S-CORE steps, where only 2 or 3 iterations of SQD are needed if number of samples per batch is large enough. However, more samples per batch results in higher computational cost of each diagonalization step. Hence, the balance between the accuracy and computational cost in SQD simulations can be achieved through optimal choice of `sqd_iterations`, `number_of_batches`, and `samples_per_batch` options.\n",
    "\n",
    "The [SQD IEF-PCM study](https://pubs.acs.org/doi/10.1021/acs.jpcb.5c01030) shows that when 3 iterations of S-CORE are used the chemical accuracy can be reached with:\n",
    "\n",
    "- 600 samples per batch in methanol SQD IEF-PCM (14e,12o) simulations\n",
    "- 1500 samples per batch in methylamine SQD IEF-PCM (14e,13o) simulations\n",
    "- 6000 samples per batch in water SQD IEF-PCM (8e,23o) simulations\n",
    "- 16000 samples per batch in ethanol SQD IEF-PCM (20e,18o) simulations\n",
    "\n",
    "Just like the required number of shots in LUCJ, the required number of samples per batch used in S-CORE procedure is highly system- and hardware-dependent. The examples above can be used to estimate the initial point for the benchmark of required number of samples per batch. The tutorial on systematic benchmark of required number of sample per batch can be found [here](https://qiskit.github.io/qiskit-addon-sqd/how_tos/choose_subspace_dimension.html)."
   ]
  },
  {
   "cell_type": "markdown",
   "id": "998a0f25",
   "metadata": {},
   "source": [
    "## Steps in the execution of SQD IEF-PCM function"
   ]
  },
  {
   "cell_type": "markdown",
   "id": "6c92ac84",
   "metadata": {
    "vscode": {
     "languageId": "plaintext"
    }
   },
   "source": [
    "## 1. Autentication\n",
    "\n",
    "Use `qiskit-ibm-catalog` to authenticate to `QiskitServerless` with your API key (token), which you can find on the [IBM Quantum Platform](https://quantum.cloud.ibm.com) dashboard. This will allow you to locally instantiate the serverless client to upload or run the selected function:\n",
    "\n",
    "```python\n",
    "from qiskit_ibm_catalog import QiskitServerless\n",
    "serverless = QiskitServerless(token=\"MY_TOKEN\")\n",
    "```\n",
    "\n",
    "You can optionally use `save_account()` to save your credentials in your local environment (see the [Set up your IBM Cloud account](/docs/guides/cloud-setup#cloud-save) guide). Note that this writes your credentials to the same file as [`QiskitRuntimeService.save_account()`](/docs/api/qiskit-ibm-runtime/qiskit-runtime-service#save_account):\n",
    "\n",
    "```python\n",
    "QiskitServerless.save_account(token=\"MY_TOKEN\")\n",
    "```\n",
    "\n",
    "If the account is saved, there is no need to provide the token to authenticate:"
   ]
  },
  {
   "cell_type": "code",
   "execution_count": null,
   "id": "7393286a",
   "metadata": {},
   "outputs": [],
   "source": [
    "from qiskit_ibm_catalog import QiskitServerless\n",
    "\n",
    "# Authenticate to the remote cluster.\n",
    "# In this case, using the \"ibm_quantum_platform\" (IBM Cloud) channel\n",
    "serverless = QiskitServerless(channel=\"ibm_quantum_platform\")"
   ]
  },
  {
   "cell_type": "markdown",
   "id": "e1f99d80",
   "metadata": {
    "vscode": {
     "languageId": "plaintext"
    }
   },
   "source": [
    "## 2. Upload the custom function"
   ]
  },
  {
   "cell_type": "markdown",
   "id": "3e0e8cc8",
   "metadata": {
    "vscode": {
     "languageId": "plaintext"
    }
   },
   "source": [
    "To upload a custom Qiskit Function, you must first instantiate a `QiskitFunction` object that defines the function source code. The title will allow you to identify the function once it's in the remote cluster. The main entry point is the file that contains `if __name__ == \"__main__\"`. If your workflow requires additional source files, you can define a working directory that will be uploaded together with the entry point."
   ]
  },
  {
   "cell_type": "code",
   "execution_count": null,
   "id": "77b2b9b6",
   "metadata": {},
   "outputs": [
    {
     "name": "stdout",
     "output_type": "stream",
     "text": [
      "QiskitFunction(sqd_pcm_template)\n"
     ]
    }
   ],
   "source": [
    "from qiskit_ibm_catalog import QiskitFunction\n",
    "\n",
    "template = QiskitFunction(\n",
    "    title=\"sqd_pcm_template\",\n",
    "    entrypoint=\"sqd_pcm_entrypoint.py\",\n",
    "    working_dir=\"./source_files/\",  # all files in this directory will be uploaded\n",
    ")\n",
    "print(template)"
   ]
  },
  {
   "cell_type": "markdown",
   "id": "72854f5a",
   "metadata": {},
   "source": [
    "Once the instance is ready, upload it to serverless:"
   ]
  },
  {
   "cell_type": "code",
   "execution_count": 3,
   "id": "59e7fdb5",
   "metadata": {},
   "outputs": [
    {
     "data": {
      "text/plain": [
       "QiskitFunction(sqd_pcm_template)"
      ]
     },
     "execution_count": 3,
     "metadata": {},
     "output_type": "execute_result"
    }
   ],
   "source": [
    "serverless.upload(template)"
   ]
  },
  {
   "cell_type": "markdown",
   "id": "ac7d8764",
   "metadata": {
    "vscode": {
     "languageId": "plaintext"
    }
   },
   "source": [
    "To check if the program successfully uploaded, use `serverless.list()`:"
   ]
  },
  {
   "cell_type": "code",
   "execution_count": 4,
   "id": "03a91030",
   "metadata": {},
   "outputs": [
    {
     "data": {
      "text/plain": [
       "[QiskitFunction(template_hamiltonian_simulation),\n",
       " QiskitFunction(hamiltonian_simulation_template),\n",
       " QiskitFunction(sqd_pcm_template)]"
      ]
     },
     "execution_count": 4,
     "metadata": {},
     "output_type": "execute_result"
    }
   ],
   "source": [
    "serverless.list()"
   ]
  },
  {
   "cell_type": "markdown",
   "id": "99408586",
   "metadata": {},
   "source": [
    "## 3. Load and run the custom function remotely"
   ]
  },
  {
   "cell_type": "markdown",
   "id": "62b37d7a",
   "metadata": {},
   "source": [
    "\n",
    "The function template has been uploaded, so you can run it remotely with Qiskit Serverless. First, load the template by name:"
   ]
  },
  {
   "cell_type": "code",
   "execution_count": 5,
   "id": "854d12cf",
   "metadata": {},
   "outputs": [
    {
     "name": "stdout",
     "output_type": "stream",
     "text": [
      "QiskitFunction(sqd_pcm_template)\n"
     ]
    }
   ],
   "source": [
    "template = serverless.load(\"sqd_pcm_template\")\n",
    "print(template)"
   ]
  },
  {
   "cell_type": "markdown",
   "id": "fa2dc721",
   "metadata": {
    "vscode": {
     "languageId": "plaintext"
    }
   },
   "source": [
    "Next, run the template with the domain-level inputs for SQD-IEF PCM. This example specifies a methanol-based workload."
   ]
  },
  {
   "cell_type": "code",
   "execution_count": null,
   "id": "a1719ab1",
   "metadata": {},
   "outputs": [],
   "source": [
    "molecule = {\n",
    "    \"atom\": \"\"\"\n",
    "    O -0.04559 -0.75076 -0.00000;\n",
    "    C -0.04844 0.65398 -0.00000;\n",
    "    H 0.85330 -1.05128 -0.00000;\n",
    "    H -1.08779 0.98076 -0.00000;\n",
    "    H 0.44171 1.06337 0.88811;\n",
    "    H 0.44171 1.06337 -0.88811\n",
    "    \"\"\",  # Must be specified\n",
    "    \"basis\": \"cc-pvdz\",  # default is \"sto-3g\"\n",
    "    \"spin\": 0,  # default is 0\n",
    "    \"charge\": 0,  # default is 0\n",
    "    \"verbosity\": 0,  # default is 0\n",
    "    \"number_of_active_orb\": 12,  # Must be specified\n",
    "    \"number_of_active_alpha_elec\": 7,  # Must be specified\n",
    "    \"number_of_active_beta_elec\": 7,  # Must be specified\n",
    "    \"avas_selection\": [\"%d O %s\" % (k, x) for k in [0] for x in [\"2s\", \"2px\", \"2py\", \"2pz\"]]\n",
    "    + [\"%d C %s\" % (k, x) for k in [1] for x in [\"2s\", \"2px\", \"2py\", \"2pz\"]]\n",
    "    + [\"%d H 1s\" % k for k in [2, 3, 4, 5]],  # default is None\n",
    "}\n",
    "\n",
    "solvent_options = {\n",
    "    \"method\": \"IEF-PCM\",  # other available methods are COSMO, C-PCM, SS(V)PE, see https://manual.q-chem.com/5.4/topic_pcm-em.html\n",
    "    \"eps\": 78.3553,  # value for water\n",
    "}\n",
    "\n",
    "lucj_options = {\n",
    "    \"initial_layout\": [\n",
    "        0,\n",
    "        14,\n",
    "        18,\n",
    "        19,\n",
    "        20,\n",
    "        33,\n",
    "        39,\n",
    "        40,\n",
    "        41,\n",
    "        53,\n",
    "        60,\n",
    "        61,\n",
    "        2,\n",
    "        3,\n",
    "        4,\n",
    "        15,\n",
    "        22,\n",
    "        23,\n",
    "        24,\n",
    "        34,\n",
    "        43,\n",
    "        44,\n",
    "        45,\n",
    "        54,\n",
    "    ],\n",
    "    \"dynamical_decoupling_choice\": True,\n",
    "    \"twirling_choice\": True,\n",
    "    \"number_of_shots\": 200000,\n",
    "    \"optimization_level\": 2,\n",
    "}\n",
    "\n",
    "sqd_options = {\n",
    "    \"sqd_iterations\": 3,\n",
    "    \"number_of_batches\": 10,\n",
    "    \"samples_per_batch\": 1000,\n",
    "    \"max_davidson_cycles\": 200,\n",
    "}\n",
    "\n",
    "backend_name = \"ibm_sherbrooke\""
   ]
  },
  {
   "cell_type": "code",
   "execution_count": 7,
   "id": "01c0667c",
   "metadata": {},
   "outputs": [
    {
     "name": "stdout",
     "output_type": "stream",
     "text": [
      "1e6836ed-e1d1-41bf-9907-6e4a1d583228\n"
     ]
    }
   ],
   "source": [
    "job = template.run(\n",
    "    backend_name=backend_name,\n",
    "    molecule=molecule,\n",
    "    solvent_options=solvent_options,\n",
    "    lucj_options=lucj_options,\n",
    "    sqd_options=sqd_options,\n",
    ")\n",
    "print(job.job_id)"
   ]
  },
  {
   "cell_type": "markdown",
   "id": "a9101a94",
   "metadata": {},
   "source": [
    "Check the detailed status of the job:"
   ]
  },
  {
   "cell_type": "code",
   "execution_count": 8,
   "id": "4385a34f",
   "metadata": {},
   "outputs": [
    {
     "name": "stdout",
     "output_type": "stream",
     "text": [
      "time = 2.71, status = QUEUED\n",
      "time = 49.66, status = INITIALIZING\n",
      "time = 52.51, status = RUNNING\n",
      "time = 55.39, status = RUNNING\n",
      "time = 58.26, status = RUNNING\n",
      "time = 61.14, status = RUNNING: MAPPING\n",
      "time = 63.89, status = RUNNING: MAPPING\n",
      "time = 66.80, status = RUNNING: OPTIMIZING_FOR_HARDWARE\n",
      "time = 69.52, status = RUNNING: OPTIMIZING_FOR_HARDWARE\n",
      "time = 72.14, status = RUNNING: OPTIMIZING_FOR_HARDWARE\n",
      "time = 74.85, status = RUNNING: OPTIMIZING_FOR_HARDWARE\n",
      "time = 77.51, status = RUNNING: WAITING_FOR_QPU\n",
      "time = 80.16, status = RUNNING: WAITING_FOR_QPU\n",
      "time = 82.94, status = RUNNING: WAITING_FOR_QPU\n",
      "time = 85.60, status = RUNNING: EXECUTING_QPU\n",
      "time = 88.35, status = RUNNING: EXECUTING_QPU\n",
      "time = 91.03, status = RUNNING: EXECUTING_QPU\n",
      "time = 93.69, status = RUNNING: EXECUTING_QPU\n",
      "time = 96.66, status = RUNNING: EXECUTING_QPU\n",
      "time = 99.17, status = RUNNING: EXECUTING_QPU\n",
      "time = 101.90, status = RUNNING: EXECUTING_QPU\n",
      "time = 104.44, status = RUNNING: EXECUTING_QPU\n",
      "time = 106.94, status = RUNNING: EXECUTING_QPU\n",
      "time = 109.67, status = RUNNING: EXECUTING_QPU\n",
      "time = 112.54, status = RUNNING: EXECUTING_QPU\n",
      "time = 115.20, status = RUNNING: EXECUTING_QPU\n",
      "time = 117.95, status = RUNNING: EXECUTING_QPU\n",
      "time = 120.63, status = RUNNING: POST_PROCESSING\n",
      "time = 123.29, status = RUNNING: POST_PROCESSING\n",
      "time = 126.18, status = RUNNING: POST_PROCESSING\n",
      "time = 128.77, status = RUNNING: POST_PROCESSING\n",
      "time = 131.59, status = RUNNING: POST_PROCESSING\n",
      "time = 134.24, status = RUNNING: POST_PROCESSING\n",
      "time = 136.92, status = RUNNING: POST_PROCESSING\n",
      "time = 139.66, status = RUNNING: POST_PROCESSING\n",
      "time = 142.33, status = RUNNING: POST_PROCESSING\n",
      "time = 144.99, status = RUNNING: POST_PROCESSING\n",
      "time = 147.85, status = RUNNING: POST_PROCESSING\n",
      "time = 150.54, status = RUNNING: POST_PROCESSING\n",
      "time = 153.39, status = RUNNING: POST_PROCESSING\n",
      "time = 156.16, status = RUNNING: POST_PROCESSING\n",
      "time = 159.43, status = RUNNING: POST_PROCESSING\n",
      "time = 162.13, status = RUNNING: POST_PROCESSING\n",
      "time = 164.66, status = RUNNING: POST_PROCESSING\n",
      "time = 167.52, status = RUNNING: POST_PROCESSING\n",
      "time = 170.32, status = RUNNING: POST_PROCESSING\n",
      "time = 173.26, status = RUNNING: POST_PROCESSING\n",
      "time = 175.68, status = RUNNING: POST_PROCESSING\n",
      "time = 178.32, status = RUNNING: POST_PROCESSING\n",
      "time = 180.99, status = RUNNING: POST_PROCESSING\n",
      "time = 183.60, status = RUNNING: POST_PROCESSING\n",
      "time = 186.36, status = RUNNING: POST_PROCESSING\n",
      "time = 189.03, status = RUNNING: POST_PROCESSING\n",
      "time = 191.52, status = RUNNING: POST_PROCESSING\n",
      "time = 193.92, status = RUNNING: POST_PROCESSING\n",
      "time = 196.42, status = RUNNING: POST_PROCESSING\n",
      "time = 199.00, status = RUNNING: POST_PROCESSING\n",
      "time = 201.22, status = RUNNING: POST_PROCESSING\n",
      "time = 203.68, status = RUNNING: POST_PROCESSING\n",
      "time = 206.13, status = RUNNING: POST_PROCESSING\n",
      "time = 208.82, status = RUNNING: POST_PROCESSING\n",
      "time = 211.13, status = RUNNING: POST_PROCESSING\n",
      "time = 213.84, status = RUNNING: POST_PROCESSING\n",
      "time = 216.68, status = DONE\n"
     ]
    }
   ],
   "source": [
    "import time\n",
    "\n",
    "t0 = time.time()\n",
    "status = job.status()\n",
    "if status == \"QUEUED\":\n",
    "    print(f\"time = {time.time()-t0:.2f}, status = QUEUED\")\n",
    "while True:\n",
    "    status = job.status()\n",
    "    if status == \"QUEUED\":\n",
    "        continue\n",
    "    print(f\"time = {time.time()-t0:.2f}, status = {status}\")\n",
    "    if status == \"DONE\" or status == \"ERROR\":\n",
    "        break"
   ]
  },
  {
   "cell_type": "markdown",
   "id": "4adc5293",
   "metadata": {},
   "source": [
    "After the job is running, you can fetch logs created from the `logger.info` outputs. These can provide actionable information about the progress of the SQD IEF-PCM workflow. For example, the same spin orbital connections, or the two-qubit depth of the final ISA circuit intended for execution on hardware."
   ]
  },
  {
   "cell_type": "code",
   "execution_count": 9,
   "id": "a5b1f190",
   "metadata": {},
   "outputs": [
    {
     "name": "stdout",
     "output_type": "stream",
     "text": [
      "2025-05-26 09:57:56,161\tINFO job_manager.py:531 -- Runtime env is setting up.\n",
      "sqd_pcm.run_function:INFO:2025-05-26 09:57:59,795: Starting runtime service\n",
      "/tmp/ray/session_2025-05-26_09-57-21_142935_1/runtime_resources/working_dir_files/_ray_pkg_55e7bea908fa951d/sqd_pcm.py:176: DeprecationWarning: The \"ibm_quantum\" channel option is deprecated and will be sunset on 1 July. After this date, ibm_cloud will be the only valid channel. For information on migrating to the new IBM Quantum Platform on the \"ibm_cloud\" channel, review the migration guide https://quantum.cloud.ibm.com/docs/migration-guides/classic-iqp-to-cloud-iqp .\n",
      "  service = QiskitRuntimeService(channel=\"ibm_quantum\")\n",
      "sqd_pcm.run_function:INFO:2025-05-26 09:58:07,188: Backend: test_eagle_eu-de\n",
      "sqd_pcm.run_function:INFO:2025-05-26 09:58:09,882: Initializing molecule object\n",
      "sqd_pcm.run_function:INFO:2025-05-26 09:58:14,657: Performing CCSD\n",
      "Parsing /tmp/ray/session_2025-05-26_09-57-21_142935_1/runtime_resources/working_dir_files/_ray_pkg_55e7bea908fa951d/output_sqd_pcm/2025-05-26_09-57-59.fcidump.txt\n",
      "Overwritten attributes  get_hcore get_ovlp  of <class 'pyscf.scf.hf_symm.SymAdaptedRHF'>\n",
      "/usr/local/lib/python3.11/site-packages/pyscf/gto/mole.py:1293: UserWarning: Function mol.dumps drops attribute energy_nuc because it is not JSON-serializable\n",
      "  warnings.warn(msg)\n",
      "/usr/local/lib/python3.11/site-packages/pyscf/gto/mole.py:1293: UserWarning: Function mol.dumps drops attribute intor_symmetric because it is not JSON-serializable\n",
      "  warnings.warn(msg)\n",
      "converged SCF energy = -115.049680672847\n",
      "E(CCSD) = -115.1519910037652  E_corr = -0.1023103309180226\n",
      "sqd_pcm.run_function:INFO:2025-05-26 09:58:14,755: Same spin orbital connections: [(0, 1), (1, 2), (2, 3), (3, 4), (4, 5), (5, 6), (6, 7), (7, 8), (8, 9), (9, 10), (10, 11)]\n",
      "sqd_pcm.run_function:INFO:2025-05-26 09:58:14,755: Opposite spin orbital connections: [(0, 0), (4, 4), (8, 8)]\n",
      "sqd_pcm.run_function:INFO:2025-05-26 09:58:20,759: Optimization level: 2, ops: OrderedDict([('rz', 2392), ('sx', 1500), ('ecr', 766), ('x', 205), ('measure', 24), ('barrier', 1)]), depth: 391\n",
      "sqd_pcm.run_function:INFO:2025-05-26 09:58:20,775: Two-qubit gate depth: 94\n",
      "sqd_pcm.run_function:INFO:2025-05-26 09:58:20,775: Submitting sampler job\n",
      "sqd_pcm.run_function:INFO:2025-05-26 09:58:24,157: Job ID: d0t3pfhhtw7g008pdzr0\n",
      "sqd_pcm.run_function:INFO:2025-05-26 09:58:24,924: Job Status: QUEUED\n",
      "sqd_pcm.run_function:INFO:2025-05-26 09:59:11,767: Starting configuration recovery iteration 0\n",
      "sqd_pcm.run_function:INFO:2025-05-26 09:59:11,787: Batch 0 subspace dimension: 522729\n",
      "2025-05-26 09:59:11,790\tINFO worker.py:1554 -- Using address 172.17.20.180:6379 set in the environment variable RAY_ADDRESS\n",
      "2025-05-26 09:59:11,790\tINFO worker.py:1694 -- Connecting to existing Ray cluster at address: 172.17.20.180:6379...\n",
      "2025-05-26 09:59:11,807\tINFO worker.py:1879 -- Connected to Ray cluster. View the dashboard at \u001b[1m\u001b[32mhttp://172.17.20.180:8265 \u001b[39m\u001b[22m\n",
      "sqd_pcm.run_function:INFO:2025-05-26 09:59:11,891: Batch 1 subspace dimension: 531441\n",
      "sqd_pcm.run_function:INFO:2025-05-26 09:59:11,897: Batch 2 subspace dimension: 541696\n",
      "sqd_pcm.run_function:INFO:2025-05-26 09:59:11,902: Batch 3 subspace dimension: 518400\n",
      "sqd_pcm.run_function:INFO:2025-05-26 09:59:11,908: Batch 4 subspace dimension: 524176\n",
      "sqd_pcm.run_function:INFO:2025-05-26 09:59:11,913: Batch 5 subspace dimension: 546121\n",
      "sqd_pcm.run_function:INFO:2025-05-26 09:59:11,918: Batch 6 subspace dimension: 527076\n",
      "sqd_pcm.run_function:INFO:2025-05-26 09:59:11,923: Batch 7 subspace dimension: 524176\n",
      "sqd_pcm.run_function:INFO:2025-05-26 09:59:11,928: Batch 8 subspace dimension: 528529\n",
      "sqd_pcm.run_function:INFO:2025-05-26 09:59:11,932: Batch 9 subspace dimension: 537289\n",
      "sqd_pcm.run_function:INFO:2025-05-26 10:00:39,113: Lowest energy batch: 0\n",
      "sqd_pcm.run_function:INFO:2025-05-26 10:00:39,113: Lowest energy value: -115.15548493266616\n",
      "sqd_pcm.run_function:INFO:2025-05-26 10:00:39,113: Corresponding g_solv value: -0.007209519012376919\n",
      "sqd_pcm.run_function:INFO:2025-05-26 10:00:39,113: -----------------------------------\n",
      "sqd_pcm.run_function:INFO:2025-05-26 10:00:39,113: SCI_solver totally takes: 88.3695559501648 seconds\n",
      "\n"
     ]
    }
   ],
   "source": [
    "print(job.logs())"
   ]
  },
  {
   "cell_type": "markdown",
   "id": "ba179114",
   "metadata": {},
   "source": [
    "Block the rest of the program until a result is available. After the job is done, you can retrieve the results. These include the solvation free energy, as well as information the lowest energy batch, lowest energy value, and other useful information such as the total solver duration."
   ]
  },
  {
   "cell_type": "code",
   "execution_count": 10,
   "id": "3500adce",
   "metadata": {},
   "outputs": [
    {
     "data": {
      "text/plain": [
       "{'total_energy_hist': array([[-115.15548493, -115.13955725, -115.15426454, -115.14788647,\n",
       "         -115.15229591, -115.13567555, -115.14745245, -115.1536914 ,\n",
       "         -115.14707309, -115.13919278],\n",
       "        [   0.        ,    0.        ,    0.        ,    0.        ,\n",
       "            0.        ,    0.        ,    0.        ,    0.        ,\n",
       "            0.        ,    0.        ],\n",
       "        [   0.        ,    0.        ,    0.        ,    0.        ,\n",
       "            0.        ,    0.        ,    0.        ,    0.        ,\n",
       "            0.        ,    0.        ]]),\n",
       " 'spin_squared_value_hist': array([[0.00157949, 0.01062468, 0.00265349, 0.00574479, 0.00363319,\n",
       "         0.01664176, 0.00630241, 0.00267848, 0.00682895, 0.00807113],\n",
       "        [0.        , 0.        , 0.        , 0.        , 0.        ,\n",
       "         0.        , 0.        , 0.        , 0.        , 0.        ],\n",
       "        [0.        , 0.        , 0.        , 0.        , 0.        ,\n",
       "         0.        , 0.        , 0.        , 0.        , 0.        ]]),\n",
       " 'solvation_free_energy_hist': array([[-0.00720952, -0.00717077, -0.00716135, -0.00740082, -0.00718355,\n",
       "         -0.00734671, -0.0071847 , -0.0073811 , -0.00723519, -0.00727392],\n",
       "        [ 0.        ,  0.        ,  0.        ,  0.        ,  0.        ,\n",
       "          0.        ,  0.        ,  0.        ,  0.        ,  0.        ],\n",
       "        [ 0.        ,  0.        ,  0.        ,  0.        ,  0.        ,\n",
       "          0.        ,  0.        ,  0.        ,  0.        ,  0.        ]]),\n",
       " 'occupancy_hist': [[array([0.99630765, 0.99325273, 0.9912707 , 0.99365614, 0.99021473,\n",
       "          0.99182259, 0.99465929, 0.00888163, 0.00954213, 0.0100523 ,\n",
       "          0.01006338, 0.01027671]),\n",
       "   array([0.99630765, 0.99325273, 0.9912707 , 0.99365614, 0.99021473,\n",
       "          0.99182259, 0.99465929, 0.00888163, 0.00954213, 0.0100523 ,\n",
       "          0.01006338, 0.01027671])]],\n",
       " 'lowest_energy_batch': 0,\n",
       " 'lowest_energy_value': -115.15548493266616,\n",
       " 'solvation_free_energy': -0.007209519012376919,\n",
       " 'sci_solver_total_duration': 88.3695559501648,\n",
       " 'metadata': {'resources_usage': {'RUNNING: MAPPING': {'CPU_TIME': 7.57373046875},\n",
       "   'RUNNING: OPTIMIZING_FOR_HARDWARE': {'CPU_TIME': 5.982495069503784},\n",
       "   'RUNNING: WAITING_FOR_QPU': {'CPU_TIME': 8.278266191482544},\n",
       "   'RUNNING: EXECUTING_QPU': {'QPU_TIME': 34.58044767379761},\n",
       "   'RUNNING: POST_PROCESSING': {'CPU_TIME': 91.08398342132568}}}}"
      ]
     },
     "execution_count": 10,
     "metadata": {},
     "output_type": "execute_result"
    }
   ],
   "source": [
    "result = job.result()\n",
    "\n",
    "result"
   ]
  },
  {
   "cell_type": "markdown",
   "id": "94a2c921",
   "metadata": {},
   "source": [
    "Note that the result metadata includes a resource usage summary that allows to better estimate the QPU and CPU time required for each workload (this example ran on a dummy device so actual resource usage times might differ).  "
   ]
  },
  {
   "cell_type": "markdown",
   "id": "49d0b26d",
   "metadata": {
    "vscode": {
     "languageId": "plaintext"
    }
   },
   "source": [
    "After the job completes, the entire logging output will be available."
   ]
  },
  {
   "cell_type": "code",
   "execution_count": 11,
   "id": "ddcba564",
   "metadata": {},
   "outputs": [
    {
     "name": "stdout",
     "output_type": "stream",
     "text": [
      "2025-05-26 09:57:56,161\tINFO job_manager.py:531 -- Runtime env is setting up.\n",
      "sqd_pcm.run_function:INFO:2025-05-26 09:57:59,795: Starting runtime service\n",
      "/tmp/ray/session_2025-05-26_09-57-21_142935_1/runtime_resources/working_dir_files/_ray_pkg_55e7bea908fa951d/sqd_pcm.py:176: DeprecationWarning: The \"ibm_quantum\" channel option is deprecated and will be sunset on 1 July. After this date, ibm_cloud will be the only valid channel. For information on migrating to the new IBM Quantum Platform on the \"ibm_cloud\" channel, review the migration guide https://quantum.cloud.ibm.com/docs/migration-guides/classic-iqp-to-cloud-iqp .\n",
      "  service = QiskitRuntimeService(channel=\"ibm_quantum\")\n",
      "sqd_pcm.run_function:INFO:2025-05-26 09:58:07,188: Backend: test_eagle_eu-de\n",
      "sqd_pcm.run_function:INFO:2025-05-26 09:58:09,882: Initializing molecule object\n",
      "sqd_pcm.run_function:INFO:2025-05-26 09:58:14,657: Performing CCSD\n",
      "Parsing /tmp/ray/session_2025-05-26_09-57-21_142935_1/runtime_resources/working_dir_files/_ray_pkg_55e7bea908fa951d/output_sqd_pcm/2025-05-26_09-57-59.fcidump.txt\n",
      "Overwritten attributes  get_hcore get_ovlp  of <class 'pyscf.scf.hf_symm.SymAdaptedRHF'>\n",
      "/usr/local/lib/python3.11/site-packages/pyscf/gto/mole.py:1293: UserWarning: Function mol.dumps drops attribute energy_nuc because it is not JSON-serializable\n",
      "  warnings.warn(msg)\n",
      "/usr/local/lib/python3.11/site-packages/pyscf/gto/mole.py:1293: UserWarning: Function mol.dumps drops attribute intor_symmetric because it is not JSON-serializable\n",
      "  warnings.warn(msg)\n",
      "converged SCF energy = -115.049680672847\n",
      "E(CCSD) = -115.1519910037652  E_corr = -0.1023103309180226\n",
      "sqd_pcm.run_function:INFO:2025-05-26 09:58:14,755: Same spin orbital connections: [(0, 1), (1, 2), (2, 3), (3, 4), (4, 5), (5, 6), (6, 7), (7, 8), (8, 9), (9, 10), (10, 11)]\n",
      "sqd_pcm.run_function:INFO:2025-05-26 09:58:14,755: Opposite spin orbital connections: [(0, 0), (4, 4), (8, 8)]\n",
      "sqd_pcm.run_function:INFO:2025-05-26 09:58:20,759: Optimization level: 2, ops: OrderedDict([('rz', 2392), ('sx', 1500), ('ecr', 766), ('x', 205), ('measure', 24), ('barrier', 1)]), depth: 391\n",
      "sqd_pcm.run_function:INFO:2025-05-26 09:58:20,775: Two-qubit gate depth: 94\n",
      "sqd_pcm.run_function:INFO:2025-05-26 09:58:20,775: Submitting sampler job\n",
      "sqd_pcm.run_function:INFO:2025-05-26 09:58:24,157: Job ID: d0t3pfhhtw7g008pdzr0\n",
      "sqd_pcm.run_function:INFO:2025-05-26 09:58:24,924: Job Status: QUEUED\n",
      "sqd_pcm.run_function:INFO:2025-05-26 09:59:11,767: Starting configuration recovery iteration 0\n",
      "sqd_pcm.run_function:INFO:2025-05-26 09:59:11,787: Batch 0 subspace dimension: 522729\n",
      "2025-05-26 09:59:11,790\tINFO worker.py:1554 -- Using address 172.17.20.180:6379 set in the environment variable RAY_ADDRESS\n",
      "2025-05-26 09:59:11,790\tINFO worker.py:1694 -- Connecting to existing Ray cluster at address: 172.17.20.180:6379...\n",
      "2025-05-26 09:59:11,807\tINFO worker.py:1879 -- Connected to Ray cluster. View the dashboard at \u001b[1m\u001b[32mhttp://172.17.20.180:8265 \u001b[39m\u001b[22m\n",
      "sqd_pcm.run_function:INFO:2025-05-26 09:59:11,891: Batch 1 subspace dimension: 531441\n",
      "sqd_pcm.run_function:INFO:2025-05-26 09:59:11,897: Batch 2 subspace dimension: 541696\n",
      "sqd_pcm.run_function:INFO:2025-05-26 09:59:11,902: Batch 3 subspace dimension: 518400\n",
      "sqd_pcm.run_function:INFO:2025-05-26 09:59:11,908: Batch 4 subspace dimension: 524176\n",
      "sqd_pcm.run_function:INFO:2025-05-26 09:59:11,913: Batch 5 subspace dimension: 546121\n",
      "sqd_pcm.run_function:INFO:2025-05-26 09:59:11,918: Batch 6 subspace dimension: 527076\n",
      "sqd_pcm.run_function:INFO:2025-05-26 09:59:11,923: Batch 7 subspace dimension: 524176\n",
      "sqd_pcm.run_function:INFO:2025-05-26 09:59:11,928: Batch 8 subspace dimension: 528529\n",
      "sqd_pcm.run_function:INFO:2025-05-26 09:59:11,932: Batch 9 subspace dimension: 537289\n",
      "sqd_pcm.run_function:INFO:2025-05-26 10:00:39,113: Lowest energy batch: 0\n",
      "sqd_pcm.run_function:INFO:2025-05-26 10:00:39,113: Lowest energy value: -115.15548493266616\n",
      "sqd_pcm.run_function:INFO:2025-05-26 10:00:39,113: Corresponding g_solv value: -0.007209519012376919\n",
      "sqd_pcm.run_function:INFO:2025-05-26 10:00:39,113: -----------------------------------\n",
      "sqd_pcm.run_function:INFO:2025-05-26 10:00:39,113: SCI_solver totally takes: 88.3695559501648 seconds\n",
      "\n"
     ]
    }
   ],
   "source": [
    "print(job.logs())"
   ]
  }
 ],
 "metadata": {
  "kernelspec": {
   "display_name": ".venv_hamsim",
   "language": "python",
   "name": "python3"
  },
  "language_info": {
   "codemirror_mode": {
    "name": "ipython",
    "version": 3
   },
   "file_extension": ".py",
   "mimetype": "text/x-python",
   "name": "python",
   "nbconvert_exporter": "python",
   "pygments_lexer": "ipython3",
   "version": "3.11.9"
  }
 },
 "nbformat": 4,
 "nbformat_minor": 5
}
