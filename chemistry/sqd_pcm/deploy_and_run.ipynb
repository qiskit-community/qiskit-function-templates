{
 "cells": [
  {
   "cell_type": "markdown",
   "id": "8cfa587b",
   "metadata": {},
   "source": [
    "# Deploy and Run the SQD IEF-PCM Function Template"
   ]
  },
  {
   "cell_type": "markdown",
   "id": "48a7cab2",
   "metadata": {},
   "source": [
    "### *A project in collaboration with the Cleveland Clinic Foundation*"
   ]
  },
  {
   "cell_type": "markdown",
   "id": "01bdd609",
   "metadata": {
    "vscode": {
     "languageId": "plaintext"
    }
   },
   "source": [
    "This interactive guide shows how to upload the SQD IEF-PCM function template to Qiskit Serverless and run an example workload."
   ]
  },
  {
   "cell_type": "markdown",
   "id": "a0cb6f4a",
   "metadata": {
    "vscode": {
     "languageId": "plaintext"
    }
   },
   "source": [
    "### Requirements\n",
    "\n",
    "This guide was last run with the following package versions:"
   ]
  },
  {
   "cell_type": "code",
   "execution_count": 1,
   "id": "582fd62d-70bc-48cf-a368-b8d0be333155",
   "metadata": {},
   "outputs": [
    {
     "name": "stdout",
     "output_type": "stream",
     "text": [
      "qiskit-ibm-catalog:  0.8.0\n",
      "qiskit-ibm-runtime:  0.40.1\n"
     ]
    }
   ],
   "source": [
    "from qiskit_ibm_catalog import __version__ as catalog_version\n",
    "from qiskit_ibm_runtime import __version__ as runtime_version\n",
    "\n",
    "print(\"qiskit-ibm-catalog: \", catalog_version)\n",
    "print(\"qiskit-ibm-runtime: \", runtime_version)"
   ]
  },
  {
   "cell_type": "markdown",
   "id": "f3a337d1",
   "metadata": {},
   "source": [
    "## Simulated molecular system\n",
    "\n",
    "\n",
    "In this tutorial we show how to calculate the ground state energy and solvation free energy of methanol molecule in implicit solvent using the SQD IEF-PCM method. Here the methanol molecule is the solute, the electron structure of which is simulated explicitly, and the solvent is water, approximated as a continuous dielectric medium. To account for the [electron correlation effects](https://onlinelibrary.wiley.com/doi/epdf/10.1002/ijch.202100111) in methanol, while maintaining the balance between the computational cost and accuracy, we only include the $\\sigma$, $\\sigma^{*}$, and lone pair orbitals in the active space simulated with SQD IEF-PCM. This orbital selection is done with [atomic valence active space (AVAS) method](https://github.com/pyscf/pyscf.github.io/blob/master/examples/mcscf/43-avas.py) using the C[2s,2p], O[2s,2p], and H[1s] atomic orbital components, which results in the active space of 14 electrons and 12 orbitals (14e,12o). The reference orbitals are calculated with closed-shell Hartree Fock using the cc-pvdz basis set."
   ]
  },
  {
   "cell_type": "markdown",
   "id": "4832ef18",
   "metadata": {},
   "source": [
    "## LUCJ options\n",
    "\n",
    "The initial step of SQD method is the execution of LUCJ quantum circuit, which sample a set of computational basis states from the probability distribution of the molecular system. To achieve the balance between the depth of the LUCJ circuit and it is expressibility the qubits corresponding to the spin orbitals with the opposite spin have the two-qubit gates applied between them only in instances when these qubits are neighboring each other through single ancilla qubit. To implement this approach on IBM hardware with a heavy-hex topology, qubits representing the spin orbitals with the same spin are connected through a line topology where each line take a zig-zag shape due the heavy-hex connectivity of the target hardware, while the qubits representing the spin orbitals with the opposite spin only have connection at every 4th qubit.\n",
    "\n",
    "The user has to provide the `initial_layout` array corresponding to the qubits that satisfy this [_zig-zag_ pattern](https://pubs.rsc.org/en/content/articlehtml/2023/sc/d3sc02516k) in the `lucj_options` section of the SQD IEF-PCM function. In case of SQD IEF-PCM (14e,12o)/cc-pvdz simulations of methanol we chose the initial qubit layout corresponding to the main diagonal of the Eagle R3 QPU. Here the first 12 elements of the `initial_layout` array `[0, 14, 18, 19, 20, 33, 39, 40, 41, 53, 60, 61, ...]` correspond to the alpha spin orbitals and the last 12 elements `[... 2, 3, 4, 15, 22, 23, 24, 34, 43, 44, 45, 54]` correspond to beta spin orbitals.\n",
    "\n",
    "Importantly, the user has to make a decision regarding the `number_of_shots` which corresponds to number of measurements in LUCJ circuit. The number of shots needs to be suefficiently large due to the fact that the first step of S-CORE procedure relies on the samples in the right particle sector to obtain the initial approximation to the ground-state occupation number distribution. \n",
    "\n",
    "The number of shots is highly system- and hardware-dependent, but [noncovalent](https://arxiv.org/abs/2410.09209), [fragment-based](https://arxiv.org/abs/2411.09861), and [implicit solvent](https://pubs.acs.org/doi/10.1021/acs.jpcb.5c01030) SQD studies sugget that one can reach the chemical accuracy using:\n",
    "\n",
    "- 20,000 - 200,000 shots for systems with less than 16 molecular orbitals (32 spin orbitals)\n",
    "- 200,000 shots for systems with 16 - 18 molecular orbitals\n",
    "- 200,000 - 2,000,000 shots for systems with more than 18 molecular orbitals\n",
    "\n",
    "The required number of shots will be affected not only by the number of spin orbitals in the studied system, but also by the size of the Hilbert space corresponding to the selected active space within the studied system. Generally instances with smaller Hilbert spaces will require fewer shots. Other LUCJ options available to the user are [circuit transpiler optimization level](https://docs.quantum.ibm.com/guides/set-optimization) and [error suppresion options](https://docs.quantum.ibm.com/guides/configure-error-suppression), where these options are also going to affect the required number of shots and the resulting accuracy."
   ]
  },
  {
   "cell_type": "markdown",
   "id": "e2b46498",
   "metadata": {},
   "source": [
    "## SQD options\n",
    "Most critical options in SQD simulations are the `sqd_iterations`, `number_of_batches`, and `samples_per_batch`. Generally, the lower number of samples per batch can be counteracted with more batches (`number_of_batches`) and more iterations of S-CORE (`sqd_iterations`). \n",
    "- More batches allow user to sample more variations of the configurational subspaces. Since the lowest-energy batch is taken as the solution for the ground state energy of the system, higher number of batches can improve the results through better statistics. \n",
    "- Additional iterations of S-CORE allow to recover more configurations from original LUCJ distribution if the number of samples in correct particle sector is low. This allows user to reduce the number of samples per batch.\n",
    "\n",
    "Alternative strategy is to use the higher number of samples per batch, which ensures that most of the initial LUCJ samples in right particle space are used during the S-CORE procedure and individual subspaces encapsulate suefficient variety of electron configurations. In turn, this reduces the number of required S-CORE steps, where only 2 or 3 iterations of SQD are needed if number of samples per batch is large enough. However, more samples per batch results in higher computational cost of each diagonalization step. Hence, the balance between the accuracy and computational cost in SQD simulations can be achieved through optimal choice of `sqd_iterations`, `number_of_batches`, and `samples_per_batch` options.\n",
    "\n",
    "The [SQD IEF-PCM study](https://pubs.acs.org/doi/10.1021/acs.jpcb.5c01030) shows that when 3 iterations of S-CORE are used the chemical accuracy can be reached with:\n",
    "\n",
    "- 600 samples per batch in methanol SQD IEF-PCM (14e,12o) simulations\n",
    "- 1500 samples per batch in methylamine SQD IEF-PCM (14e,13o) simulations\n",
    "- 6000 samples per batch in water SQD IEF-PCM (8e,23o) simulations\n",
    "- 16000 samples per batch in ethanol SQD IEF-PCM (20e,18o) simulations\n",
    "\n",
    "Just like the required number of shots in LUCJ, the required number of samples per batch used in S-CORE procedure is highly system- and hardware-dependent. The examples above can be used to estimate the initial point for the benchmark of required number of samples per batch. The tutorial on systematic benchmark of required number of sample per batch can be found [here](https://qiskit.github.io/qiskit-addon-sqd/how_tos/choose_subspace_dimension.html)."
   ]
  },
  {
   "cell_type": "markdown",
   "id": "998a0f25",
   "metadata": {},
   "source": [
    "## Steps in the execution of SQD IEF-PCM function"
   ]
  },
  {
   "cell_type": "markdown",
   "id": "6c92ac84",
   "metadata": {
    "vscode": {
     "languageId": "plaintext"
    }
   },
   "source": [
    "## 1. Authentication\n",
    "\n",
    "Use `qiskit-ibm-catalog` to authenticate to `QiskitServerless` with your API key (token), which you can find on the [IBM Quantum Platform](https://quantum.cloud.ibm.com) dashboard. This will allow you to locally instantiate the serverless client to upload or run the selected function:\n",
    "\n",
    "```python\n",
    "from qiskit_ibm_catalog import QiskitServerless\n",
    "serverless = QiskitServerless(token=\"MY_TOKEN\")\n",
    "```\n",
    "\n",
    "You can optionally use `save_account()` to save your credentials in your local environment (see the [Set up your IBM Cloud account](/docs/guides/cloud-setup#cloud-save) guide). Note that this writes your credentials to the same file as [`QiskitRuntimeService.save_account()`](/docs/api/qiskit-ibm-runtime/qiskit-runtime-service#save_account):\n",
    "\n",
    "```python\n",
    "QiskitServerless.save_account(token=\"MY_TOKEN\")\n",
    "```\n",
    "\n",
    "If the account is saved, there is no need to provide the token to authenticate:"
   ]
  },
  {
   "cell_type": "code",
   "execution_count": 2,
   "id": "7393286a",
   "metadata": {},
   "outputs": [],
   "source": [
    "from qiskit_ibm_catalog import QiskitServerless\n",
    "\n",
    "# Authenticate to the remote cluster.\n",
    "# In this case, using the \"ibm_quantum_platform\" (IBM Cloud) channel\n",
    "serverless = QiskitServerless(channel=\"ibm_quantum_platform\")"
   ]
  },
  {
   "cell_type": "markdown",
   "id": "e1f99d80",
   "metadata": {
    "vscode": {
     "languageId": "plaintext"
    }
   },
   "source": [
    "## 2. Upload the custom function"
   ]
  },
  {
   "cell_type": "markdown",
   "id": "3e0e8cc8",
   "metadata": {
    "vscode": {
     "languageId": "plaintext"
    }
   },
   "source": [
    "To upload a custom Qiskit Function, you must first instantiate a `QiskitFunction` object that defines the function source code. The title will allow you to identify the function once it's in the remote cluster. The main entry point is the file that contains `if __name__ == \"__main__\"`. If your workflow requires additional source files, you can define a working directory that will be uploaded together with the entry point."
   ]
  },
  {
   "cell_type": "code",
   "execution_count": 3,
   "id": "77b2b9b6",
   "metadata": {},
   "outputs": [
    {
     "name": "stdout",
     "output_type": "stream",
     "text": [
      "QiskitFunction(sqd_pcm_template)\n"
     ]
    }
   ],
   "source": [
    "from qiskit_ibm_catalog import QiskitFunction\n",
    "\n",
    "template = QiskitFunction(\n",
    "    title=\"sqd_pcm_template\",\n",
    "    entrypoint=\"sqd_pcm_entrypoint.py\",\n",
    "    working_dir=\"./source_files/\",  # all files in this directory will be uploaded\n",
    ")\n",
    "print(template)"
   ]
  },
  {
   "cell_type": "markdown",
   "id": "72854f5a",
   "metadata": {},
   "source": [
    "Once the instance is ready, upload it to serverless:"
   ]
  },
  {
   "cell_type": "code",
   "execution_count": 4,
   "id": "59e7fdb5",
   "metadata": {},
   "outputs": [
    {
     "data": {
      "text/plain": [
       "QiskitFunction(sqd_pcm_template)"
      ]
     },
     "execution_count": 4,
     "metadata": {},
     "output_type": "execute_result"
    }
   ],
   "source": [
    "serverless.upload(template)"
   ]
  },
  {
   "cell_type": "markdown",
   "id": "ac7d8764",
   "metadata": {
    "vscode": {
     "languageId": "plaintext"
    }
   },
   "source": [
    "To check if the program successfully uploaded, use `serverless.list()`:"
   ]
  },
  {
   "cell_type": "code",
   "execution_count": 5,
   "id": "03a91030",
   "metadata": {},
   "outputs": [
    {
     "data": {
      "text/plain": [
       "[QiskitFunction(sqd_pcm_template),\n",
       " QiskitFunction(hamiltonian_simulation_template)]"
      ]
     },
     "execution_count": 5,
     "metadata": {},
     "output_type": "execute_result"
    }
   ],
   "source": [
    "serverless.list()"
   ]
  },
  {
   "cell_type": "markdown",
   "id": "99408586",
   "metadata": {},
   "source": [
    "## 3. Load and run the custom function remotely"
   ]
  },
  {
   "cell_type": "markdown",
   "id": "62b37d7a",
   "metadata": {},
   "source": [
    "\n",
    "The function template has been uploaded, so you can run it remotely with Qiskit Serverless. First, load the template by name:"
   ]
  },
  {
   "cell_type": "code",
   "execution_count": 7,
   "id": "854d12cf",
   "metadata": {},
   "outputs": [
    {
     "name": "stdout",
     "output_type": "stream",
     "text": [
      "QiskitFunction(sqd_pcm_template)\n"
     ]
    }
   ],
   "source": [
    "template = serverless.load(\"sqd_pcm_template\")\n",
    "print(template)"
   ]
  },
  {
   "cell_type": "markdown",
   "id": "fa2dc721",
   "metadata": {
    "vscode": {
     "languageId": "plaintext"
    }
   },
   "source": [
    "Next, run the template with the domain-level inputs for SQD-IEF PCM. This example specifies a methanol-based workload."
   ]
  },
  {
   "cell_type": "code",
   "execution_count": 8,
   "id": "a1719ab1",
   "metadata": {},
   "outputs": [],
   "source": [
    "molecule = {\n",
    "    \"atom\": \"\"\"\n",
    "    O -0.04559 -0.75076 -0.00000;\n",
    "    C -0.04844 0.65398 -0.00000;\n",
    "    H 0.85330 -1.05128 -0.00000;\n",
    "    H -1.08779 0.98076 -0.00000;\n",
    "    H 0.44171 1.06337 0.88811;\n",
    "    H 0.44171 1.06337 -0.88811\n",
    "    \"\"\",  # Must be specified\n",
    "    \"basis\": \"cc-pvdz\",  # default is \"sto-3g\"\n",
    "    \"spin\": 0,  # default is 0\n",
    "    \"charge\": 0,  # default is 0\n",
    "    \"verbosity\": 0,  # default is 0\n",
    "    \"number_of_active_orb\": 12,  # Must be specified\n",
    "    \"number_of_active_alpha_elec\": 7,  # Must be specified\n",
    "    \"number_of_active_beta_elec\": 7,  # Must be specified\n",
    "    \"avas_selection\": [\"%d O %s\" % (k, x) for k in [0] for x in [\"2s\", \"2px\", \"2py\", \"2pz\"]]\n",
    "    + [\"%d C %s\" % (k, x) for k in [1] for x in [\"2s\", \"2px\", \"2py\", \"2pz\"]]\n",
    "    + [\"%d H 1s\" % k for k in [2, 3, 4, 5]],  # default is None\n",
    "}\n",
    "\n",
    "solvent_options = {\n",
    "    \"method\": \"IEF-PCM\",  # other available methods are COSMO, C-PCM, SS(V)PE, see https://manual.q-chem.com/5.4/topic_pcm-em.html\n",
    "    \"eps\": 78.3553,  # value for water\n",
    "}\n",
    "\n",
    "lucj_options = {\n",
    "    \"initial_layout\": [\n",
    "        0,\n",
    "        14,\n",
    "        18,\n",
    "        19,\n",
    "        20,\n",
    "        33,\n",
    "        39,\n",
    "        40,\n",
    "        41,\n",
    "        53,\n",
    "        60,\n",
    "        61,\n",
    "        2,\n",
    "        3,\n",
    "        4,\n",
    "        15,\n",
    "        22,\n",
    "        23,\n",
    "        24,\n",
    "        34,\n",
    "        43,\n",
    "        44,\n",
    "        45,\n",
    "        54,\n",
    "    ],\n",
    "    \"dynamical_decoupling_choice\": True,\n",
    "    \"twirling_choice\": True,\n",
    "    \"number_of_shots\": 200000,\n",
    "    \"optimization_level\": 2,\n",
    "}\n",
    "\n",
    "sqd_options = {\n",
    "    \"sqd_iterations\": 3,\n",
    "    \"number_of_batches\": 10,\n",
    "    \"samples_per_batch\": 1000,\n",
    "    \"max_davidson_cycles\": 200,\n",
    "}\n",
    "\n",
    "backend_name = \"ibm_fez\""
   ]
  },
  {
   "cell_type": "code",
   "execution_count": 9,
   "id": "01c0667c",
   "metadata": {},
   "outputs": [
    {
     "name": "stdout",
     "output_type": "stream",
     "text": [
      "a577144f-1e15-4d44-aba4-66323c51d42a\n"
     ]
    }
   ],
   "source": [
    "job = template.run(\n",
    "    backend_name=backend_name,\n",
    "    molecule=molecule,\n",
    "    solvent_options=solvent_options,\n",
    "    lucj_options=lucj_options,\n",
    "    sqd_options=sqd_options,\n",
    ")\n",
    "print(job.job_id)"
   ]
  },
  {
   "cell_type": "markdown",
   "id": "a9101a94",
   "metadata": {},
   "source": [
    "Check the detailed status of the job:"
   ]
  },
  {
   "cell_type": "code",
   "execution_count": 12,
   "id": "4385a34f",
   "metadata": {},
   "outputs": [
    {
     "name": "stdout",
     "output_type": "stream",
     "text": [
      "time = 2.34, status = RUNNING: POST_PROCESSING\n",
      "time = 3.45, status = RUNNING: POST_PROCESSING\n",
      "time = 4.59, status = RUNNING: POST_PROCESSING\n",
      "time = 5.65, status = RUNNING: POST_PROCESSING\n",
      "time = 6.75, status = RUNNING: POST_PROCESSING\n",
      "time = 8.09, status = RUNNING: POST_PROCESSING\n",
      "time = 9.39, status = RUNNING: POST_PROCESSING\n",
      "time = 10.57, status = RUNNING: POST_PROCESSING\n",
      "time = 11.81, status = RUNNING: POST_PROCESSING\n",
      "time = 12.97, status = RUNNING: POST_PROCESSING\n",
      "time = 14.10, status = RUNNING: POST_PROCESSING\n",
      "time = 15.47, status = RUNNING: POST_PROCESSING\n",
      "time = 16.72, status = RUNNING: POST_PROCESSING\n",
      "time = 17.75, status = RUNNING: POST_PROCESSING\n",
      "time = 19.00, status = RUNNING: POST_PROCESSING\n",
      "time = 19.98, status = RUNNING: POST_PROCESSING\n",
      "time = 21.04, status = RUNNING: POST_PROCESSING\n",
      "time = 22.39, status = RUNNING: POST_PROCESSING\n",
      "time = 23.72, status = RUNNING: POST_PROCESSING\n",
      "time = 24.77, status = RUNNING: POST_PROCESSING\n",
      "time = 25.98, status = RUNNING: POST_PROCESSING\n",
      "time = 26.96, status = RUNNING: POST_PROCESSING\n",
      "time = 28.23, status = RUNNING: POST_PROCESSING\n",
      "time = 29.48, status = RUNNING: POST_PROCESSING\n",
      "time = 30.58, status = RUNNING: POST_PROCESSING\n",
      "time = 31.71, status = RUNNING: POST_PROCESSING\n",
      "time = 32.71, status = RUNNING: POST_PROCESSING\n",
      "time = 33.86, status = RUNNING: POST_PROCESSING\n",
      "time = 34.86, status = RUNNING: POST_PROCESSING\n",
      "time = 35.93, status = RUNNING: POST_PROCESSING\n",
      "time = 37.11, status = RUNNING: POST_PROCESSING\n",
      "time = 38.19, status = RUNNING: POST_PROCESSING\n",
      "time = 40.90, status = RUNNING: POST_PROCESSING\n",
      "time = 42.06, status = RUNNING: POST_PROCESSING\n",
      "time = 43.23, status = RUNNING: POST_PROCESSING\n",
      "time = 44.40, status = RUNNING: POST_PROCESSING\n",
      "time = 45.53, status = RUNNING: POST_PROCESSING\n",
      "time = 46.56, status = RUNNING: POST_PROCESSING\n",
      "time = 47.68, status = RUNNING: POST_PROCESSING\n",
      "time = 49.02, status = RUNNING: POST_PROCESSING\n",
      "time = 50.24, status = RUNNING: POST_PROCESSING\n",
      "time = 51.43, status = RUNNING: POST_PROCESSING\n",
      "time = 52.50, status = RUNNING: POST_PROCESSING\n",
      "time = 53.88, status = RUNNING: POST_PROCESSING\n",
      "time = 54.99, status = RUNNING: POST_PROCESSING\n",
      "time = 55.97, status = RUNNING: POST_PROCESSING\n",
      "time = 57.01, status = RUNNING: POST_PROCESSING\n",
      "time = 58.18, status = RUNNING: POST_PROCESSING\n",
      "time = 59.30, status = RUNNING: POST_PROCESSING\n",
      "time = 62.09, status = RUNNING: POST_PROCESSING\n",
      "time = 63.13, status = RUNNING: POST_PROCESSING\n",
      "time = 64.26, status = RUNNING: POST_PROCESSING\n",
      "time = 65.24, status = RUNNING: POST_PROCESSING\n",
      "time = 66.35, status = RUNNING: POST_PROCESSING\n",
      "time = 67.41, status = RUNNING: POST_PROCESSING\n",
      "time = 68.40, status = RUNNING: POST_PROCESSING\n",
      "time = 69.61, status = RUNNING: POST_PROCESSING\n",
      "time = 70.71, status = RUNNING: POST_PROCESSING\n",
      "time = 71.90, status = RUNNING: POST_PROCESSING\n",
      "time = 73.09, status = RUNNING: POST_PROCESSING\n",
      "time = 74.19, status = RUNNING: POST_PROCESSING\n",
      "time = 75.11, status = RUNNING: POST_PROCESSING\n",
      "time = 76.25, status = RUNNING: POST_PROCESSING\n",
      "time = 77.38, status = RUNNING: POST_PROCESSING\n",
      "time = 78.36, status = RUNNING: POST_PROCESSING\n",
      "time = 79.49, status = RUNNING: POST_PROCESSING\n",
      "time = 80.64, status = RUNNING: POST_PROCESSING\n",
      "time = 81.65, status = RUNNING: POST_PROCESSING\n",
      "time = 82.75, status = RUNNING: POST_PROCESSING\n",
      "time = 83.83, status = RUNNING: POST_PROCESSING\n",
      "time = 84.91, status = RUNNING: POST_PROCESSING\n",
      "time = 87.52, status = RUNNING: POST_PROCESSING\n",
      "time = 88.54, status = RUNNING: POST_PROCESSING\n",
      "time = 89.57, status = RUNNING: POST_PROCESSING\n",
      "time = 90.64, status = RUNNING: POST_PROCESSING\n",
      "time = 91.72, status = DONE\n"
     ]
    }
   ],
   "source": [
    "import time\n",
    "\n",
    "t0 = time.time()\n",
    "status = job.status()\n",
    "if status == \"QUEUED\":\n",
    "    print(f\"time = {time.time()-t0:.2f}, status = QUEUED\")\n",
    "while True:\n",
    "    status = job.status()\n",
    "    if status == \"QUEUED\":\n",
    "        continue\n",
    "    print(f\"time = {time.time()-t0:.2f}, status = {status}\")\n",
    "    if status == \"DONE\" or status == \"ERROR\":\n",
    "        break"
   ]
  },
  {
   "cell_type": "markdown",
   "id": "4adc5293",
   "metadata": {},
   "source": [
    "After the job is running, you can fetch logs created from the `logger.info` outputs. These can provide actionable information about the progress of the SQD IEF-PCM workflow. For example, the same spin orbital connections, or the two-qubit depth of the final ISA circuit intended for execution on hardware."
   ]
  },
  {
   "cell_type": "code",
   "execution_count": 11,
   "id": "a5b1f190",
   "metadata": {},
   "outputs": [
    {
     "name": "stdout",
     "output_type": "stream",
     "text": [
      "2025-07-14 08:28:38,074\tINFO job_manager.py:531 -- Runtime env is setting up.\n",
      "sqd_pcm_entrypoint.run_function:INFO:2025-07-14 08:28:41,505: Starting runtime service\n",
      "sqd_pcm_entrypoint.run_function:INFO:2025-07-14 08:28:42,180: Backend: ibm_fez\n",
      "sqd_pcm_entrypoint.run_function:INFO:2025-07-14 08:28:43,440: Initializing molecule object\n",
      "sqd_pcm_entrypoint.run_function:INFO:2025-07-14 08:28:47,975: Performing CCSD\n",
      "Parsing /tmp/ray/session_2025-07-14_08-28-02_794158_1/runtime_resources/working_dir_files/_ray_pkg_e8ea5f747420cd65/output_sqd_pcm/2025-07-14_08-28-41.fcidump.txt\n",
      "Overwritten attributes  get_ovlp get_hcore  of <class 'pyscf.scf.hf_symm.SymAdaptedRHF'>\n",
      "/usr/local/lib/python3.11/site-packages/pyscf/gto/mole.py:1293: UserWarning: Function mol.dumps drops attribute energy_nuc because it is not JSON-serializable\n",
      "  warnings.warn(msg)\n",
      "/usr/local/lib/python3.11/site-packages/pyscf/gto/mole.py:1293: UserWarning: Function mol.dumps drops attribute intor_symmetric because it is not JSON-serializable\n",
      "  warnings.warn(msg)\n",
      "converged SCF energy = -115.049680672847\n",
      "E(CCSD) = -115.1519910037652  E_corr = -0.1023103309180226\n",
      "sqd_pcm_entrypoint.run_function:INFO:2025-07-14 08:28:48,075: Same spin orbital connections: [(0, 1), (1, 2), (2, 3), (3, 4), (4, 5), (5, 6), (6, 7), (7, 8), (8, 9), (9, 10), (10, 11)]\n",
      "sqd_pcm_entrypoint.run_function:INFO:2025-07-14 08:28:48,075: Opposite spin orbital connections: [(0, 0), (4, 4), (8, 8)]\n",
      "sqd_pcm_entrypoint.run_function:INFO:2025-07-14 08:28:49,932: Optimization level: 2, ops: OrderedDict([('sx', 3308), ('cz', 1683), ('rz', 1570), ('x', 225), ('measure', 24), ('barrier', 1)]), depth: 1072\n",
      "sqd_pcm_entrypoint.run_function:INFO:2025-07-14 08:28:49,955: Two-qubit gate depth: 412\n",
      "sqd_pcm_entrypoint.run_function:INFO:2025-07-14 08:28:49,955: Submitting sampler job\n",
      "sqd_pcm_entrypoint.run_function:INFO:2025-07-14 08:28:50,668: Job ID: d1qbvgn6d0hc73b9bku0\n",
      "sqd_pcm_entrypoint.run_function:INFO:2025-07-14 08:28:50,714: Job Status: QUEUED\n",
      "sqd_pcm_entrypoint.run_function:INFO:2025-07-14 08:31:22,019: Starting configuration recovery iteration 0\n",
      "sqd_pcm_entrypoint.run_function:INFO:2025-07-14 08:31:22,040: Batch 0 subspace dimension: 543169\n",
      "2025-07-14 08:31:22,041\tINFO worker.py:1588 -- Using address 172.17.26.134:6379 set in the environment variable RAY_ADDRESS\n",
      "2025-07-14 08:31:22,044\tINFO worker.py:1723 -- Connecting to existing Ray cluster at address: 172.17.26.134:6379...\n",
      "2025-07-14 08:31:22,070\tINFO worker.py:1908 -- Connected to Ray cluster. View the dashboard at \u001b[1m\u001b[32mhttp://172.17.26.134:8265 \u001b[39m\u001b[22m\n",
      "sqd_pcm_entrypoint.run_function:INFO:2025-07-14 08:31:22,124: Batch 1 subspace dimension: 527076\n",
      "sqd_pcm_entrypoint.run_function:INFO:2025-07-14 08:31:22,130: Batch 2 subspace dimension: 521284\n",
      "sqd_pcm_entrypoint.run_function:INFO:2025-07-14 08:31:22,135: Batch 3 subspace dimension: 541696\n",
      "sqd_pcm_entrypoint.run_function:INFO:2025-07-14 08:31:22,140: Batch 4 subspace dimension: 521284\n",
      "sqd_pcm_entrypoint.run_function:INFO:2025-07-14 08:31:22,144: Batch 5 subspace dimension: 525625\n",
      "sqd_pcm_entrypoint.run_function:INFO:2025-07-14 08:31:22,148: Batch 6 subspace dimension: 527076\n",
      "sqd_pcm_entrypoint.run_function:INFO:2025-07-14 08:31:22,153: Batch 7 subspace dimension: 546121\n",
      "sqd_pcm_entrypoint.run_function:INFO:2025-07-14 08:31:22,157: Batch 8 subspace dimension: 535824\n",
      "sqd_pcm_entrypoint.run_function:INFO:2025-07-14 08:31:22,162: Batch 9 subspace dimension: 528529\n",
      "sqd_pcm_entrypoint.run_function:INFO:2025-07-14 08:32:49,185: Lowest energy batch: 4\n",
      "sqd_pcm_entrypoint.run_function:INFO:2025-07-14 08:32:49,185: Lowest energy value: -115.1578612654444\n",
      "sqd_pcm_entrypoint.run_function:INFO:2025-07-14 08:32:49,186: Corresponding g_solv value: -0.007191015237342331\n",
      "sqd_pcm_entrypoint.run_function:INFO:2025-07-14 08:32:49,186: -----------------------------------\n",
      "sqd_pcm_entrypoint.run_function:INFO:2025-07-14 08:32:49,186: Starting configuration recovery iteration 1\n",
      "sqd_pcm_entrypoint.run_function:INFO:2025-07-14 08:33:18,157: Batch 0 subspace dimension: 407044\n",
      "sqd_pcm_entrypoint.run_function:INFO:2025-07-14 08:33:18,163: Batch 1 subspace dimension: 425104\n",
      "sqd_pcm_entrypoint.run_function:INFO:2025-07-14 08:33:18,168: Batch 2 subspace dimension: 417316\n",
      "sqd_pcm_entrypoint.run_function:INFO:2025-07-14 08:33:18,173: Batch 3 subspace dimension: 427716\n",
      "sqd_pcm_entrypoint.run_function:INFO:2025-07-14 08:33:18,177: Batch 4 subspace dimension: 421201\n",
      "sqd_pcm_entrypoint.run_function:INFO:2025-07-14 08:33:18,181: Batch 5 subspace dimension: 403225\n",
      "sqd_pcm_entrypoint.run_function:INFO:2025-07-14 08:33:18,186: Batch 6 subspace dimension: 393129\n",
      "sqd_pcm_entrypoint.run_function:INFO:2025-07-14 08:33:18,190: Batch 7 subspace dimension: 413449\n",
      "sqd_pcm_entrypoint.run_function:INFO:2025-07-14 08:33:18,194: Batch 8 subspace dimension: 430336\n",
      "sqd_pcm_entrypoint.run_function:INFO:2025-07-14 08:33:18,198: Batch 9 subspace dimension: 423801\n",
      "sqd_pcm_entrypoint.run_function:INFO:2025-07-14 08:34:28,245: Lowest energy batch: 3\n",
      "sqd_pcm_entrypoint.run_function:INFO:2025-07-14 08:34:28,245: Lowest energy value: -115.15860886155777\n",
      "sqd_pcm_entrypoint.run_function:INFO:2025-07-14 08:34:28,245: Corresponding g_solv value: -0.007181726802226919\n",
      "sqd_pcm_entrypoint.run_function:INFO:2025-07-14 08:34:28,245: -----------------------------------\n",
      "sqd_pcm_entrypoint.run_function:INFO:2025-07-14 08:34:28,245: Starting configuration recovery iteration 2\n",
      "\n"
     ]
    }
   ],
   "source": [
    "print(job.logs())"
   ]
  },
  {
   "cell_type": "markdown",
   "id": "ba179114",
   "metadata": {},
   "source": [
    "Calling for the job result blocks the rest of the program until a result is available. After the job is done, you can retrieve the results. These include the solvation free energy, as well as information the lowest energy batch, lowest energy value, and other useful information such as the total solver duration."
   ]
  },
  {
   "cell_type": "code",
   "execution_count": 13,
   "id": "3500adce",
   "metadata": {},
   "outputs": [
    {
     "data": {
      "text/plain": [
       "{'total_energy_hist': array([[-115.12866182, -115.14439311, -115.14341091, -115.14003601,\n",
       "         -115.15786127, -115.1567217 , -115.15396679, -115.15079686,\n",
       "         -115.14406666, -115.13964113],\n",
       "        [-115.15842057, -115.15844941, -115.15817731, -115.15860886,\n",
       "         -115.15846443, -115.15807044, -115.15859041, -115.15842169,\n",
       "         -115.15858672, -115.15844354],\n",
       "        [-115.15844893, -115.15838286, -115.15792637, -115.15832141,\n",
       "         -115.15851298, -115.15828064, -115.15863061, -115.1585097 ,\n",
       "         -115.15847643, -115.15811927]]),\n",
       " 'spin_squared_value_hist': array([[1.68425553e-02, 7.67191900e-03, 7.49732529e-03, 9.07440436e-03,\n",
       "         4.80783289e-04, 1.26656966e-03, 2.86328659e-03, 3.52401737e-03,\n",
       "         5.90965241e-03, 6.01501319e-03],\n",
       "        [1.83194619e-04, 1.68221210e-04, 3.38281284e-04, 7.90560679e-05,\n",
       "         1.70421714e-04, 3.77262946e-04, 8.70689375e-05, 1.92348307e-04,\n",
       "         8.77906786e-05, 1.58004294e-04],\n",
       "        [1.69246342e-04, 2.07256847e-04, 4.62781633e-04, 1.98610402e-04,\n",
       "         1.32380840e-04, 2.99839577e-04, 6.68249957e-05, 1.24269416e-04,\n",
       "         1.38153376e-04, 3.92421362e-04]]),\n",
       " 'solvation_free_energy_hist': array([[-0.00754674, -0.0072824 , -0.00738773, -0.00722599, -0.00719102,\n",
       "         -0.00720398, -0.00725197, -0.00743239, -0.00720217, -0.0074643 ],\n",
       "        [-0.00718329, -0.00718446, -0.00718005, -0.00718173, -0.00718233,\n",
       "         -0.00717767, -0.00718169, -0.00718405, -0.00718005, -0.0071828 ],\n",
       "        [-0.00717912, -0.00718492, -0.00719343, -0.00719345, -0.00718335,\n",
       "         -0.0071853 , -0.00718017, -0.00718284, -0.00718265, -0.00718059]]),\n",
       " 'occupancy_hist': [[array([0.99628925, 0.99312349, 0.99177171, 0.99319702, 0.99035733,\n",
       "          0.99189362, 0.99517281, 0.00841284, 0.01005628, 0.00975924,\n",
       "          0.01002408, 0.00994233]),\n",
       "   array([0.99628925, 0.99312349, 0.99177171, 0.99319702, 0.99035733,\n",
       "          0.99189362, 0.99517281, 0.00841284, 0.01005628, 0.00975924,\n",
       "          0.01002408, 0.00994233])],\n",
       "  [array([0.9958966 , 0.99220797, 0.99014582, 0.99260999, 0.98923423,\n",
       "          0.99004534, 0.99405122, 0.00988755, 0.01126901, 0.01146066,\n",
       "          0.01157783, 0.01161376]),\n",
       "   array([0.9958966 , 0.99220797, 0.99014582, 0.99260999, 0.98923423,\n",
       "          0.99004534, 0.99405122, 0.00988755, 0.01126901, 0.01146066,\n",
       "          0.01157783, 0.01161376])],\n",
       "  [array([0.99588652, 0.99220852, 0.99015606, 0.99262851, 0.98927659,\n",
       "          0.99006442, 0.9940633 , 0.00987948, 0.01125324, 0.01142295,\n",
       "          0.01154825, 0.01161214]),\n",
       "   array([0.99588652, 0.99220852, 0.99015606, 0.99262851, 0.98927659,\n",
       "          0.99006442, 0.9940633 , 0.00987948, 0.01125324, 0.01142295,\n",
       "          0.01154825, 0.01161214])]],\n",
       " 'lowest_energy_batch': 6,\n",
       " 'lowest_energy_value': -115.15863060731904,\n",
       " 'solvation_free_energy': -0.007180171405554904,\n",
       " 'sci_solver_total_duration': 288.31775879859924,\n",
       " 'metadata': {'resources_usage': {'RUNNING: MAPPING': {'CPU_TIME': 5.901274681091309},\n",
       "   'RUNNING: OPTIMIZING_FOR_HARDWARE': {'CPU_TIME': 1.830270767211914},\n",
       "   'RUNNING: WAITING_FOR_QPU': {'CPU_TIME': 6.230698823928833},\n",
       "   'RUNNING: EXECUTING_QPU': {'QPU_TIME': 140.7737114429474},\n",
       "   'RUNNING: POST_PROCESSING': {'CPU_TIME': 291.52055525779724}},\n",
       "  'num_iterations_executed': 3}}"
      ]
     },
     "execution_count": 13,
     "metadata": {},
     "output_type": "execute_result"
    }
   ],
   "source": [
    "result = job.result()\n",
    "\n",
    "result"
   ]
  },
  {
   "cell_type": "markdown",
   "id": "94a2c921",
   "metadata": {},
   "source": [
    "Note that the result metadata includes a resource usage summary that allows to better estimate the QPU and CPU time required for each workload (this example ran on a dummy device so actual resource usage times might differ).  "
   ]
  },
  {
   "cell_type": "markdown",
   "id": "49d0b26d",
   "metadata": {
    "vscode": {
     "languageId": "plaintext"
    }
   },
   "source": [
    "After the job completes, the entire logging output will be available."
   ]
  },
  {
   "cell_type": "code",
   "execution_count": 14,
   "id": "ddcba564",
   "metadata": {},
   "outputs": [
    {
     "name": "stdout",
     "output_type": "stream",
     "text": [
      "2025-07-14 08:28:38,074\tINFO job_manager.py:531 -- Runtime env is setting up.\n",
      "sqd_pcm_entrypoint.run_function:INFO:2025-07-14 08:28:41,505: Starting runtime service\n",
      "sqd_pcm_entrypoint.run_function:INFO:2025-07-14 08:28:42,180: Backend: ibm_fez\n",
      "sqd_pcm_entrypoint.run_function:INFO:2025-07-14 08:28:43,440: Initializing molecule object\n",
      "sqd_pcm_entrypoint.run_function:INFO:2025-07-14 08:28:47,975: Performing CCSD\n",
      "Parsing /tmp/ray/session_2025-07-14_08-28-02_794158_1/runtime_resources/working_dir_files/_ray_pkg_e8ea5f747420cd65/output_sqd_pcm/2025-07-14_08-28-41.fcidump.txt\n",
      "Overwritten attributes  get_ovlp get_hcore  of <class 'pyscf.scf.hf_symm.SymAdaptedRHF'>\n",
      "/usr/local/lib/python3.11/site-packages/pyscf/gto/mole.py:1293: UserWarning: Function mol.dumps drops attribute energy_nuc because it is not JSON-serializable\n",
      "  warnings.warn(msg)\n",
      "/usr/local/lib/python3.11/site-packages/pyscf/gto/mole.py:1293: UserWarning: Function mol.dumps drops attribute intor_symmetric because it is not JSON-serializable\n",
      "  warnings.warn(msg)\n",
      "converged SCF energy = -115.049680672847\n",
      "E(CCSD) = -115.1519910037652  E_corr = -0.1023103309180226\n",
      "sqd_pcm_entrypoint.run_function:INFO:2025-07-14 08:28:48,075: Same spin orbital connections: [(0, 1), (1, 2), (2, 3), (3, 4), (4, 5), (5, 6), (6, 7), (7, 8), (8, 9), (9, 10), (10, 11)]\n",
      "sqd_pcm_entrypoint.run_function:INFO:2025-07-14 08:28:48,075: Opposite spin orbital connections: [(0, 0), (4, 4), (8, 8)]\n",
      "sqd_pcm_entrypoint.run_function:INFO:2025-07-14 08:28:49,932: Optimization level: 2, ops: OrderedDict([('sx', 3308), ('cz', 1683), ('rz', 1570), ('x', 225), ('measure', 24), ('barrier', 1)]), depth: 1072\n",
      "sqd_pcm_entrypoint.run_function:INFO:2025-07-14 08:28:49,955: Two-qubit gate depth: 412\n",
      "sqd_pcm_entrypoint.run_function:INFO:2025-07-14 08:28:49,955: Submitting sampler job\n",
      "sqd_pcm_entrypoint.run_function:INFO:2025-07-14 08:28:50,668: Job ID: d1qbvgn6d0hc73b9bku0\n",
      "sqd_pcm_entrypoint.run_function:INFO:2025-07-14 08:28:50,714: Job Status: QUEUED\n",
      "sqd_pcm_entrypoint.run_function:INFO:2025-07-14 08:31:22,019: Starting configuration recovery iteration 0\n",
      "sqd_pcm_entrypoint.run_function:INFO:2025-07-14 08:31:22,040: Batch 0 subspace dimension: 543169\n",
      "2025-07-14 08:31:22,041\tINFO worker.py:1588 -- Using address 172.17.26.134:6379 set in the environment variable RAY_ADDRESS\n",
      "2025-07-14 08:31:22,044\tINFO worker.py:1723 -- Connecting to existing Ray cluster at address: 172.17.26.134:6379...\n",
      "2025-07-14 08:31:22,070\tINFO worker.py:1908 -- Connected to Ray cluster. View the dashboard at \u001b[1m\u001b[32mhttp://172.17.26.134:8265 \u001b[39m\u001b[22m\n",
      "sqd_pcm_entrypoint.run_function:INFO:2025-07-14 08:31:22,124: Batch 1 subspace dimension: 527076\n",
      "sqd_pcm_entrypoint.run_function:INFO:2025-07-14 08:31:22,130: Batch 2 subspace dimension: 521284\n",
      "sqd_pcm_entrypoint.run_function:INFO:2025-07-14 08:31:22,135: Batch 3 subspace dimension: 541696\n",
      "sqd_pcm_entrypoint.run_function:INFO:2025-07-14 08:31:22,140: Batch 4 subspace dimension: 521284\n",
      "sqd_pcm_entrypoint.run_function:INFO:2025-07-14 08:31:22,144: Batch 5 subspace dimension: 525625\n",
      "sqd_pcm_entrypoint.run_function:INFO:2025-07-14 08:31:22,148: Batch 6 subspace dimension: 527076\n",
      "sqd_pcm_entrypoint.run_function:INFO:2025-07-14 08:31:22,153: Batch 7 subspace dimension: 546121\n",
      "sqd_pcm_entrypoint.run_function:INFO:2025-07-14 08:31:22,157: Batch 8 subspace dimension: 535824\n",
      "sqd_pcm_entrypoint.run_function:INFO:2025-07-14 08:31:22,162: Batch 9 subspace dimension: 528529\n",
      "sqd_pcm_entrypoint.run_function:INFO:2025-07-14 08:32:49,185: Lowest energy batch: 4\n",
      "sqd_pcm_entrypoint.run_function:INFO:2025-07-14 08:32:49,185: Lowest energy value: -115.1578612654444\n",
      "sqd_pcm_entrypoint.run_function:INFO:2025-07-14 08:32:49,186: Corresponding g_solv value: -0.007191015237342331\n",
      "sqd_pcm_entrypoint.run_function:INFO:2025-07-14 08:32:49,186: -----------------------------------\n",
      "sqd_pcm_entrypoint.run_function:INFO:2025-07-14 08:32:49,186: Starting configuration recovery iteration 1\n",
      "sqd_pcm_entrypoint.run_function:INFO:2025-07-14 08:33:18,157: Batch 0 subspace dimension: 407044\n",
      "sqd_pcm_entrypoint.run_function:INFO:2025-07-14 08:33:18,163: Batch 1 subspace dimension: 425104\n",
      "sqd_pcm_entrypoint.run_function:INFO:2025-07-14 08:33:18,168: Batch 2 subspace dimension: 417316\n",
      "sqd_pcm_entrypoint.run_function:INFO:2025-07-14 08:33:18,173: Batch 3 subspace dimension: 427716\n",
      "sqd_pcm_entrypoint.run_function:INFO:2025-07-14 08:33:18,177: Batch 4 subspace dimension: 421201\n",
      "sqd_pcm_entrypoint.run_function:INFO:2025-07-14 08:33:18,181: Batch 5 subspace dimension: 403225\n",
      "sqd_pcm_entrypoint.run_function:INFO:2025-07-14 08:33:18,186: Batch 6 subspace dimension: 393129\n",
      "sqd_pcm_entrypoint.run_function:INFO:2025-07-14 08:33:18,190: Batch 7 subspace dimension: 413449\n",
      "sqd_pcm_entrypoint.run_function:INFO:2025-07-14 08:33:18,194: Batch 8 subspace dimension: 430336\n",
      "sqd_pcm_entrypoint.run_function:INFO:2025-07-14 08:33:18,198: Batch 9 subspace dimension: 423801\n",
      "sqd_pcm_entrypoint.run_function:INFO:2025-07-14 08:34:28,245: Lowest energy batch: 3\n",
      "sqd_pcm_entrypoint.run_function:INFO:2025-07-14 08:34:28,245: Lowest energy value: -115.15860886155777\n",
      "sqd_pcm_entrypoint.run_function:INFO:2025-07-14 08:34:28,245: Corresponding g_solv value: -0.007181726802226919\n",
      "sqd_pcm_entrypoint.run_function:INFO:2025-07-14 08:34:28,245: -----------------------------------\n",
      "sqd_pcm_entrypoint.run_function:INFO:2025-07-14 08:34:28,245: Starting configuration recovery iteration 2\n",
      "sqd_pcm_entrypoint.run_function:INFO:2025-07-14 08:34:57,229: Batch 0 subspace dimension: 416025\n",
      "sqd_pcm_entrypoint.run_function:INFO:2025-07-14 08:34:57,235: Batch 1 subspace dimension: 430336\n",
      "sqd_pcm_entrypoint.run_function:INFO:2025-07-14 08:34:57,240: Batch 2 subspace dimension: 408321\n",
      "sqd_pcm_entrypoint.run_function:INFO:2025-07-14 08:34:57,245: Batch 3 subspace dimension: 425104\n",
      "sqd_pcm_entrypoint.run_function:INFO:2025-07-14 08:34:57,249: Batch 4 subspace dimension: 416025\n",
      "sqd_pcm_entrypoint.run_function:INFO:2025-07-14 08:34:57,254: Batch 5 subspace dimension: 416025\n",
      "sqd_pcm_entrypoint.run_function:INFO:2025-07-14 08:34:57,259: Batch 6 subspace dimension: 431649\n",
      "sqd_pcm_entrypoint.run_function:INFO:2025-07-14 08:34:57,263: Batch 7 subspace dimension: 416025\n",
      "sqd_pcm_entrypoint.run_function:INFO:2025-07-14 08:34:57,268: Batch 8 subspace dimension: 414736\n",
      "sqd_pcm_entrypoint.run_function:INFO:2025-07-14 08:34:57,272: Batch 9 subspace dimension: 413449\n",
      "sqd_pcm_entrypoint.run_function:INFO:2025-07-14 08:36:09,463: Lowest energy batch: 6\n",
      "sqd_pcm_entrypoint.run_function:INFO:2025-07-14 08:36:09,463: Lowest energy value: -115.15863060731904\n",
      "sqd_pcm_entrypoint.run_function:INFO:2025-07-14 08:36:09,463: Corresponding g_solv value: -0.007180171405554904\n",
      "sqd_pcm_entrypoint.run_function:INFO:2025-07-14 08:36:09,463: -----------------------------------\n",
      "sqd_pcm_entrypoint.run_function:INFO:2025-07-14 08:36:09,464: SCI_solver totally takes: 288.31775879859924 seconds\n",
      "\n"
     ]
    }
   ],
   "source": [
    "print(job.logs())"
   ]
  }
 ],
 "metadata": {
  "kernelspec": {
   "display_name": "Python 3 (ipykernel)",
   "language": "python",
   "name": "python3"
  },
  "language_info": {
   "codemirror_mode": {
    "name": "ipython",
    "version": 3
   },
   "file_extension": ".py",
   "mimetype": "text/x-python",
   "name": "python",
   "nbconvert_exporter": "python",
   "pygments_lexer": "ipython3",
   "version": "3.11.9"
  }
 },
 "nbformat": 4,
 "nbformat_minor": 5
}
