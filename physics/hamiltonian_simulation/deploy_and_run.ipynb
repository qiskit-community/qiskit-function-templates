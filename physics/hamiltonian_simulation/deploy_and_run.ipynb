{
 "cells": [
  {
   "cell_type": "markdown",
   "id": "8cfa587b",
   "metadata": {},
   "source": [
    "# Deploy and Run the Hamiltonian Simulation Function"
   ]
  },
  {
   "cell_type": "markdown",
   "id": "01bdd609",
   "metadata": {
    "vscode": {
     "languageId": "plaintext"
    }
   },
   "source": [
    "This interactive guide shows how to upload the Hamiltonian simulation function to Qiskit Serverless and run an example workload."
   ]
  },
  {
   "cell_type": "markdown",
   "id": "a0cb6f4a",
   "metadata": {
    "vscode": {
     "languageId": "plaintext"
    }
   },
   "source": [
    "### Requirements\n",
    "\n",
    "This guide was developed with the following local package versions:"
   ]
  },
  {
   "cell_type": "code",
   "execution_count": 1,
   "id": "6ed191ea-32f1-4708-9141-b41dc2ac9590",
   "metadata": {},
   "outputs": [
    {
     "name": "stdout",
     "output_type": "stream",
     "text": [
      "qiskit version: 2.1.0\n",
      "qiskit catalog version: 0.8.0\n"
     ]
    }
   ],
   "source": [
    "from qiskit import __version__ as qiskit_version\n",
    "from qiskit_ibm_catalog import __version__ as catalog_version\n",
    "\n",
    "print(\"qiskit version:\", qiskit_version)\n",
    "print(\"qiskit catalog version:\", catalog_version)"
   ]
  },
  {
   "cell_type": "markdown",
   "id": "6c92ac84",
   "metadata": {
    "vscode": {
     "languageId": "plaintext"
    }
   },
   "source": [
    "## 1. Authentication\n",
    "\n",
    "Use `qiskit-ibm-catalog` to authenticate to `QiskitServerless` with your API key (token) and CRN (instance), which you can find on the [IBM Quantum Platform](https://quantum.cloud.ibm.com) dashboard. This will allow you to locally instantiate the serverless client to upload or run the selected function:\n",
    "\n",
    "```python\n",
    "from qiskit_ibm_catalog import QiskitServerless\n",
    "serverless = QiskitServerless(channel=\"ibm_quantum_platform\", token=\"MY_TOKEN\", instance=\"MY_CRN\")\n",
    "```\n",
    "\n",
    "You can optionally use `save_account()` to save your credentials in your local environment (see the [Set up your IBM Cloud account](/docs/guides/cloud-setup#cloud-save) guide). Note that this writes your credentials to the same file as [`QiskitRuntimeService.save_account()`](/docs/api/qiskit-ibm-runtime/qiskit-runtime-service#save_account):\n",
    "\n",
    "```python\n",
    "QiskitServerless.save_account(channel=\"ibm_quantum_platform\", token=\"MY_TOKEN\", instance=\"MY_CRN\")\n",
    "```\n",
    "\n",
    "If the account is saved, there is no need to provide the token to authenticate:"
   ]
  },
  {
   "cell_type": "code",
   "execution_count": 2,
   "id": "7393286a",
   "metadata": {},
   "outputs": [],
   "source": [
    "from qiskit_ibm_catalog import QiskitServerless\n",
    "\n",
    "# Authenticate to the remote cluster\n",
    "# In this case, using the \"ibm_quantum_platform\" (IBM Cloud) channel\n",
    "serverless = QiskitServerless(channel=\"ibm_quantum_platform\")"
   ]
  },
  {
   "cell_type": "markdown",
   "id": "e1f99d80",
   "metadata": {
    "vscode": {
     "languageId": "plaintext"
    }
   },
   "source": [
    "## 2. Upload the custom function"
   ]
  },
  {
   "cell_type": "markdown",
   "id": "3e0e8cc8",
   "metadata": {
    "vscode": {
     "languageId": "plaintext"
    }
   },
   "source": [
    "To upload a Qiskit Function, you must first instantiate a `QiskitFunction` object that defines the function source code. The title will allow you to identify the function once it's in the remote cluster. The main entry point is the file that contains `if __name__ == \"__main__\"`. If your workflow requires additional source files, you can define a working directory that will be uploaded together with the entry point."
   ]
  },
  {
   "cell_type": "code",
   "execution_count": 3,
   "id": "77b2b9b6",
   "metadata": {},
   "outputs": [
    {
     "name": "stdout",
     "output_type": "stream",
     "text": [
      "QiskitFunction(hamiltonian_simulation_template)\n"
     ]
    }
   ],
   "source": [
    "from qiskit_ibm_catalog import QiskitFunction\n",
    "\n",
    "template = QiskitFunction(\n",
    "    title=\"hamiltonian_simulation_template\",\n",
    "    entrypoint=\"hamiltonian_sim_entrypoint.py\",\n",
    "    working_dir=\"./source_files/\",  # all files in this directory will be uploaded\n",
    ")\n",
    "print(template)"
   ]
  },
  {
   "cell_type": "markdown",
   "id": "72854f5a",
   "metadata": {},
   "source": [
    "Once the instance is ready, upload it to serverless:"
   ]
  },
  {
   "cell_type": "code",
   "execution_count": 4,
   "id": "59e7fdb5",
   "metadata": {},
   "outputs": [
    {
     "data": {
      "text/plain": [
       "QiskitFunction(hamiltonian_simulation_template)"
      ]
     },
     "execution_count": 4,
     "metadata": {},
     "output_type": "execute_result"
    }
   ],
   "source": [
    "serverless.upload(template)"
   ]
  },
  {
   "cell_type": "markdown",
   "id": "ac7d8764",
   "metadata": {
    "vscode": {
     "languageId": "plaintext"
    }
   },
   "source": [
    "To check if the program successfully uploaded, use `serverless.list()`:"
   ]
  },
  {
   "cell_type": "code",
   "execution_count": 5,
   "id": "03a91030",
   "metadata": {},
   "outputs": [
    {
     "data": {
      "text/plain": [
       "[QiskitFunction(sqd_pcm_template),\n",
       " QiskitFunction(hamiltonian_simulation_template)]"
      ]
     },
     "execution_count": 5,
     "metadata": {},
     "output_type": "execute_result"
    }
   ],
   "source": [
    "serverless.list()"
   ]
  },
  {
   "cell_type": "markdown",
   "id": "99408586",
   "metadata": {},
   "source": [
    "## 3. Load and run the custom function remotely"
   ]
  },
  {
   "cell_type": "markdown",
   "id": "62b37d7a",
   "metadata": {},
   "source": [
    "\n",
    "The function template has been uploaded, so you can run it remotely with Qiskit Serverless. First, load the template by name:"
   ]
  },
  {
   "cell_type": "code",
   "execution_count": 6,
   "id": "854d12cf",
   "metadata": {},
   "outputs": [
    {
     "name": "stdout",
     "output_type": "stream",
     "text": [
      "QiskitFunction(hamiltonian_simulation_template)\n"
     ]
    }
   ],
   "source": [
    "template = serverless.load(\"hamiltonian_simulation_template\")\n",
    "print(template)"
   ]
  },
  {
   "cell_type": "markdown",
   "id": "fa2dc721",
   "metadata": {
    "vscode": {
     "languageId": "plaintext"
    }
   },
   "source": [
    "Next, run the template with the domain-level inputs for Hamiltonian simulation. This example specifies a 50-qubit XXZ model with random couplings, and an initial state and observable."
   ]
  },
  {
   "cell_type": "code",
   "execution_count": 7,
   "id": "a1719ab1",
   "metadata": {},
   "outputs": [],
   "source": [
    "from itertools import chain\n",
    "import numpy as np\n",
    "from qiskit.quantum_info import SparsePauliOp\n",
    "\n",
    "L = 50\n",
    "\n",
    "# Generate the edge list for this spin-chain\n",
    "edges = [(i, i + 1) for i in range(L - 1)]\n",
    "# Generate an edge-coloring so we can make hw-efficient circuits\n",
    "edges = edges[::2] + edges[1::2]\n",
    "\n",
    "# Generate random coefficients for our XXZ Hamiltonian\n",
    "np.random.seed(0)\n",
    "Js = np.random.rand(L - 1) + 0.5 * np.ones(L - 1)\n",
    "\n",
    "hamiltonian = SparsePauliOp.from_sparse_list(\n",
    "    chain.from_iterable(\n",
    "        [\n",
    "            [\n",
    "                (\"XX\", (i, j), Js[i] / 2),\n",
    "                (\"YY\", (i, j), Js[i] / 2),\n",
    "                (\"ZZ\", (i, j), Js[i]),\n",
    "            ]\n",
    "            for i, j in edges\n",
    "        ]\n",
    "    ),\n",
    "    num_qubits=L,\n",
    ")\n",
    "observable = SparsePauliOp.from_sparse_list([(\"ZZ\", (L // 2 - 1, L // 2), 1.0)], num_qubits=L)"
   ]
  },
  {
   "cell_type": "code",
   "execution_count": 8,
   "id": "6226745b",
   "metadata": {},
   "outputs": [],
   "source": [
    "from qiskit import QuantumCircuit\n",
    "\n",
    "initial_state = QuantumCircuit(L)\n",
    "for i in range(L):\n",
    "    if i % 2:\n",
    "        initial_state.x(i)"
   ]
  },
  {
   "cell_type": "code",
   "execution_count": 9,
   "id": "01c0667c",
   "metadata": {},
   "outputs": [
    {
     "name": "stdout",
     "output_type": "stream",
     "text": [
      "0d5b763e-9a51-406a-8e96-af6da3b4b39e\n"
     ]
    }
   ],
   "source": [
    "# set up AQC options\n",
    "\n",
    "aqc_options = {\n",
    "    \"aqc_evolution_time\": 0.2,\n",
    "    \"aqc_ansatz_num_trotter_steps\": 1,\n",
    "    \"aqc_target_num_trotter_steps\": 32,\n",
    "    \"remainder_evolution_time\": 0.2,\n",
    "    \"remainder_num_trotter_steps\": 4,\n",
    "    \"aqc_max_iterations\": 300,\n",
    "}\n",
    "\n",
    "job = template.run(\n",
    "    backend_name=\"ibm_fez\",\n",
    "    hamiltonian=hamiltonian,\n",
    "    observable=observable,\n",
    "    initial_state=initial_state,\n",
    "    aqc_options=aqc_options,\n",
    "    estimator_options={},\n",
    "    dry_run=True,\n",
    ")\n",
    "print(job.job_id)"
   ]
  },
  {
   "cell_type": "markdown",
   "id": "a9101a94",
   "metadata": {},
   "source": [
    "Check the detailed status of the job:"
   ]
  },
  {
   "cell_type": "code",
   "execution_count": 11,
   "id": "4385a34f",
   "metadata": {},
   "outputs": [
    {
     "name": "stdout",
     "output_type": "stream",
     "text": [
      "time = 1.18, status = QUEUED\n",
      "time = 159.34, status = INITIALIZING\n",
      "time = 160.38, status = INITIALIZING\n",
      "time = 161.49, status = INITIALIZING\n",
      "time = 162.71, status = RUNNING\n",
      "time = 163.77, status = RUNNING\n",
      "time = 164.91, status = RUNNING\n",
      "time = 165.89, status = RUNNING\n",
      "time = 167.02, status = RUNNING\n",
      "time = 167.98, status = RUNNING\n",
      "time = 169.11, status = RUNNING\n",
      "time = 170.36, status = RUNNING\n",
      "time = 171.53, status = RUNNING\n",
      "time = 172.65, status = RUNNING\n",
      "time = 173.66, status = RUNNING\n",
      "time = 174.70, status = RUNNING\n",
      "time = 175.66, status = RUNNING\n",
      "time = 176.72, status = RUNNING\n",
      "time = 177.79, status = RUNNING\n",
      "time = 178.92, status = RUNNING\n",
      "time = 179.82, status = RUNNING\n",
      "time = 180.95, status = RUNNING\n",
      "time = 182.08, status = RUNNING\n",
      "time = 183.17, status = RUNNING\n",
      "time = 184.33, status = RUNNING\n",
      "time = 185.39, status = RUNNING\n",
      "time = 186.58, status = RUNNING\n",
      "time = 187.65, status = RUNNING\n",
      "time = 188.71, status = RUNNING\n",
      "time = 189.86, status = RUNNING\n",
      "time = 191.29, status = RUNNING\n",
      "time = 192.36, status = RUNNING\n",
      "time = 193.75, status = RUNNING\n",
      "time = 194.77, status = RUNNING\n",
      "time = 195.80, status = RUNNING\n",
      "time = 196.85, status = RUNNING\n",
      "time = 197.87, status = RUNNING\n",
      "time = 199.07, status = RUNNING\n",
      "time = 200.12, status = RUNNING\n",
      "time = 201.43, status = RUNNING\n",
      "time = 202.58, status = RUNNING\n",
      "time = 203.74, status = RUNNING\n",
      "time = 204.78, status = RUNNING\n",
      "time = 206.24, status = RUNNING\n",
      "time = 207.47, status = RUNNING\n",
      "time = 208.61, status = RUNNING\n",
      "time = 209.73, status = RUNNING\n",
      "time = 211.26, status = RUNNING\n",
      "time = 212.29, status = RUNNING\n",
      "time = 213.41, status = RUNNING\n",
      "time = 214.54, status = RUNNING\n",
      "time = 215.86, status = RUNNING\n",
      "time = 216.95, status = RUNNING\n",
      "time = 218.01, status = RUNNING\n",
      "time = 219.14, status = RUNNING\n",
      "time = 220.31, status = RUNNING\n",
      "time = 221.52, status = RUNNING\n",
      "time = 222.74, status = RUNNING\n",
      "time = 223.96, status = RUNNING\n",
      "time = 224.96, status = RUNNING\n",
      "time = 226.11, status = RUNNING\n",
      "time = 227.27, status = RUNNING\n",
      "time = 228.46, status = RUNNING: MAPPING\n",
      "time = 230.61, status = RUNNING: MAPPING\n",
      "time = 232.33, status = RUNNING: MAPPING\n",
      "time = 233.50, status = RUNNING: MAPPING\n",
      "time = 234.70, status = RUNNING: MAPPING\n",
      "time = 235.83, status = RUNNING: MAPPING\n",
      "time = 236.94, status = RUNNING: MAPPING\n",
      "time = 238.06, status = RUNNING: MAPPING\n",
      "time = 239.22, status = RUNNING: MAPPING\n",
      "time = 240.45, status = RUNNING: MAPPING\n",
      "time = 243.12, status = RUNNING: MAPPING\n",
      "time = 244.26, status = RUNNING: MAPPING\n",
      "time = 245.88, status = RUNNING: MAPPING\n",
      "time = 247.80, status = RUNNING: MAPPING\n",
      "time = 248.90, status = RUNNING: MAPPING\n",
      "time = 249.97, status = RUNNING: MAPPING\n",
      "time = 251.08, status = RUNNING: MAPPING\n",
      "time = 253.51, status = RUNNING: MAPPING\n",
      "time = 254.50, status = RUNNING: MAPPING\n",
      "time = 255.66, status = RUNNING: MAPPING\n",
      "time = 256.76, status = RUNNING: MAPPING\n",
      "time = 257.71, status = RUNNING: MAPPING\n",
      "time = 258.94, status = RUNNING: MAPPING\n",
      "time = 260.00, status = RUNNING: MAPPING\n",
      "time = 261.13, status = RUNNING: MAPPING\n",
      "time = 262.15, status = RUNNING: MAPPING\n",
      "time = 263.18, status = RUNNING: MAPPING\n",
      "time = 264.25, status = RUNNING: MAPPING\n",
      "time = 265.31, status = RUNNING: MAPPING\n",
      "time = 266.68, status = RUNNING: MAPPING\n",
      "time = 267.71, status = RUNNING: MAPPING\n",
      "time = 268.81, status = RUNNING: MAPPING\n",
      "time = 269.93, status = RUNNING: MAPPING\n",
      "time = 271.47, status = RUNNING: MAPPING\n",
      "time = 272.53, status = RUNNING: MAPPING\n",
      "time = 275.45, status = RUNNING: MAPPING\n",
      "time = 276.61, status = RUNNING: OPTIMIZING_FOR_HARDWARE\n",
      "time = 277.84, status = RUNNING: OPTIMIZING_FOR_HARDWARE\n",
      "time = 279.20, status = RUNNING: OPTIMIZING_FOR_HARDWARE\n",
      "time = 280.25, status = RUNNING: OPTIMIZING_FOR_HARDWARE\n",
      "time = 281.40, status = RUNNING: OPTIMIZING_FOR_HARDWARE\n",
      "time = 282.57, status = RUNNING: OPTIMIZING_FOR_HARDWARE\n",
      "time = 283.97, status = RUNNING: OPTIMIZING_FOR_HARDWARE\n",
      "time = 285.19, status = RUNNING: OPTIMIZING_FOR_HARDWARE\n",
      "time = 286.34, status = RUNNING: OPTIMIZING_FOR_HARDWARE\n",
      "time = 287.62, status = RUNNING: OPTIMIZING_FOR_HARDWARE\n",
      "time = 288.77, status = RUNNING: OPTIMIZING_FOR_HARDWARE\n",
      "time = 290.06, status = RUNNING: OPTIMIZING_FOR_HARDWARE\n",
      "time = 291.23, status = RUNNING: OPTIMIZING_FOR_HARDWARE\n",
      "time = 292.39, status = RUNNING: OPTIMIZING_FOR_HARDWARE\n",
      "time = 293.44, status = RUNNING: OPTIMIZING_FOR_HARDWARE\n",
      "time = 294.61, status = RUNNING: OPTIMIZING_FOR_HARDWARE\n",
      "time = 295.76, status = RUNNING: OPTIMIZING_FOR_HARDWARE\n",
      "time = 296.95, status = RUNNING: OPTIMIZING_FOR_HARDWARE\n",
      "time = 298.20, status = RUNNING: OPTIMIZING_FOR_HARDWARE\n",
      "time = 299.13, status = RUNNING: OPTIMIZING_FOR_HARDWARE\n",
      "time = 300.45, status = RUNNING: OPTIMIZING_FOR_HARDWARE\n",
      "time = 301.88, status = RUNNING: OPTIMIZING_FOR_HARDWARE\n",
      "time = 303.01, status = RUNNING: OPTIMIZING_FOR_HARDWARE\n",
      "time = 304.14, status = RUNNING: OPTIMIZING_FOR_HARDWARE\n",
      "time = 305.32, status = RUNNING: OPTIMIZING_FOR_HARDWARE\n",
      "time = 306.29, status = RUNNING: OPTIMIZING_FOR_HARDWARE\n",
      "time = 307.37, status = RUNNING: OPTIMIZING_FOR_HARDWARE\n",
      "time = 308.92, status = RUNNING: OPTIMIZING_FOR_HARDWARE\n",
      "time = 311.76, status = RUNNING: OPTIMIZING_FOR_HARDWARE\n",
      "time = 312.81, status = RUNNING: OPTIMIZING_FOR_HARDWARE\n",
      "time = 314.07, status = RUNNING: OPTIMIZING_FOR_HARDWARE\n",
      "time = 315.50, status = RUNNING: OPTIMIZING_FOR_HARDWARE\n",
      "time = 316.83, status = RUNNING: OPTIMIZING_FOR_HARDWARE\n",
      "time = 317.96, status = RUNNING: OPTIMIZING_FOR_HARDWARE\n",
      "time = 319.09, status = RUNNING: OPTIMIZING_FOR_HARDWARE\n",
      "time = 320.36, status = RUNNING: OPTIMIZING_FOR_HARDWARE\n",
      "time = 321.44, status = RUNNING: OPTIMIZING_FOR_HARDWARE\n",
      "time = 322.62, status = RUNNING: OPTIMIZING_FOR_HARDWARE\n",
      "time = 323.65, status = RUNNING: OPTIMIZING_FOR_HARDWARE\n",
      "time = 324.82, status = RUNNING: OPTIMIZING_FOR_HARDWARE\n",
      "time = 325.92, status = RUNNING: OPTIMIZING_FOR_HARDWARE\n",
      "time = 326.96, status = RUNNING: OPTIMIZING_FOR_HARDWARE\n",
      "time = 328.18, status = RUNNING: OPTIMIZING_FOR_HARDWARE\n",
      "time = 329.33, status = RUNNING: OPTIMIZING_FOR_HARDWARE\n",
      "time = 330.47, status = RUNNING: OPTIMIZING_FOR_HARDWARE\n",
      "time = 331.68, status = RUNNING: OPTIMIZING_FOR_HARDWARE\n",
      "time = 332.86, status = RUNNING: OPTIMIZING_FOR_HARDWARE\n",
      "time = 334.14, status = RUNNING: OPTIMIZING_FOR_HARDWARE\n",
      "time = 335.19, status = RUNNING: OPTIMIZING_FOR_HARDWARE\n",
      "time = 336.54, status = RUNNING: OPTIMIZING_FOR_HARDWARE\n",
      "time = 337.69, status = RUNNING: OPTIMIZING_FOR_HARDWARE\n",
      "time = 338.81, status = RUNNING: OPTIMIZING_FOR_HARDWARE\n",
      "time = 340.08, status = RUNNING: OPTIMIZING_FOR_HARDWARE\n",
      "time = 341.24, status = RUNNING: OPTIMIZING_FOR_HARDWARE\n",
      "time = 342.23, status = RUNNING: OPTIMIZING_FOR_HARDWARE\n",
      "time = 343.36, status = RUNNING: OPTIMIZING_FOR_HARDWARE\n",
      "time = 344.69, status = RUNNING: OPTIMIZING_FOR_HARDWARE\n",
      "time = 346.22, status = RUNNING: OPTIMIZING_FOR_HARDWARE\n",
      "time = 347.35, status = RUNNING: OPTIMIZING_FOR_HARDWARE\n",
      "time = 348.48, status = RUNNING: OPTIMIZING_FOR_HARDWARE\n",
      "time = 349.56, status = RUNNING: OPTIMIZING_FOR_HARDWARE\n",
      "time = 351.24, status = RUNNING: OPTIMIZING_FOR_HARDWARE\n",
      "time = 352.45, status = RUNNING: OPTIMIZING_FOR_HARDWARE\n",
      "time = 353.41, status = RUNNING: OPTIMIZING_FOR_HARDWARE\n",
      "time = 354.52, status = RUNNING: OPTIMIZING_FOR_HARDWARE\n",
      "time = 356.05, status = RUNNING: OPTIMIZING_FOR_HARDWARE\n",
      "time = 357.06, status = DONE\n"
     ]
    }
   ],
   "source": [
    "import time\n",
    "\n",
    "t0 = time.time()\n",
    "status = job.status()\n",
    "if status == \"QUEUED\":\n",
    "    print(f\"time = {time.time()-t0:.2f}, status = QUEUED\")\n",
    "while True:\n",
    "    status = job.status()\n",
    "    if status == \"QUEUED\":\n",
    "        continue\n",
    "    print(f\"time = {time.time()-t0:.2f}, status = {status}\")\n",
    "    if status == \"DONE\" or status == \"ERROR\":\n",
    "        break"
   ]
  },
  {
   "cell_type": "markdown",
   "id": "4adc5293",
   "metadata": {},
   "source": [
    "After the job is running, you can fetch logs created from the `logger.info` outputs. These can provide actionable information about the progress of the Hamiltonian simulation workflow. For example, the value of the objective function during the iterative component of AQC, or the two-qubit depth of the final ISA circuit intended for execution on hardware."
   ]
  },
  {
   "cell_type": "code",
   "execution_count": 12,
   "id": "a5b1f190",
   "metadata": {},
   "outputs": [
    {
     "name": "stdout",
     "output_type": "stream",
     "text": [
      "2025-07-14 08:36:54,669\tINFO job_manager.py:531 -- Runtime env is setting up.\n",
      "hamiltonian_sim_entrypoint.run_function:INFO:2025-07-14 08:38:01,767: Starting runtime service\n",
      "hamiltonian_sim_entrypoint.run_function:INFO:2025-07-14 08:38:02,570: Backend: ibm_fez\n",
      "hamiltonian_sim_entrypoint.run_function:INFO:2025-07-14 08:38:02,570: estimator_options = {\n",
      "    \"resilience\": {\n",
      "        \"measure_mitigation\": true,\n",
      "        \"zne_mitigation\": true,\n",
      "        \"zne\": {\n",
      "            \"amplifier\": \"gate_folding\",\n",
      "            \"noise_factors\": [\n",
      "                1,\n",
      "                2,\n",
      "                3\n",
      "            ],\n",
      "            \"extrapolated_noise_factors\": [\n",
      "                0.0,\n",
      "                0.1,\n",
      "                0.2,\n",
      "                0.30000000000000004,\n",
      "                0.4,\n",
      "                0.5,\n",
      "                0.6000000000000001,\n",
      "                0.7000000000000001,\n",
      "                0.8,\n",
      "                0.9,\n",
      "                1.0,\n",
      "                1.1,\n",
      "                1.2000000000000002,\n",
      "                1.3,\n",
      "                1.4000000000000001,\n",
      "                1.5,\n",
      "                1.6,\n",
      "                1.7000000000000002,\n",
      "                1.8,\n",
      "                1.9000000000000001,\n",
      "                2.0,\n",
      "                2.1,\n",
      "                2.2,\n",
      "                2.3000000000000003,\n",
      "                2.4000000000000004,\n",
      "                2.5,\n",
      "                2.6,\n",
      "                2.7,\n",
      "                2.8000000000000003,\n",
      "                2.9000000000000004,\n",
      "                3.0\n",
      "            ],\n",
      "            \"extrapolator\": [\n",
      "                \"exponential\",\n",
      "                \"linear\",\n",
      "                \"fallback\"\n",
      "            ]\n",
      "        },\n",
      "        \"measure_noise_learning\": {\n",
      "            \"num_randomizations\": 512,\n",
      "            \"shots_per_randomization\": 512\n",
      "        }\n",
      "    },\n",
      "    \"twirling\": {\n",
      "        \"enable_gates\": true,\n",
      "        \"enable_measure\": true,\n",
      "        \"num_randomizations\": 300,\n",
      "        \"shots_per_randomization\": 100,\n",
      "        \"strategy\": \"active\"\n",
      "    },\n",
      "    \"environment\": {\n",
      "        \"job_tags\": [\n",
      "            \"hamsim_function\"\n",
      "        ]\n",
      "    }\n",
      "}\n",
      "hamiltonian_sim_entrypoint.run_function:INFO:2025-07-14 08:38:05,597: Hamiltonian: SparsePauliOp(['IIIIIIIIIIIIIIIIIIIIIIIIIIIIIIIIIIIIIIIIIIIIIIIIXX', 'IIIIIIIIIIIIIIIIIIIIIIIIIIIIIIIIIIIIIIIIIIIIIIIIYY', 'IIIIIIIIIIIIIIIIIIIIIIIIIIIIIIIIIIIIIIIIIIIIIIIIZZ', 'IIIIIIIIIIIIIIIIIIIIIIIIIIIIIIIIIIIIIIIIIIIIIIXXII', 'IIIIIIIIIIIIIIIIIIIIIIIIIIIIIIIIIIIIIIIIIIIIIIYYII', 'IIIIIIIIIIIIIIIIIIIIIIIIIIIIIIIIIIIIIIIIIIIIIIZZII', 'IIIIIIIIIIIIIIIIIIIIIIIIIIIIIIIIIIIIIIIIIIIIXXIIII', 'IIIIIIIIIIIIIIIIIIIIIIIIIIIIIIIIIIIIIIIIIIIIYYIIII', 'IIIIIIIIIIIIIIIIIIIIIIIIIIIIIIIIIIIIIIIIIIIIZZIIII', 'IIIIIIIIIIIIIIIIIIIIIIIIIIIIIIIIIIIIIIIIIIXXIIIIII', 'IIIIIIIIIIIIIIIIIIIIIIIIIIIIIIIIIIIIIIIIIIYYIIIIII', 'IIIIIIIIIIIIIIIIIIIIIIIIIIIIIIIIIIIIIIIIIIZZIIIIII', 'IIIIIIIIIIIIIIIIIIIIIIIIIIIIIIIIIIIIIIIIXXIIIIIIII', 'IIIIIIIIIIIIIIIIIIIIIIIIIIIIIIIIIIIIIIIIYYIIIIIIII', 'IIIIIIIIIIIIIIIIIIIIIIIIIIIIIIIIIIIIIIIIZZIIIIIIII', 'IIIIIIIIIIIIIIIIIIIIIIIIIIIIIIIIIIIIIIXXIIIIIIIIII', 'IIIIIIIIIIIIIIIIIIIIIIIIIIIIIIIIIIIIIIYYIIIIIIIIII', 'IIIIIIIIIIIIIIIIIIIIIIIIIIIIIIIIIIIIIIZZIIIIIIIIII', 'IIIIIIIIIIIIIIIIIIIIIIIIIIIIIIIIIIIIXXIIIIIIIIIIII', 'IIIIIIIIIIIIIIIIIIIIIIIIIIIIIIIIIIIIYYIIIIIIIIIIII', 'IIIIIIIIIIIIIIIIIIIIIIIIIIIIIIIIIIIIZZIIIIIIIIIIII', 'IIIIIIIIIIIIIIIIIIIIIIIIIIIIIIIIIIXXIIIIIIIIIIIIII', 'IIIIIIIIIIIIIIIIIIIIIIIIIIIIIIIIIIYYIIIIIIIIIIIIII', 'IIIIIIIIIIIIIIIIIIIIIIIIIIIIIIIIIIZZIIIIIIIIIIIIII', 'IIIIIIIIIIIIIIIIIIIIIIIIIIIIIIIIXXIIIIIIIIIIIIIIII', 'IIIIIIIIIIIIIIIIIIIIIIIIIIIIIIIIYYIIIIIIIIIIIIIIII', 'IIIIIIIIIIIIIIIIIIIIIIIIIIIIIIIIZZIIIIIIIIIIIIIIII', 'IIIIIIIIIIIIIIIIIIIIIIIIIIIIIIXXIIIIIIIIIIIIIIIIII', 'IIIIIIIIIIIIIIIIIIIIIIIIIIIIIIYYIIIIIIIIIIIIIIIIII', 'IIIIIIIIIIIIIIIIIIIIIIIIIIIIIIZZIIIIIIIIIIIIIIIIII', 'IIIIIIIIIIIIIIIIIIIIIIIIIIIIXXIIIIIIIIIIIIIIIIIIII', 'IIIIIIIIIIIIIIIIIIIIIIIIIIIIYYIIIIIIIIIIIIIIIIIIII', 'IIIIIIIIIIIIIIIIIIIIIIIIIIIIZZIIIIIIIIIIIIIIIIIIII', 'IIIIIIIIIIIIIIIIIIIIIIIIIIXXIIIIIIIIIIIIIIIIIIIIII', 'IIIIIIIIIIIIIIIIIIIIIIIIIIYYIIIIIIIIIIIIIIIIIIIIII', 'IIIIIIIIIIIIIIIIIIIIIIIIIIZZIIIIIIIIIIIIIIIIIIIIII', 'IIIIIIIIIIIIIIIIIIIIIIIIXXIIIIIIIIIIIIIIIIIIIIIIII', 'IIIIIIIIIIIIIIIIIIIIIIIIYYIIIIIIIIIIIIIIIIIIIIIIII', 'IIIIIIIIIIIIIIIIIIIIIIIIZZIIIIIIIIIIIIIIIIIIIIIIII', 'IIIIIIIIIIIIIIIIIIIIIIXXIIIIIIIIIIIIIIIIIIIIIIIIII', 'IIIIIIIIIIIIIIIIIIIIIIYYIIIIIIIIIIIIIIIIIIIIIIIIII', 'IIIIIIIIIIIIIIIIIIIIIIZZIIIIIIIIIIIIIIIIIIIIIIIIII', 'IIIIIIIIIIIIIIIIIIIIXXIIIIIIIIIIIIIIIIIIIIIIIIIIII', 'IIIIIIIIIIIIIIIIIIIIYYIIIIIIIIIIIIIIIIIIIIIIIIIIII', 'IIIIIIIIIIIIIIIIIIIIZZIIIIIIIIIIIIIIIIIIIIIIIIIIII', 'IIIIIIIIIIIIIIIIIIXXIIIIIIIIIIIIIIIIIIIIIIIIIIIIII', 'IIIIIIIIIIIIIIIIIIYYIIIIIIIIIIIIIIIIIIIIIIIIIIIIII', 'IIIIIIIIIIIIIIIIIIZZIIIIIIIIIIIIIIIIIIIIIIIIIIIIII', 'IIIIIIIIIIIIIIIIXXIIIIIIIIIIIIIIIIIIIIIIIIIIIIIIII', 'IIIIIIIIIIIIIIIIYYIIIIIIIIIIIIIIIIIIIIIIIIIIIIIIII', 'IIIIIIIIIIIIIIIIZZIIIIIIIIIIIIIIIIIIIIIIIIIIIIIIII', 'IIIIIIIIIIIIIIXXIIIIIIIIIIIIIIIIIIIIIIIIIIIIIIIIII', 'IIIIIIIIIIIIIIYYIIIIIIIIIIIIIIIIIIIIIIIIIIIIIIIIII', 'IIIIIIIIIIIIIIZZIIIIIIIIIIIIIIIIIIIIIIIIIIIIIIIIII', 'IIIIIIIIIIIIXXIIIIIIIIIIIIIIIIIIIIIIIIIIIIIIIIIIII', 'IIIIIIIIIIIIYYIIIIIIIIIIIIIIIIIIIIIIIIIIIIIIIIIIII', 'IIIIIIIIIIIIZZIIIIIIIIIIIIIIIIIIIIIIIIIIIIIIIIIIII', 'IIIIIIIIIIXXIIIIIIIIIIIIIIIIIIIIIIIIIIIIIIIIIIIIII', 'IIIIIIIIIIYYIIIIIIIIIIIIIIIIIIIIIIIIIIIIIIIIIIIIII', 'IIIIIIIIIIZZIIIIIIIIIIIIIIIIIIIIIIIIIIIIIIIIIIIIII', 'IIIIIIIIXXIIIIIIIIIIIIIIIIIIIIIIIIIIIIIIIIIIIIIIII', 'IIIIIIIIYYIIIIIIIIIIIIIIIIIIIIIIIIIIIIIIIIIIIIIIII', 'IIIIIIIIZZIIIIIIIIIIIIIIIIIIIIIIIIIIIIIIIIIIIIIIII', 'IIIIIIXXIIIIIIIIIIIIIIIIIIIIIIIIIIIIIIIIIIIIIIIIII', 'IIIIIIYYIIIIIIIIIIIIIIIIIIIIIIIIIIIIIIIIIIIIIIIIII', 'IIIIIIZZIIIIIIIIIIIIIIIIIIIIIIIIIIIIIIIIIIIIIIIIII', 'IIIIXXIIIIIIIIIIIIIIIIIIIIIIIIIIIIIIIIIIIIIIIIIIII', 'IIIIYYIIIIIIIIIIIIIIIIIIIIIIIIIIIIIIIIIIIIIIIIIIII', 'IIIIZZIIIIIIIIIIIIIIIIIIIIIIIIIIIIIIIIIIIIIIIIIIII', 'IIXXIIIIIIIIIIIIIIIIIIIIIIIIIIIIIIIIIIIIIIIIIIIIII', 'IIYYIIIIIIIIIIIIIIIIIIIIIIIIIIIIIIIIIIIIIIIIIIIIII', 'IIZZIIIIIIIIIIIIIIIIIIIIIIIIIIIIIIIIIIIIIIIIIIIIII', 'XXIIIIIIIIIIIIIIIIIIIIIIIIIIIIIIIIIIIIIIIIIIIIIIII', 'YYIIIIIIIIIIIIIIIIIIIIIIIIIIIIIIIIIIIIIIIIIIIIIIII', 'ZZIIIIIIIIIIIIIIIIIIIIIIIIIIIIIIIIIIIIIIIIIIIIIIII', 'IIIIIIIIIIIIIIIIIIIIIIIIIIIIIIIIIIIIIIIIIIIIIIIXXI', 'IIIIIIIIIIIIIIIIIIIIIIIIIIIIIIIIIIIIIIIIIIIIIIIYYI', 'IIIIIIIIIIIIIIIIIIIIIIIIIIIIIIIIIIIIIIIIIIIIIIIZZI', 'IIIIIIIIIIIIIIIIIIIIIIIIIIIIIIIIIIIIIIIIIIIIIXXIII', 'IIIIIIIIIIIIIIIIIIIIIIIIIIIIIIIIIIIIIIIIIIIIIYYIII', 'IIIIIIIIIIIIIIIIIIIIIIIIIIIIIIIIIIIIIIIIIIIIIZZIII', 'IIIIIIIIIIIIIIIIIIIIIIIIIIIIIIIIIIIIIIIIIIIXXIIIII', 'IIIIIIIIIIIIIIIIIIIIIIIIIIIIIIIIIIIIIIIIIIIYYIIIII', 'IIIIIIIIIIIIIIIIIIIIIIIIIIIIIIIIIIIIIIIIIIIZZIIIII', 'IIIIIIIIIIIIIIIIIIIIIIIIIIIIIIIIIIIIIIIIIXXIIIIIII', 'IIIIIIIIIIIIIIIIIIIIIIIIIIIIIIIIIIIIIIIIIYYIIIIIII', 'IIIIIIIIIIIIIIIIIIIIIIIIIIIIIIIIIIIIIIIIIZZIIIIIII', 'IIIIIIIIIIIIIIIIIIIIIIIIIIIIIIIIIIIIIIIXXIIIIIIIII', 'IIIIIIIIIIIIIIIIIIIIIIIIIIIIIIIIIIIIIIIYYIIIIIIIII', 'IIIIIIIIIIIIIIIIIIIIIIIIIIIIIIIIIIIIIIIZZIIIIIIIII', 'IIIIIIIIIIIIIIIIIIIIIIIIIIIIIIIIIIIIIXXIIIIIIIIIII', 'IIIIIIIIIIIIIIIIIIIIIIIIIIIIIIIIIIIIIYYIIIIIIIIIII', 'IIIIIIIIIIIIIIIIIIIIIIIIIIIIIIIIIIIIIZZIIIIIIIIIII', 'IIIIIIIIIIIIIIIIIIIIIIIIIIIIIIIIIIIXXIIIIIIIIIIIII', 'IIIIIIIIIIIIIIIIIIIIIIIIIIIIIIIIIIIYYIIIIIIIIIIIII', 'IIIIIIIIIIIIIIIIIIIIIIIIIIIIIIIIIIIZZIIIIIIIIIIIII', 'IIIIIIIIIIIIIIIIIIIIIIIIIIIIIIIIIXXIIIIIIIIIIIIIII', 'IIIIIIIIIIIIIIIIIIIIIIIIIIIIIIIIIYYIIIIIIIIIIIIIII', 'IIIIIIIIIIIIIIIIIIIIIIIIIIIIIIIIIZZIIIIIIIIIIIIIII', 'IIIIIIIIIIIIIIIIIIIIIIIIIIIIIIIXXIIIIIIIIIIIIIIIII', 'IIIIIIIIIIIIIIIIIIIIIIIIIIIIIIIYYIIIIIIIIIIIIIIIII', 'IIIIIIIIIIIIIIIIIIIIIIIIIIIIIIIZZIIIIIIIIIIIIIIIII', 'IIIIIIIIIIIIIIIIIIIIIIIIIIIIIXXIIIIIIIIIIIIIIIIIII', 'IIIIIIIIIIIIIIIIIIIIIIIIIIIIIYYIIIIIIIIIIIIIIIIIII', 'IIIIIIIIIIIIIIIIIIIIIIIIIIIIIZZIIIIIIIIIIIIIIIIIII', 'IIIIIIIIIIIIIIIIIIIIIIIIIIIXXIIIIIIIIIIIIIIIIIIIII', 'IIIIIIIIIIIIIIIIIIIIIIIIIIIYYIIIIIIIIIIIIIIIIIIIII', 'IIIIIIIIIIIIIIIIIIIIIIIIIIIZZIIIIIIIIIIIIIIIIIIIII', 'IIIIIIIIIIIIIIIIIIIIIIIIIXXIIIIIIIIIIIIIIIIIIIIIII', 'IIIIIIIIIIIIIIIIIIIIIIIIIYYIIIIIIIIIIIIIIIIIIIIIII', 'IIIIIIIIIIIIIIIIIIIIIIIIIZZIIIIIIIIIIIIIIIIIIIIIII', 'IIIIIIIIIIIIIIIIIIIIIIIXXIIIIIIIIIIIIIIIIIIIIIIIII', 'IIIIIIIIIIIIIIIIIIIIIIIYYIIIIIIIIIIIIIIIIIIIIIIIII', 'IIIIIIIIIIIIIIIIIIIIIIIZZIIIIIIIIIIIIIIIIIIIIIIIII', 'IIIIIIIIIIIIIIIIIIIIIXXIIIIIIIIIIIIIIIIIIIIIIIIIII', 'IIIIIIIIIIIIIIIIIIIIIYYIIIIIIIIIIIIIIIIIIIIIIIIIII', 'IIIIIIIIIIIIIIIIIIIIIZZIIIIIIIIIIIIIIIIIIIIIIIIIII', 'IIIIIIIIIIIIIIIIIIIXXIIIIIIIIIIIIIIIIIIIIIIIIIIIII', 'IIIIIIIIIIIIIIIIIIIYYIIIIIIIIIIIIIIIIIIIIIIIIIIIII', 'IIIIIIIIIIIIIIIIIIIZZIIIIIIIIIIIIIIIIIIIIIIIIIIIII', 'IIIIIIIIIIIIIIIIIXXIIIIIIIIIIIIIIIIIIIIIIIIIIIIIII', 'IIIIIIIIIIIIIIIIIYYIIIIIIIIIIIIIIIIIIIIIIIIIIIIIII', 'IIIIIIIIIIIIIIIIIZZIIIIIIIIIIIIIIIIIIIIIIIIIIIIIII', 'IIIIIIIIIIIIIIIXXIIIIIIIIIIIIIIIIIIIIIIIIIIIIIIIII', 'IIIIIIIIIIIIIIIYYIIIIIIIIIIIIIIIIIIIIIIIIIIIIIIIII', 'IIIIIIIIIIIIIIIZZIIIIIIIIIIIIIIIIIIIIIIIIIIIIIIIII', 'IIIIIIIIIIIIIXXIIIIIIIIIIIIIIIIIIIIIIIIIIIIIIIIIII', 'IIIIIIIIIIIIIYYIIIIIIIIIIIIIIIIIIIIIIIIIIIIIIIIIII', 'IIIIIIIIIIIIIZZIIIIIIIIIIIIIIIIIIIIIIIIIIIIIIIIIII', 'IIIIIIIIIIIXXIIIIIIIIIIIIIIIIIIIIIIIIIIIIIIIIIIIII', 'IIIIIIIIIIIYYIIIIIIIIIIIIIIIIIIIIIIIIIIIIIIIIIIIII', 'IIIIIIIIIIIZZIIIIIIIIIIIIIIIIIIIIIIIIIIIIIIIIIIIII', 'IIIIIIIIIXXIIIIIIIIIIIIIIIIIIIIIIIIIIIIIIIIIIIIIII', 'IIIIIIIIIYYIIIIIIIIIIIIIIIIIIIIIIIIIIIIIIIIIIIIIII', 'IIIIIIIIIZZIIIIIIIIIIIIIIIIIIIIIIIIIIIIIIIIIIIIIII', 'IIIIIIIXXIIIIIIIIIIIIIIIIIIIIIIIIIIIIIIIIIIIIIIIII', 'IIIIIIIYYIIIIIIIIIIIIIIIIIIIIIIIIIIIIIIIIIIIIIIIII', 'IIIIIIIZZIIIIIIIIIIIIIIIIIIIIIIIIIIIIIIIIIIIIIIIII', 'IIIIIXXIIIIIIIIIIIIIIIIIIIIIIIIIIIIIIIIIIIIIIIIIII', 'IIIIIYYIIIIIIIIIIIIIIIIIIIIIIIIIIIIIIIIIIIIIIIIIII', 'IIIIIZZIIIIIIIIIIIIIIIIIIIIIIIIIIIIIIIIIIIIIIIIIII', 'IIIXXIIIIIIIIIIIIIIIIIIIIIIIIIIIIIIIIIIIIIIIIIIIII', 'IIIYYIIIIIIIIIIIIIIIIIIIIIIIIIIIIIIIIIIIIIIIIIIIII', 'IIIZZIIIIIIIIIIIIIIIIIIIIIIIIIIIIIIIIIIIIIIIIIIIII', 'IXXIIIIIIIIIIIIIIIIIIIIIIIIIIIIIIIIIIIIIIIIIIIIIII', 'IYYIIIIIIIIIIIIIIIIIIIIIIIIIIIIIIIIIIIIIIIIIIIIIII', 'IZZIIIIIIIIIIIIIIIIIIIIIIIIIIIIIIIIIIIIIIIIIIIIIII'],\n",
      "              coeffs=[0.52440675+0.j, 0.52440675+0.j, 1.0488135 +0.j, 0.55138169+0.j,\n",
      " 0.55138169+0.j, 1.10276338+0.j, 0.4618274 +0.j, 0.4618274 +0.j,\n",
      " 0.9236548 +0.j, 0.46879361+0.j, 0.46879361+0.j, 0.93758721+0.j,\n",
      " 0.73183138+0.j, 0.73183138+0.j, 1.46366276+0.j, 0.64586252+0.j,\n",
      " 0.64586252+0.j, 1.29172504+0.j, 0.53402228+0.j, 0.53402228+0.j,\n",
      " 1.06804456+0.j, 0.28551803+0.j, 0.28551803+0.j, 0.57103606+0.j,\n",
      " 0.2601092 +0.j, 0.2601092 +0.j, 0.5202184 +0.j, 0.63907838+0.j,\n",
      " 0.63907838+0.j, 1.27815675+0.j, 0.73930917+0.j, 0.73930917+0.j,\n",
      " 1.47861834+0.j, 0.48073968+0.j, 0.48073968+0.j, 0.96147936+0.j,\n",
      " 0.30913721+0.j, 0.30913721+0.j, 0.61827443+0.j, 0.32167664+0.j,\n",
      " 0.32167664+0.j, 0.64335329+0.j, 0.51092416+0.j, 0.51092416+0.j,\n",
      " 1.02184832+0.j, 0.38227781+0.j, 0.38227781+0.j, 0.76455561+0.j,\n",
      " 0.47807517+0.j, 0.47807517+0.j, 0.95615033+0.j, 0.2593949 +0.j,\n",
      " 0.2593949 +0.j, 0.5187898 +0.j, 0.55604786+0.j, 0.55604786+0.j,\n",
      " 1.11209572+0.j, 0.72187404+0.j, 0.72187404+0.j, 1.44374808+0.j,\n",
      " 0.42975395+0.j, 0.42975395+0.j, 0.8595079 +0.j, 0.5988156 +0.j,\n",
      " 0.5988156 +0.j, 1.1976312 +0.j, 0.58338336+0.j, 0.58338336+0.j,\n",
      " 1.16676672+0.j, 0.35519128+0.j, 0.35519128+0.j, 0.71038256+0.j,\n",
      " 0.40771418+0.j, 0.40771418+0.j, 0.81542835+0.j, 0.60759468+0.j,\n",
      " 0.60759468+0.j, 1.21518937+0.j, 0.52244159+0.j, 0.52244159+0.j,\n",
      " 1.04488318+0.j, 0.57294706+0.j, 0.57294706+0.j, 1.14589411+0.j,\n",
      " 0.6958865 +0.j, 0.6958865 +0.j, 1.391773  +0.j, 0.44172076+0.j,\n",
      " 0.44172076+0.j, 0.88344152+0.j, 0.51444746+0.j, 0.51444746+0.j,\n",
      " 1.02889492+0.j, 0.71279832+0.j, 0.71279832+0.j, 1.42559664+0.j,\n",
      " 0.29356465+0.j, 0.29356465+0.j, 0.5871293 +0.j, 0.66630992+0.j,\n",
      " 0.66630992+0.j, 1.33261985+0.j, 0.68500607+0.j, 0.68500607+0.j,\n",
      " 1.37001215+0.j, 0.64957928+0.j, 0.64957928+0.j, 1.29915856+0.j,\n",
      " 0.64026459+0.j, 0.64026459+0.j, 1.28052918+0.j, 0.56996051+0.j,\n",
      " 0.56996051+0.j, 1.13992102+0.j, 0.72233446+0.j, 0.72233446+0.j,\n",
      " 1.44466892+0.j, 0.45733097+0.j, 0.45733097+0.j, 0.91466194+0.j,\n",
      " 0.63711684+0.j, 0.63711684+0.j, 1.27423369+0.j, 0.53421697+0.j,\n",
      " 0.53421697+0.j, 1.06843395+0.j, 0.55881775+0.j, 0.55881775+0.j,\n",
      " 1.1176355 +0.j, 0.558467  +0.j, 0.558467  +0.j, 1.116934  +0.j,\n",
      " 0.59091015+0.j, 0.59091015+0.j, 1.1818203 +0.j, 0.46851598+0.j,\n",
      " 0.46851598+0.j, 0.93703195+0.j, 0.28011274+0.j, 0.28011274+0.j,\n",
      " 0.56022547+0.j, 0.58531893+0.j, 0.58531893+0.j, 1.17063787+0.j,\n",
      " 0.31446315+0.j, 0.31446315+0.j, 0.6289263 +0.j])\n",
      "hamiltonian_sim_entrypoint.run_function:INFO:2025-07-14 08:38:05,597: Observable: SparsePauliOp(['IIIIIIIIIIIIIIIIIIIIIIIIZZIIIIIIIIIIIIIIIIIIIIIIII'],\n",
      "              coeffs=[1.+0.j])\n",
      "hamiltonian_sim_entrypoint.run_function:INFO:2025-07-14 08:38:11,924: Target MPS maximum bond dimension: 5\n",
      "hamiltonian_sim_entrypoint.run_function:INFO:2025-07-14 08:38:12,026: Number of AQC parameters: 816\n",
      "hamiltonian_sim_entrypoint.run_function:INFO:2025-07-14 08:38:12,224: Starting fidelity of AQC portion: 0.9914382555614002\n",
      "/tmp/ray/session_2025-07-14_08-36-24_199540_1/runtime_resources/working_dir_files/_ray_pkg_7fc919a5ada99a0e/hamiltonian_sim_entrypoint.py:220: DeprecationWarning: The class ``qiskit_addon_aqc_tensor.objective.OneMinusFidelity`` is deprecated as of qiskit-addon-aqc-tensor 0.2.0. It will be removed no earlier than v0.4.0. This class has been renamed to ``MaximizeStateFidelity``.\n",
      "  objective = OneMinusFidelity(aqc_target_mps, aqc_ansatz, simulator_settings)\n",
      "hamiltonian_sim_entrypoint.callback:INFO:2025-07-14 08:38:50,218: 2025-07-14 08:38:50.218262 Intermediate result: Fidelity 0.99764200\n",
      "hamiltonian_sim_entrypoint.callback:INFO:2025-07-14 08:38:50,246: 2025-07-14 08:38:50.246522 Intermediate result: Fidelity 0.99788134\n",
      "hamiltonian_sim_entrypoint.callback:INFO:2025-07-14 08:38:50,286: 2025-07-14 08:38:50.286290 Intermediate result: Fidelity 0.99795732\n",
      "hamiltonian_sim_entrypoint.callback:INFO:2025-07-14 08:38:50,320: 2025-07-14 08:38:50.320159 Intermediate result: Fidelity 0.99799126\n",
      "hamiltonian_sim_entrypoint.callback:INFO:2025-07-14 08:38:50,348: 2025-07-14 08:38:50.348090 Intermediate result: Fidelity 0.99803485\n",
      "hamiltonian_sim_entrypoint.callback:INFO:2025-07-14 08:38:50,376: 2025-07-14 08:38:50.376160 Intermediate result: Fidelity 0.99809868\n",
      "hamiltonian_sim_entrypoint.callback:INFO:2025-07-14 08:38:50,404: 2025-07-14 08:38:50.404446 Intermediate result: Fidelity 0.99824815\n",
      "hamiltonian_sim_entrypoint.callback:INFO:2025-07-14 08:38:50,432: 2025-07-14 08:38:50.432423 Intermediate result: Fidelity 0.99845314\n",
      "hamiltonian_sim_entrypoint.callback:INFO:2025-07-14 08:38:50,460: 2025-07-14 08:38:50.460614 Intermediate result: Fidelity 0.99870378\n",
      "hamiltonian_sim_entrypoint.callback:INFO:2025-07-14 08:38:50,489: 2025-07-14 08:38:50.488991 Intermediate result: Fidelity 0.99891597\n",
      "hamiltonian_sim_entrypoint.callback:INFO:2025-07-14 08:38:50,517: 2025-07-14 08:38:50.517080 Intermediate result: Fidelity 0.99904882\n",
      "hamiltonian_sim_entrypoint.callback:INFO:2025-07-14 08:38:50,545: 2025-07-14 08:38:50.545392 Intermediate result: Fidelity 0.99914486\n",
      "hamiltonian_sim_entrypoint.callback:INFO:2025-07-14 08:38:50,573: 2025-07-14 08:38:50.573808 Intermediate result: Fidelity 0.99923006\n",
      "hamiltonian_sim_entrypoint.callback:INFO:2025-07-14 08:38:50,604: 2025-07-14 08:38:50.604660 Intermediate result: Fidelity 0.99929059\n",
      "hamiltonian_sim_entrypoint.callback:INFO:2025-07-14 08:38:50,635: 2025-07-14 08:38:50.635948 Intermediate result: Fidelity 0.99932456\n",
      "hamiltonian_sim_entrypoint.callback:INFO:2025-07-14 08:38:50,665: 2025-07-14 08:38:50.665840 Intermediate result: Fidelity 0.99936805\n",
      "hamiltonian_sim_entrypoint.callback:INFO:2025-07-14 08:38:50,695: 2025-07-14 08:38:50.695251 Intermediate result: Fidelity 0.99938819\n",
      "hamiltonian_sim_entrypoint.callback:INFO:2025-07-14 08:38:50,724: 2025-07-14 08:38:50.724510 Intermediate result: Fidelity 0.99940583\n",
      "hamiltonian_sim_entrypoint.callback:INFO:2025-07-14 08:38:50,758: 2025-07-14 08:38:50.758733 Intermediate result: Fidelity 0.99941834\n",
      "hamiltonian_sim_entrypoint.callback:INFO:2025-07-14 08:38:50,798: 2025-07-14 08:38:50.798546 Intermediate result: Fidelity 0.99944409\n",
      "hamiltonian_sim_entrypoint.callback:INFO:2025-07-14 08:38:50,829: 2025-07-14 08:38:50.829546 Intermediate result: Fidelity 0.99946995\n",
      "hamiltonian_sim_entrypoint.callback:INFO:2025-07-14 08:38:50,858: 2025-07-14 08:38:50.858376 Intermediate result: Fidelity 0.99948735\n",
      "hamiltonian_sim_entrypoint.callback:INFO:2025-07-14 08:38:50,887: 2025-07-14 08:38:50.887342 Intermediate result: Fidelity 0.99952119\n",
      "hamiltonian_sim_entrypoint.callback:INFO:2025-07-14 08:38:50,916: 2025-07-14 08:38:50.916521 Intermediate result: Fidelity 0.99953704\n",
      "hamiltonian_sim_entrypoint.callback:INFO:2025-07-14 08:38:50,945: 2025-07-14 08:38:50.945804 Intermediate result: Fidelity 0.99955397\n",
      "hamiltonian_sim_entrypoint.callback:INFO:2025-07-14 08:38:50,975: 2025-07-14 08:38:50.975080 Intermediate result: Fidelity 0.99958353\n",
      "hamiltonian_sim_entrypoint.callback:INFO:2025-07-14 08:38:51,003: 2025-07-14 08:38:51.003946 Intermediate result: Fidelity 0.99960283\n",
      "hamiltonian_sim_entrypoint.callback:INFO:2025-07-14 08:38:51,034: 2025-07-14 08:38:51.034776 Intermediate result: Fidelity 0.99961940\n",
      "hamiltonian_sim_entrypoint.callback:INFO:2025-07-14 08:38:51,068: 2025-07-14 08:38:51.068075 Intermediate result: Fidelity 0.99963668\n",
      "hamiltonian_sim_entrypoint.callback:INFO:2025-07-14 08:38:51,099: 2025-07-14 08:38:51.099603 Intermediate result: Fidelity 0.99964264\n",
      "hamiltonian_sim_entrypoint.callback:INFO:2025-07-14 08:38:51,130: 2025-07-14 08:38:51.130505 Intermediate result: Fidelity 0.99964920\n",
      "hamiltonian_sim_entrypoint.callback:INFO:2025-07-14 08:38:51,161: 2025-07-14 08:38:51.161668 Intermediate result: Fidelity 0.99965790\n",
      "hamiltonian_sim_entrypoint.callback:INFO:2025-07-14 08:38:51,193: 2025-07-14 08:38:51.193781 Intermediate result: Fidelity 0.99966386\n",
      "hamiltonian_sim_entrypoint.callback:INFO:2025-07-14 08:38:51,224: 2025-07-14 08:38:51.224801 Intermediate result: Fidelity 0.99967602\n",
      "hamiltonian_sim_entrypoint.callback:INFO:2025-07-14 08:38:51,255: 2025-07-14 08:38:51.255291 Intermediate result: Fidelity 0.99968412\n",
      "hamiltonian_sim_entrypoint.callback:INFO:2025-07-14 08:38:51,286: 2025-07-14 08:38:51.286683 Intermediate result: Fidelity 0.99969044\n",
      "hamiltonian_sim_entrypoint.callback:INFO:2025-07-14 08:38:51,317: 2025-07-14 08:38:51.317080 Intermediate result: Fidelity 0.99970665\n",
      "hamiltonian_sim_entrypoint.callback:INFO:2025-07-14 08:38:51,347: 2025-07-14 08:38:51.346989 Intermediate result: Fidelity 0.99971821\n",
      "hamiltonian_sim_entrypoint.callback:INFO:2025-07-14 08:38:51,377: 2025-07-14 08:38:51.377440 Intermediate result: Fidelity 0.99972870\n",
      "hamiltonian_sim_entrypoint.callback:INFO:2025-07-14 08:38:51,407: 2025-07-14 08:38:51.407078 Intermediate result: Fidelity 0.99973549\n",
      "hamiltonian_sim_entrypoint.callback:INFO:2025-07-14 08:38:51,436: 2025-07-14 08:38:51.436335 Intermediate result: Fidelity 0.99974157\n",
      "hamiltonian_sim_entrypoint.callback:INFO:2025-07-14 08:38:51,466: 2025-07-14 08:38:51.466170 Intermediate result: Fidelity 0.99974252\n",
      "hamiltonian_sim_entrypoint.callback:INFO:2025-07-14 08:38:51,497: 2025-07-14 08:38:51.497522 Intermediate result: Fidelity 0.99974801\n",
      "hamiltonian_sim_entrypoint.callback:INFO:2025-07-14 08:38:51,528: 2025-07-14 08:38:51.528269 Intermediate result: Fidelity 0.99975015\n",
      "hamiltonian_sim_entrypoint.callback:INFO:2025-07-14 08:38:51,557: 2025-07-14 08:38:51.557708 Intermediate result: Fidelity 0.99975146\n",
      "hamiltonian_sim_entrypoint.callback:INFO:2025-07-14 08:38:51,588: 2025-07-14 08:38:51.588333 Intermediate result: Fidelity 0.99975266\n",
      "hamiltonian_sim_entrypoint.callback:INFO:2025-07-14 08:38:51,618: 2025-07-14 08:38:51.618920 Intermediate result: Fidelity 0.99975528\n",
      "hamiltonian_sim_entrypoint.callback:INFO:2025-07-14 08:38:51,653: 2025-07-14 08:38:51.653838 Intermediate result: Fidelity 0.99975885\n",
      "hamiltonian_sim_entrypoint.callback:INFO:2025-07-14 08:38:51,718: 2025-07-14 08:38:51.718721 Intermediate result: Fidelity 0.99976088\n",
      "hamiltonian_sim_entrypoint.callback:INFO:2025-07-14 08:38:51,749: 2025-07-14 08:38:51.749012 Intermediate result: Fidelity 0.99976815\n",
      "hamiltonian_sim_entrypoint.callback:INFO:2025-07-14 08:38:51,808: 2025-07-14 08:38:51.808383 Intermediate result: Fidelity 0.99977030\n",
      "hamiltonian_sim_entrypoint.callback:INFO:2025-07-14 08:38:51,838: 2025-07-14 08:38:51.838627 Intermediate result: Fidelity 0.99977268\n",
      "hamiltonian_sim_entrypoint.callback:INFO:2025-07-14 08:38:51,961: 2025-07-14 08:38:51.961150 Intermediate result: Fidelity 0.99977304\n",
      "hamiltonian_sim_entrypoint.callback:INFO:2025-07-14 08:38:51,991: 2025-07-14 08:38:51.991706 Intermediate result: Fidelity 0.99977602\n",
      "hamiltonian_sim_entrypoint.callback:INFO:2025-07-14 08:38:52,497: 2025-07-14 08:38:52.497896 Intermediate result: Fidelity 0.99977602\n",
      "hamiltonian_sim_entrypoint.run_function:INFO:2025-07-14 08:38:52,498: Done after 55 iterations\n",
      "hamiltonian_sim_entrypoint.run_function:INFO:2025-07-14 08:38:52,779: Fidelity of AQC portion: 0.9997823400276018\n",
      "hamiltonian_sim_entrypoint.run_function:INFO:2025-07-14 08:40:05,505: ISA circuit two-qubit depth: 33\n",
      "hamiltonian_sim_entrypoint.run_function:INFO:2025-07-14 08:40:05,505: Exiting before hardware execution since `dry_run` is True.\n",
      "\n"
     ]
    }
   ],
   "source": [
    "print(job.logs())"
   ]
  },
  {
   "cell_type": "markdown",
   "id": "ba179114",
   "metadata": {},
   "source": [
    "Block the rest of the program until a result is available. After the job is done, you can retrieve the results. These include the domain-level output of Hamiltonian simulation (expectation value) and useful metadata."
   ]
  },
  {
   "cell_type": "code",
   "execution_count": 13,
   "id": "3500adce",
   "metadata": {},
   "outputs": [
    {
     "data": {
      "text/plain": [
       "{'target_bond_dimension': 5,\n",
       " 'num_aqc_parameters': 816,\n",
       " 'aqc_starting_fidelity': 0.9914382555614002,\n",
       " 'num_iterations': 55,\n",
       " 'aqc_fidelity': 0.9997823400276018,\n",
       " 'twoqubit_depth': 33,\n",
       " 'metadata': {'resources_usage': {'RUNNING: MAPPING': {'CPU_TIME': 50.21914720535278},\n",
       "   'RUNNING: OPTIMIZING_FOR_HARDWARE': {'CPU_TIME': 72.71492671966553}}}}"
      ]
     },
     "execution_count": 13,
     "metadata": {},
     "output_type": "execute_result"
    }
   ],
   "source": [
    "result = job.result()\n",
    "\n",
    "del result[\"aqc_final_parameters\"]  # the list is too long to conveniently display here\n",
    "result"
   ]
  },
  {
   "cell_type": "markdown",
   "id": "6a1a2ff3",
   "metadata": {},
   "source": [
    "Note that the result metadata includes a resource usage summary that allows to better estimate the QPU and CPU time required for each workload (this example runs on dry-run mode so no quantum resources are used).  "
   ]
  }
 ],
 "metadata": {
  "kernelspec": {
   "display_name": "Python 3 (ipykernel)",
   "language": "python",
   "name": "python3"
  },
  "language_info": {
   "codemirror_mode": {
    "name": "ipython",
    "version": 3
   },
   "file_extension": ".py",
   "mimetype": "text/x-python",
   "name": "python",
   "nbconvert_exporter": "python",
   "pygments_lexer": "ipython3",
   "version": "3.11.9"
  }
 },
 "nbformat": 4,
 "nbformat_minor": 5
}
