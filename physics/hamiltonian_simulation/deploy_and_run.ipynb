{
 "cells": [
  {
   "cell_type": "markdown",
   "id": "8cfa587b",
   "metadata": {},
   "source": [
    "# Deploy and Run the Hamiltonian Simulation Function"
   ]
  },
  {
   "cell_type": "markdown",
   "id": "01bdd609",
   "metadata": {
    "vscode": {
     "languageId": "plaintext"
    }
   },
   "source": [
    "This interactive guide shows how to upload the hamiltonian simulation function to Qiskit Serverless and run an example workload."
   ]
  },
  {
   "cell_type": "markdown",
   "id": "a0cb6f4a",
   "metadata": {
    "vscode": {
     "languageId": "plaintext"
    }
   },
   "source": [
    "### Requirements\n",
    "\n",
    "This guide was developed with the following local package versions:\n",
    "\n",
    "```\n",
    "qiskit == 1.4.3\n",
    "qiskit-ibm-catalog == 0.6.0\n",
    "qiskit-ibm-runtime == 0.39.0\n",
    "numpy == 2.2.6\n",
    "```"
   ]
  },
  {
   "cell_type": "markdown",
   "id": "6c92ac84",
   "metadata": {
    "vscode": {
     "languageId": "plaintext"
    }
   },
   "source": [
    "## 1. Autentication\n",
    "\n",
    "Use `qiskit-ibm-catalog` to authenticate to `QiskitServerless` with your API key (token), which you can find on the [IBM Quantum Platform](https://quantum.cloud.ibm.com) dashboard. This will allow you to locally instantiate the serverless client to upload or run the selected function:\n",
    "\n",
    "```python\n",
    "from qiskit_ibm_catalog import QiskitServerless\n",
    "serverless = QiskitServerless(token=\"MY_TOKEN\")\n",
    "```\n",
    "\n",
    "You can optionally use `save_account()` to save your credentials in your local environment (see the [Set up your IBM Cloud account](/docs/guides/cloud-setup#cloud-save) guide). Note that this writes your credentials to the same file as [`QiskitRuntimeService.save_account()`](/docs/api/qiskit-ibm-runtime/qiskit-runtime-service#save_account):\n",
    "\n",
    "```python\n",
    "QiskitServerless.save_account(token=\"MY_TOKEN\")\n",
    "```\n",
    "\n",
    "If the account is saved, there is no need to provide the token to authenticate:"
   ]
  },
  {
   "cell_type": "code",
   "execution_count": 1,
   "id": "7393286a",
   "metadata": {},
   "outputs": [],
   "source": [
    "from qiskit_ibm_catalog import QiskitServerless\n",
    "\n",
    "# Authenticate to the remote cluster\n",
    "# In this case, using the \"ibm_quantum\" channel\n",
    "serverless = QiskitServerless(\n",
    "    channel=\"ibm_quantum\",\n",
    "    token=\"49a6dd5171f88b09ee02affa7b06e7abfe346d6562f52d8151f972ac592ff69eaae03d2b954d6f686c6c27046ad7c3f993b74777cca360c5a4f5191984a0f0db\",\n",
    ")"
   ]
  },
  {
   "cell_type": "markdown",
   "id": "e1f99d80",
   "metadata": {
    "vscode": {
     "languageId": "plaintext"
    }
   },
   "source": [
    "## 2. Upload the custom function"
   ]
  },
  {
   "cell_type": "markdown",
   "id": "3e0e8cc8",
   "metadata": {
    "vscode": {
     "languageId": "plaintext"
    }
   },
   "source": [
    "To upload a Qiskit Function, you must first instantiate a `QiskitFunction` object that defines the function source code. The title will allow you to identify the function once it's in the remote cluster. The main entry point is the file that contains `if __name__ == \"__main__\"`. If your workflow requires additional source files, you can define a working directory that will be uploaded together with the entry point."
   ]
  },
  {
   "cell_type": "code",
   "execution_count": 2,
   "id": "77b2b9b6",
   "metadata": {},
   "outputs": [
    {
     "name": "stdout",
     "output_type": "stream",
     "text": [
      "QiskitFunction(hamiltonian_simulation_template)\n"
     ]
    }
   ],
   "source": [
    "from qiskit_ibm_catalog import QiskitFunction\n",
    "\n",
    "template = QiskitFunction(\n",
    "    title=\"hamiltonian_simulation_template\",\n",
    "    entrypoint=\"hamiltonian_sim_entrypoint.py\",\n",
    "    working_dir=\"./source_files/\",  # all files in this directory will be uploaded\n",
    ")\n",
    "print(template)"
   ]
  },
  {
   "cell_type": "markdown",
   "id": "72854f5a",
   "metadata": {},
   "source": [
    "Once the instance is ready, upload it to serverless:"
   ]
  },
  {
   "cell_type": "code",
   "execution_count": 3,
   "id": "59e7fdb5",
   "metadata": {},
   "outputs": [
    {
     "data": {
      "text/plain": [
       "QiskitFunction(hamiltonian_simulation_template)"
      ]
     },
     "execution_count": 3,
     "metadata": {},
     "output_type": "execute_result"
    }
   ],
   "source": [
    "serverless.upload(template)"
   ]
  },
  {
   "cell_type": "markdown",
   "id": "ac7d8764",
   "metadata": {
    "vscode": {
     "languageId": "plaintext"
    }
   },
   "source": [
    "To check if the program successfully uploaded, use `serverless.list()`:"
   ]
  },
  {
   "cell_type": "code",
   "execution_count": 4,
   "id": "03a91030",
   "metadata": {},
   "outputs": [
    {
     "data": {
      "text/plain": [
       "[QiskitFunction(template_hamiltonian_simulation),\n",
       " QiskitFunction(hamiltonian_simulation_template),\n",
       " QiskitFunction(sqd_pcm_template)]"
      ]
     },
     "execution_count": 4,
     "metadata": {},
     "output_type": "execute_result"
    }
   ],
   "source": [
    "serverless.list()"
   ]
  },
  {
   "cell_type": "markdown",
   "id": "99408586",
   "metadata": {},
   "source": [
    "## 3. Lod and run the custom function remotely"
   ]
  },
  {
   "cell_type": "markdown",
   "id": "62b37d7a",
   "metadata": {},
   "source": [
    "\n",
    "The function template has been uploaded, so you can run it remotely with Qiskit Serverless. First, load the template by name:"
   ]
  },
  {
   "cell_type": "code",
   "execution_count": 5,
   "id": "854d12cf",
   "metadata": {},
   "outputs": [
    {
     "name": "stdout",
     "output_type": "stream",
     "text": [
      "QiskitFunction(hamiltonian_simulation_template)\n"
     ]
    }
   ],
   "source": [
    "template = serverless.load(\"hamiltonian_simulation_template\")\n",
    "print(template)"
   ]
  },
  {
   "cell_type": "markdown",
   "id": "fa2dc721",
   "metadata": {
    "vscode": {
     "languageId": "plaintext"
    }
   },
   "source": [
    "Next, run the template with the domain-level inputs for Hamiltonian simulation. This example specifies a 50-qubit XXZ model with random couplings, and an initial state and observable."
   ]
  },
  {
   "cell_type": "code",
   "execution_count": 6,
   "id": "a1719ab1",
   "metadata": {},
   "outputs": [],
   "source": [
    "from itertools import chain\n",
    "import numpy as np\n",
    "from qiskit.quantum_info import SparsePauliOp\n",
    "\n",
    "L = 50\n",
    "\n",
    "# Generate the edge list for this spin-chain\n",
    "edges = [(i, i + 1) for i in range(L - 1)]\n",
    "# Generate an edge-coloring so we can make hw-efficient circuits\n",
    "edges = edges[::2] + edges[1::2]\n",
    "\n",
    "# Generate random coefficients for our XXZ Hamiltonian\n",
    "np.random.seed(0)\n",
    "Js = np.random.rand(L - 1) + 0.5 * np.ones(L - 1)\n",
    "\n",
    "hamiltonian = SparsePauliOp.from_sparse_list(\n",
    "    chain.from_iterable(\n",
    "        [\n",
    "            [\n",
    "                (\"XX\", (i, j), Js[i] / 2),\n",
    "                (\"YY\", (i, j), Js[i] / 2),\n",
    "                (\"ZZ\", (i, j), Js[i]),\n",
    "            ]\n",
    "            for i, j in edges\n",
    "        ]\n",
    "    ),\n",
    "    num_qubits=L,\n",
    ")\n",
    "observable = SparsePauliOp.from_sparse_list([(\"ZZ\", (L // 2 - 1, L // 2), 1.0)], num_qubits=L)"
   ]
  },
  {
   "cell_type": "code",
   "execution_count": 7,
   "id": "6226745b",
   "metadata": {},
   "outputs": [],
   "source": [
    "from qiskit import QuantumCircuit\n",
    "\n",
    "initial_state = QuantumCircuit(L)\n",
    "for i in range(L):\n",
    "    if i % 2:\n",
    "        initial_state.x(i)"
   ]
  },
  {
   "cell_type": "code",
   "execution_count": 8,
   "id": "01c0667c",
   "metadata": {},
   "outputs": [
    {
     "name": "stdout",
     "output_type": "stream",
     "text": [
      "907d33a2-3c43-49e7-a91e-5b5c26c0b7ae\n"
     ]
    }
   ],
   "source": [
    "# set up AQC options\n",
    "\n",
    "aqc_options = {\n",
    "    \"aqc_evolution_time\": 0.2,\n",
    "    \"aqc_ansatz_num_trotter_steps\": 1,\n",
    "    \"aqc_target_num_trotter_steps\": 32,\n",
    "    \"remainder_evolution_time\": 0.2,\n",
    "    \"remainder_num_trotter_steps\": 4,\n",
    "    \"aqc_max_iterations\": 300,\n",
    "}\n",
    "\n",
    "job = template.run(\n",
    "    backend_name=\"ibm_fez\",\n",
    "    hamiltonian=hamiltonian,\n",
    "    observable=observable,\n",
    "    initial_state=initial_state,\n",
    "    aqc_options=aqc_options,\n",
    "    estimator_options={},\n",
    "    dry_run=True,\n",
    ")\n",
    "print(job.job_id)"
   ]
  },
  {
   "cell_type": "markdown",
   "id": "a9101a94",
   "metadata": {},
   "source": [
    "Check the detailed status of the job:"
   ]
  },
  {
   "cell_type": "code",
   "execution_count": 9,
   "id": "4385a34f",
   "metadata": {},
   "outputs": [
    {
     "name": "stdout",
     "output_type": "stream",
     "text": [
      "time = 2.71, status = QUEUED\n",
      "time = 73.89, status = INITIALIZING\n",
      "time = 77.08, status = RUNNING\n",
      "time = 79.62, status = RUNNING\n",
      "time = 82.80, status = RUNNING\n",
      "time = 85.66, status = RUNNING\n",
      "time = 88.30, status = RUNNING\n",
      "time = 91.12, status = RUNNING\n",
      "time = 93.83, status = RUNNING\n",
      "time = 96.42, status = RUNNING\n",
      "time = 98.98, status = RUNNING\n",
      "time = 101.74, status = RUNNING\n",
      "time = 104.40, status = RUNNING\n",
      "time = 107.11, status = RUNNING\n",
      "time = 109.73, status = RUNNING\n",
      "time = 112.39, status = RUNNING\n",
      "time = 114.99, status = RUNNING\n",
      "time = 117.72, status = RUNNING\n",
      "time = 120.38, status = RUNNING\n",
      "time = 123.25, status = RUNNING\n",
      "time = 125.91, status = RUNNING\n",
      "time = 128.67, status = RUNNING\n",
      "time = 131.47, status = RUNNING\n",
      "time = 134.03, status = RUNNING\n",
      "time = 136.67, status = RUNNING\n",
      "time = 139.62, status = RUNNING\n",
      "time = 142.40, status = RUNNING: MAPPING\n",
      "time = 145.16, status = RUNNING: MAPPING\n",
      "time = 147.92, status = RUNNING: MAPPING\n",
      "time = 150.89, status = RUNNING: MAPPING\n",
      "time = 153.45, status = RUNNING: MAPPING\n",
      "time = 156.16, status = RUNNING: MAPPING\n",
      "time = 159.19, status = RUNNING: MAPPING\n",
      "time = 161.71, status = RUNNING: MAPPING\n",
      "time = 164.97, status = RUNNING: MAPPING\n",
      "time = 167.69, status = RUNNING: MAPPING\n",
      "time = 170.47, status = RUNNING: MAPPING\n",
      "time = 173.15, status = RUNNING: MAPPING\n",
      "time = 175.80, status = RUNNING: MAPPING\n",
      "time = 178.54, status = RUNNING: MAPPING\n",
      "time = 181.30, status = RUNNING: MAPPING\n",
      "time = 186.32, status = RUNNING: MAPPING\n",
      "time = 189.20, status = RUNNING: MAPPING\n",
      "time = 191.99, status = RUNNING: MAPPING\n",
      "time = 194.86, status = RUNNING: OPTIMIZING_FOR_HARDWARE\n",
      "time = 197.59, status = RUNNING: OPTIMIZING_FOR_HARDWARE\n",
      "time = 200.62, status = RUNNING: OPTIMIZING_FOR_HARDWARE\n",
      "time = 203.25, status = RUNNING: OPTIMIZING_FOR_HARDWARE\n",
      "time = 206.00, status = RUNNING: OPTIMIZING_FOR_HARDWARE\n",
      "time = 208.65, status = RUNNING: OPTIMIZING_FOR_HARDWARE\n",
      "time = 211.14, status = RUNNING: OPTIMIZING_FOR_HARDWARE\n",
      "time = 213.87, status = RUNNING: OPTIMIZING_FOR_HARDWARE\n",
      "time = 216.55, status = RUNNING: OPTIMIZING_FOR_HARDWARE\n",
      "time = 219.40, status = RUNNING: OPTIMIZING_FOR_HARDWARE\n",
      "time = 222.06, status = RUNNING: OPTIMIZING_FOR_HARDWARE\n",
      "time = 224.89, status = RUNNING: OPTIMIZING_FOR_HARDWARE\n",
      "time = 227.57, status = RUNNING: OPTIMIZING_FOR_HARDWARE\n",
      "time = 230.56, status = RUNNING: OPTIMIZING_FOR_HARDWARE\n",
      "time = 233.38, status = RUNNING: OPTIMIZING_FOR_HARDWARE\n",
      "time = 235.97, status = RUNNING: OPTIMIZING_FOR_HARDWARE\n",
      "time = 238.63, status = RUNNING: OPTIMIZING_FOR_HARDWARE\n",
      "time = 241.42, status = RUNNING: OPTIMIZING_FOR_HARDWARE\n",
      "time = 244.39, status = RUNNING: OPTIMIZING_FOR_HARDWARE\n",
      "time = 247.32, status = DONE\n"
     ]
    }
   ],
   "source": [
    "import time\n",
    "\n",
    "t0 = time.time()\n",
    "status = job.status()\n",
    "if status == \"QUEUED\":\n",
    "    print(f\"time = {time.time()-t0:.2f}, status = QUEUED\")\n",
    "while True:\n",
    "    status = job.status()\n",
    "    if status == \"QUEUED\":\n",
    "        continue\n",
    "    print(f\"time = {time.time()-t0:.2f}, status = {status}\")\n",
    "    if status == \"DONE\" or status == \"ERROR\":\n",
    "        break"
   ]
  },
  {
   "cell_type": "markdown",
   "id": "4adc5293",
   "metadata": {},
   "source": [
    "After the job is running, you can fetch logs created from the `logger.info` outputs. These can provide actionable information about the progress of the Hamiltonian simulation workflow. For example, the value of the objective function during the iterative component of AQC, or the two-qubit depth of the final ISA circuit intended for execution on hardware."
   ]
  },
  {
   "cell_type": "code",
   "execution_count": 10,
   "id": "a5b1f190",
   "metadata": {},
   "outputs": [
    {
     "name": "stdout",
     "output_type": "stream",
     "text": [
      "2025-05-26 13:28:05,191\tINFO job_manager.py:531 -- Runtime env is setting up.\n",
      "/usr/local/lib/python3.11/site-packages/cotengra/hyperoptimizers/hyper.py:54: UserWarning: Couldn't find `optuna`, `cmaes`, or `nevergrad` so will use completely random sampling in place of hyper-optimization.\n",
      "  warnings.warn(\n",
      "/usr/local/lib/python3.11/site-packages/cotengra/hyperoptimizers/hyper.py:73: UserWarning: Couldn't find `optuna`, `cmaes`, or `nevergrad` so will use completely random sampling in place of hyper-optimization.\n",
      "  warnings.warn(\n",
      "/usr/local/lib64/python3.11/site-packages/qiskit/qpy/interface.py:346: UserWarning: The qiskit version used to generate the provided QPY file, 1.4.3, is newer than the current qiskit version 1.4.2. This may result in an error if the QPY file uses instructions not present in this current qiskit version\n",
      "  warnings.warn(\n",
      "hamiltonian_sim_entrypoint.run_function:INFO:2025-05-26 13:29:05,025: Starting runtime service\n",
      "/tmp/ray/session_2025-05-26_13-27-38_752650_1/runtime_resources/working_dir_files/_ray_pkg_ff57d4035f255a0a/hamiltonian_sim_entrypoint.py:102: DeprecationWarning: The \"ibm_quantum\" channel option is deprecated and will be sunset on 1 July. After this date, ibm_cloud will be the only valid channel. For information on migrating to the new IBM Quantum Platform on the \"ibm_cloud\" channel, review the migration guide https://quantum.cloud.ibm.com/docs/migration-guides/classic-iqp-to-cloud-iqp .\n",
      "  service = QiskitRuntimeService()\n",
      "hamiltonian_sim_entrypoint.run_function:INFO:2025-05-26 13:29:12,066: Backend: ibm_fez\n",
      "hamiltonian_sim_entrypoint.run_function:INFO:2025-05-26 13:29:12,068: estimator_options = {\n",
      "    \"resilience\": {\n",
      "        \"measure_mitigation\": true,\n",
      "        \"zne_mitigation\": true,\n",
      "        \"zne\": {\n",
      "            \"amplifier\": \"gate_folding\",\n",
      "            \"noise_factors\": [\n",
      "                1,\n",
      "                2,\n",
      "                3\n",
      "            ],\n",
      "            \"extrapolated_noise_factors\": [\n",
      "                0.0,\n",
      "                0.1,\n",
      "                0.2,\n",
      "                0.30000000000000004,\n",
      "                0.4,\n",
      "                0.5,\n",
      "                0.6000000000000001,\n",
      "                0.7000000000000001,\n",
      "                0.8,\n",
      "                0.9,\n",
      "                1.0,\n",
      "                1.1,\n",
      "                1.2000000000000002,\n",
      "                1.3,\n",
      "                1.4000000000000001,\n",
      "                1.5,\n",
      "                1.6,\n",
      "                1.7000000000000002,\n",
      "                1.8,\n",
      "                1.9000000000000001,\n",
      "                2.0,\n",
      "                2.1,\n",
      "                2.2,\n",
      "                2.3000000000000003,\n",
      "                2.4000000000000004,\n",
      "                2.5,\n",
      "                2.6,\n",
      "                2.7,\n",
      "                2.8000000000000003,\n",
      "                2.9000000000000004,\n",
      "                3.0\n",
      "            ],\n",
      "            \"extrapolator\": [\n",
      "                \"exponential\",\n",
      "                \"linear\",\n",
      "                \"fallback\"\n",
      "            ]\n",
      "        },\n",
      "        \"measure_noise_learning\": {\n",
      "            \"num_randomizations\": 512,\n",
      "            \"shots_per_randomization\": 512\n",
      "        }\n",
      "    },\n",
      "    \"twirling\": {\n",
      "        \"enable_gates\": true,\n",
      "        \"enable_measure\": true,\n",
      "        \"num_randomizations\": 300,\n",
      "        \"shots_per_randomization\": 100,\n",
      "        \"strategy\": \"active\"\n",
      "    },\n",
      "    \"environment\": {\n",
      "        \"job_tags\": [\n",
      "            \"hamsim_function\"\n",
      "        ]\n",
      "    }\n",
      "}\n",
      "hamiltonian_sim_entrypoint.run_function:INFO:2025-05-26 13:29:14,586: Hamiltonian: SparsePauliOp(['IIIIIIIIIIIIIIIIIIIIIIIIIIIIIIIIIIIIIIIIIIIIIIIIXX', 'IIIIIIIIIIIIIIIIIIIIIIIIIIIIIIIIIIIIIIIIIIIIIIIIYY', 'IIIIIIIIIIIIIIIIIIIIIIIIIIIIIIIIIIIIIIIIIIIIIIIIZZ', 'IIIIIIIIIIIIIIIIIIIIIIIIIIIIIIIIIIIIIIIIIIIIIIXXII', 'IIIIIIIIIIIIIIIIIIIIIIIIIIIIIIIIIIIIIIIIIIIIIIYYII', 'IIIIIIIIIIIIIIIIIIIIIIIIIIIIIIIIIIIIIIIIIIIIIIZZII', 'IIIIIIIIIIIIIIIIIIIIIIIIIIIIIIIIIIIIIIIIIIIIXXIIII', 'IIIIIIIIIIIIIIIIIIIIIIIIIIIIIIIIIIIIIIIIIIIIYYIIII', 'IIIIIIIIIIIIIIIIIIIIIIIIIIIIIIIIIIIIIIIIIIIIZZIIII', 'IIIIIIIIIIIIIIIIIIIIIIIIIIIIIIIIIIIIIIIIIIXXIIIIII', 'IIIIIIIIIIIIIIIIIIIIIIIIIIIIIIIIIIIIIIIIIIYYIIIIII', 'IIIIIIIIIIIIIIIIIIIIIIIIIIIIIIIIIIIIIIIIIIZZIIIIII', 'IIIIIIIIIIIIIIIIIIIIIIIIIIIIIIIIIIIIIIIIXXIIIIIIII', 'IIIIIIIIIIIIIIIIIIIIIIIIIIIIIIIIIIIIIIIIYYIIIIIIII', 'IIIIIIIIIIIIIIIIIIIIIIIIIIIIIIIIIIIIIIIIZZIIIIIIII', 'IIIIIIIIIIIIIIIIIIIIIIIIIIIIIIIIIIIIIIXXIIIIIIIIII', 'IIIIIIIIIIIIIIIIIIIIIIIIIIIIIIIIIIIIIIYYIIIIIIIIII', 'IIIIIIIIIIIIIIIIIIIIIIIIIIIIIIIIIIIIIIZZIIIIIIIIII', 'IIIIIIIIIIIIIIIIIIIIIIIIIIIIIIIIIIIIXXIIIIIIIIIIII', 'IIIIIIIIIIIIIIIIIIIIIIIIIIIIIIIIIIIIYYIIIIIIIIIIII', 'IIIIIIIIIIIIIIIIIIIIIIIIIIIIIIIIIIIIZZIIIIIIIIIIII', 'IIIIIIIIIIIIIIIIIIIIIIIIIIIIIIIIIIXXIIIIIIIIIIIIII', 'IIIIIIIIIIIIIIIIIIIIIIIIIIIIIIIIIIYYIIIIIIIIIIIIII', 'IIIIIIIIIIIIIIIIIIIIIIIIIIIIIIIIIIZZIIIIIIIIIIIIII', 'IIIIIIIIIIIIIIIIIIIIIIIIIIIIIIIIXXIIIIIIIIIIIIIIII', 'IIIIIIIIIIIIIIIIIIIIIIIIIIIIIIIIYYIIIIIIIIIIIIIIII', 'IIIIIIIIIIIIIIIIIIIIIIIIIIIIIIIIZZIIIIIIIIIIIIIIII', 'IIIIIIIIIIIIIIIIIIIIIIIIIIIIIIXXIIIIIIIIIIIIIIIIII', 'IIIIIIIIIIIIIIIIIIIIIIIIIIIIIIYYIIIIIIIIIIIIIIIIII', 'IIIIIIIIIIIIIIIIIIIIIIIIIIIIIIZZIIIIIIIIIIIIIIIIII', 'IIIIIIIIIIIIIIIIIIIIIIIIIIIIXXIIIIIIIIIIIIIIIIIIII', 'IIIIIIIIIIIIIIIIIIIIIIIIIIIIYYIIIIIIIIIIIIIIIIIIII', 'IIIIIIIIIIIIIIIIIIIIIIIIIIIIZZIIIIIIIIIIIIIIIIIIII', 'IIIIIIIIIIIIIIIIIIIIIIIIIIXXIIIIIIIIIIIIIIIIIIIIII', 'IIIIIIIIIIIIIIIIIIIIIIIIIIYYIIIIIIIIIIIIIIIIIIIIII', 'IIIIIIIIIIIIIIIIIIIIIIIIIIZZIIIIIIIIIIIIIIIIIIIIII', 'IIIIIIIIIIIIIIIIIIIIIIIIXXIIIIIIIIIIIIIIIIIIIIIIII', 'IIIIIIIIIIIIIIIIIIIIIIIIYYIIIIIIIIIIIIIIIIIIIIIIII', 'IIIIIIIIIIIIIIIIIIIIIIIIZZIIIIIIIIIIIIIIIIIIIIIIII', 'IIIIIIIIIIIIIIIIIIIIIIXXIIIIIIIIIIIIIIIIIIIIIIIIII', 'IIIIIIIIIIIIIIIIIIIIIIYYIIIIIIIIIIIIIIIIIIIIIIIIII', 'IIIIIIIIIIIIIIIIIIIIIIZZIIIIIIIIIIIIIIIIIIIIIIIIII', 'IIIIIIIIIIIIIIIIIIIIXXIIIIIIIIIIIIIIIIIIIIIIIIIIII', 'IIIIIIIIIIIIIIIIIIIIYYIIIIIIIIIIIIIIIIIIIIIIIIIIII', 'IIIIIIIIIIIIIIIIIIIIZZIIIIIIIIIIIIIIIIIIIIIIIIIIII', 'IIIIIIIIIIIIIIIIIIXXIIIIIIIIIIIIIIIIIIIIIIIIIIIIII', 'IIIIIIIIIIIIIIIIIIYYIIIIIIIIIIIIIIIIIIIIIIIIIIIIII', 'IIIIIIIIIIIIIIIIIIZZIIIIIIIIIIIIIIIIIIIIIIIIIIIIII', 'IIIIIIIIIIIIIIIIXXIIIIIIIIIIIIIIIIIIIIIIIIIIIIIIII', 'IIIIIIIIIIIIIIIIYYIIIIIIIIIIIIIIIIIIIIIIIIIIIIIIII', 'IIIIIIIIIIIIIIIIZZIIIIIIIIIIIIIIIIIIIIIIIIIIIIIIII', 'IIIIIIIIIIIIIIXXIIIIIIIIIIIIIIIIIIIIIIIIIIIIIIIIII', 'IIIIIIIIIIIIIIYYIIIIIIIIIIIIIIIIIIIIIIIIIIIIIIIIII', 'IIIIIIIIIIIIIIZZIIIIIIIIIIIIIIIIIIIIIIIIIIIIIIIIII', 'IIIIIIIIIIIIXXIIIIIIIIIIIIIIIIIIIIIIIIIIIIIIIIIIII', 'IIIIIIIIIIIIYYIIIIIIIIIIIIIIIIIIIIIIIIIIIIIIIIIIII', 'IIIIIIIIIIIIZZIIIIIIIIIIIIIIIIIIIIIIIIIIIIIIIIIIII', 'IIIIIIIIIIXXIIIIIIIIIIIIIIIIIIIIIIIIIIIIIIIIIIIIII', 'IIIIIIIIIIYYIIIIIIIIIIIIIIIIIIIIIIIIIIIIIIIIIIIIII', 'IIIIIIIIIIZZIIIIIIIIIIIIIIIIIIIIIIIIIIIIIIIIIIIIII', 'IIIIIIIIXXIIIIIIIIIIIIIIIIIIIIIIIIIIIIIIIIIIIIIIII', 'IIIIIIIIYYIIIIIIIIIIIIIIIIIIIIIIIIIIIIIIIIIIIIIIII', 'IIIIIIIIZZIIIIIIIIIIIIIIIIIIIIIIIIIIIIIIIIIIIIIIII', 'IIIIIIXXIIIIIIIIIIIIIIIIIIIIIIIIIIIIIIIIIIIIIIIIII', 'IIIIIIYYIIIIIIIIIIIIIIIIIIIIIIIIIIIIIIIIIIIIIIIIII', 'IIIIIIZZIIIIIIIIIIIIIIIIIIIIIIIIIIIIIIIIIIIIIIIIII', 'IIIIXXIIIIIIIIIIIIIIIIIIIIIIIIIIIIIIIIIIIIIIIIIIII', 'IIIIYYIIIIIIIIIIIIIIIIIIIIIIIIIIIIIIIIIIIIIIIIIIII', 'IIIIZZIIIIIIIIIIIIIIIIIIIIIIIIIIIIIIIIIIIIIIIIIIII', 'IIXXIIIIIIIIIIIIIIIIIIIIIIIIIIIIIIIIIIIIIIIIIIIIII', 'IIYYIIIIIIIIIIIIIIIIIIIIIIIIIIIIIIIIIIIIIIIIIIIIII', 'IIZZIIIIIIIIIIIIIIIIIIIIIIIIIIIIIIIIIIIIIIIIIIIIII', 'XXIIIIIIIIIIIIIIIIIIIIIIIIIIIIIIIIIIIIIIIIIIIIIIII', 'YYIIIIIIIIIIIIIIIIIIIIIIIIIIIIIIIIIIIIIIIIIIIIIIII', 'ZZIIIIIIIIIIIIIIIIIIIIIIIIIIIIIIIIIIIIIIIIIIIIIIII', 'IIIIIIIIIIIIIIIIIIIIIIIIIIIIIIIIIIIIIIIIIIIIIIIXXI', 'IIIIIIIIIIIIIIIIIIIIIIIIIIIIIIIIIIIIIIIIIIIIIIIYYI', 'IIIIIIIIIIIIIIIIIIIIIIIIIIIIIIIIIIIIIIIIIIIIIIIZZI', 'IIIIIIIIIIIIIIIIIIIIIIIIIIIIIIIIIIIIIIIIIIIIIXXIII', 'IIIIIIIIIIIIIIIIIIIIIIIIIIIIIIIIIIIIIIIIIIIIIYYIII', 'IIIIIIIIIIIIIIIIIIIIIIIIIIIIIIIIIIIIIIIIIIIIIZZIII', 'IIIIIIIIIIIIIIIIIIIIIIIIIIIIIIIIIIIIIIIIIIIXXIIIII', 'IIIIIIIIIIIIIIIIIIIIIIIIIIIIIIIIIIIIIIIIIIIYYIIIII', 'IIIIIIIIIIIIIIIIIIIIIIIIIIIIIIIIIIIIIIIIIIIZZIIIII', 'IIIIIIIIIIIIIIIIIIIIIIIIIIIIIIIIIIIIIIIIIXXIIIIIII', 'IIIIIIIIIIIIIIIIIIIIIIIIIIIIIIIIIIIIIIIIIYYIIIIIII', 'IIIIIIIIIIIIIIIIIIIIIIIIIIIIIIIIIIIIIIIIIZZIIIIIII', 'IIIIIIIIIIIIIIIIIIIIIIIIIIIIIIIIIIIIIIIXXIIIIIIIII', 'IIIIIIIIIIIIIIIIIIIIIIIIIIIIIIIIIIIIIIIYYIIIIIIIII', 'IIIIIIIIIIIIIIIIIIIIIIIIIIIIIIIIIIIIIIIZZIIIIIIIII', 'IIIIIIIIIIIIIIIIIIIIIIIIIIIIIIIIIIIIIXXIIIIIIIIIII', 'IIIIIIIIIIIIIIIIIIIIIIIIIIIIIIIIIIIIIYYIIIIIIIIIII', 'IIIIIIIIIIIIIIIIIIIIIIIIIIIIIIIIIIIIIZZIIIIIIIIIII', 'IIIIIIIIIIIIIIIIIIIIIIIIIIIIIIIIIIIXXIIIIIIIIIIIII', 'IIIIIIIIIIIIIIIIIIIIIIIIIIIIIIIIIIIYYIIIIIIIIIIIII', 'IIIIIIIIIIIIIIIIIIIIIIIIIIIIIIIIIIIZZIIIIIIIIIIIII', 'IIIIIIIIIIIIIIIIIIIIIIIIIIIIIIIIIXXIIIIIIIIIIIIIII', 'IIIIIIIIIIIIIIIIIIIIIIIIIIIIIIIIIYYIIIIIIIIIIIIIII', 'IIIIIIIIIIIIIIIIIIIIIIIIIIIIIIIIIZZIIIIIIIIIIIIIII', 'IIIIIIIIIIIIIIIIIIIIIIIIIIIIIIIXXIIIIIIIIIIIIIIIII', 'IIIIIIIIIIIIIIIIIIIIIIIIIIIIIIIYYIIIIIIIIIIIIIIIII', 'IIIIIIIIIIIIIIIIIIIIIIIIIIIIIIIZZIIIIIIIIIIIIIIIII', 'IIIIIIIIIIIIIIIIIIIIIIIIIIIIIXXIIIIIIIIIIIIIIIIIII', 'IIIIIIIIIIIIIIIIIIIIIIIIIIIIIYYIIIIIIIIIIIIIIIIIII', 'IIIIIIIIIIIIIIIIIIIIIIIIIIIIIZZIIIIIIIIIIIIIIIIIII', 'IIIIIIIIIIIIIIIIIIIIIIIIIIIXXIIIIIIIIIIIIIIIIIIIII', 'IIIIIIIIIIIIIIIIIIIIIIIIIIIYYIIIIIIIIIIIIIIIIIIIII', 'IIIIIIIIIIIIIIIIIIIIIIIIIIIZZIIIIIIIIIIIIIIIIIIIII', 'IIIIIIIIIIIIIIIIIIIIIIIIIXXIIIIIIIIIIIIIIIIIIIIIII', 'IIIIIIIIIIIIIIIIIIIIIIIIIYYIIIIIIIIIIIIIIIIIIIIIII', 'IIIIIIIIIIIIIIIIIIIIIIIIIZZIIIIIIIIIIIIIIIIIIIIIII', 'IIIIIIIIIIIIIIIIIIIIIIIXXIIIIIIIIIIIIIIIIIIIIIIIII', 'IIIIIIIIIIIIIIIIIIIIIIIYYIIIIIIIIIIIIIIIIIIIIIIIII', 'IIIIIIIIIIIIIIIIIIIIIIIZZIIIIIIIIIIIIIIIIIIIIIIIII', 'IIIIIIIIIIIIIIIIIIIIIXXIIIIIIIIIIIIIIIIIIIIIIIIIII', 'IIIIIIIIIIIIIIIIIIIIIYYIIIIIIIIIIIIIIIIIIIIIIIIIII', 'IIIIIIIIIIIIIIIIIIIIIZZIIIIIIIIIIIIIIIIIIIIIIIIIII', 'IIIIIIIIIIIIIIIIIIIXXIIIIIIIIIIIIIIIIIIIIIIIIIIIII', 'IIIIIIIIIIIIIIIIIIIYYIIIIIIIIIIIIIIIIIIIIIIIIIIIII', 'IIIIIIIIIIIIIIIIIIIZZIIIIIIIIIIIIIIIIIIIIIIIIIIIII', 'IIIIIIIIIIIIIIIIIXXIIIIIIIIIIIIIIIIIIIIIIIIIIIIIII', 'IIIIIIIIIIIIIIIIIYYIIIIIIIIIIIIIIIIIIIIIIIIIIIIIII', 'IIIIIIIIIIIIIIIIIZZIIIIIIIIIIIIIIIIIIIIIIIIIIIIIII', 'IIIIIIIIIIIIIIIXXIIIIIIIIIIIIIIIIIIIIIIIIIIIIIIIII', 'IIIIIIIIIIIIIIIYYIIIIIIIIIIIIIIIIIIIIIIIIIIIIIIIII', 'IIIIIIIIIIIIIIIZZIIIIIIIIIIIIIIIIIIIIIIIIIIIIIIIII', 'IIIIIIIIIIIIIXXIIIIIIIIIIIIIIIIIIIIIIIIIIIIIIIIIII', 'IIIIIIIIIIIIIYYIIIIIIIIIIIIIIIIIIIIIIIIIIIIIIIIIII', 'IIIIIIIIIIIIIZZIIIIIIIIIIIIIIIIIIIIIIIIIIIIIIIIIII', 'IIIIIIIIIIIXXIIIIIIIIIIIIIIIIIIIIIIIIIIIIIIIIIIIII', 'IIIIIIIIIIIYYIIIIIIIIIIIIIIIIIIIIIIIIIIIIIIIIIIIII', 'IIIIIIIIIIIZZIIIIIIIIIIIIIIIIIIIIIIIIIIIIIIIIIIIII', 'IIIIIIIIIXXIIIIIIIIIIIIIIIIIIIIIIIIIIIIIIIIIIIIIII', 'IIIIIIIIIYYIIIIIIIIIIIIIIIIIIIIIIIIIIIIIIIIIIIIIII', 'IIIIIIIIIZZIIIIIIIIIIIIIIIIIIIIIIIIIIIIIIIIIIIIIII', 'IIIIIIIXXIIIIIIIIIIIIIIIIIIIIIIIIIIIIIIIIIIIIIIIII', 'IIIIIIIYYIIIIIIIIIIIIIIIIIIIIIIIIIIIIIIIIIIIIIIIII', 'IIIIIIIZZIIIIIIIIIIIIIIIIIIIIIIIIIIIIIIIIIIIIIIIII', 'IIIIIXXIIIIIIIIIIIIIIIIIIIIIIIIIIIIIIIIIIIIIIIIIII', 'IIIIIYYIIIIIIIIIIIIIIIIIIIIIIIIIIIIIIIIIIIIIIIIIII', 'IIIIIZZIIIIIIIIIIIIIIIIIIIIIIIIIIIIIIIIIIIIIIIIIII', 'IIIXXIIIIIIIIIIIIIIIIIIIIIIIIIIIIIIIIIIIIIIIIIIIII', 'IIIYYIIIIIIIIIIIIIIIIIIIIIIIIIIIIIIIIIIIIIIIIIIIII', 'IIIZZIIIIIIIIIIIIIIIIIIIIIIIIIIIIIIIIIIIIIIIIIIIII', 'IXXIIIIIIIIIIIIIIIIIIIIIIIIIIIIIIIIIIIIIIIIIIIIIII', 'IYYIIIIIIIIIIIIIIIIIIIIIIIIIIIIIIIIIIIIIIIIIIIIIII', 'IZZIIIIIIIIIIIIIIIIIIIIIIIIIIIIIIIIIIIIIIIIIIIIIII'],\n",
      "              coeffs=[0.52440675+0.j, 0.52440675+0.j, 1.0488135 +0.j, 0.55138169+0.j,\n",
      " 0.55138169+0.j, 1.10276338+0.j, 0.4618274 +0.j, 0.4618274 +0.j,\n",
      " 0.9236548 +0.j, 0.46879361+0.j, 0.46879361+0.j, 0.93758721+0.j,\n",
      " 0.73183138+0.j, 0.73183138+0.j, 1.46366276+0.j, 0.64586252+0.j,\n",
      " 0.64586252+0.j, 1.29172504+0.j, 0.53402228+0.j, 0.53402228+0.j,\n",
      " 1.06804456+0.j, 0.28551803+0.j, 0.28551803+0.j, 0.57103606+0.j,\n",
      " 0.2601092 +0.j, 0.2601092 +0.j, 0.5202184 +0.j, 0.63907838+0.j,\n",
      " 0.63907838+0.j, 1.27815675+0.j, 0.73930917+0.j, 0.73930917+0.j,\n",
      " 1.47861834+0.j, 0.48073968+0.j, 0.48073968+0.j, 0.96147936+0.j,\n",
      " 0.30913721+0.j, 0.30913721+0.j, 0.61827443+0.j, 0.32167664+0.j,\n",
      " 0.32167664+0.j, 0.64335329+0.j, 0.51092416+0.j, 0.51092416+0.j,\n",
      " 1.02184832+0.j, 0.38227781+0.j, 0.38227781+0.j, 0.76455561+0.j,\n",
      " 0.47807517+0.j, 0.47807517+0.j, 0.95615033+0.j, 0.2593949 +0.j,\n",
      " 0.2593949 +0.j, 0.5187898 +0.j, 0.55604786+0.j, 0.55604786+0.j,\n",
      " 1.11209572+0.j, 0.72187404+0.j, 0.72187404+0.j, 1.44374808+0.j,\n",
      " 0.42975395+0.j, 0.42975395+0.j, 0.8595079 +0.j, 0.5988156 +0.j,\n",
      " 0.5988156 +0.j, 1.1976312 +0.j, 0.58338336+0.j, 0.58338336+0.j,\n",
      " 1.16676672+0.j, 0.35519128+0.j, 0.35519128+0.j, 0.71038256+0.j,\n",
      " 0.40771418+0.j, 0.40771418+0.j, 0.81542835+0.j, 0.60759468+0.j,\n",
      " 0.60759468+0.j, 1.21518937+0.j, 0.52244159+0.j, 0.52244159+0.j,\n",
      " 1.04488318+0.j, 0.57294706+0.j, 0.57294706+0.j, 1.14589411+0.j,\n",
      " 0.6958865 +0.j, 0.6958865 +0.j, 1.391773  +0.j, 0.44172076+0.j,\n",
      " 0.44172076+0.j, 0.88344152+0.j, 0.51444746+0.j, 0.51444746+0.j,\n",
      " 1.02889492+0.j, 0.71279832+0.j, 0.71279832+0.j, 1.42559664+0.j,\n",
      " 0.29356465+0.j, 0.29356465+0.j, 0.5871293 +0.j, 0.66630992+0.j,\n",
      " 0.66630992+0.j, 1.33261985+0.j, 0.68500607+0.j, 0.68500607+0.j,\n",
      " 1.37001215+0.j, 0.64957928+0.j, 0.64957928+0.j, 1.29915856+0.j,\n",
      " 0.64026459+0.j, 0.64026459+0.j, 1.28052918+0.j, 0.56996051+0.j,\n",
      " 0.56996051+0.j, 1.13992102+0.j, 0.72233446+0.j, 0.72233446+0.j,\n",
      " 1.44466892+0.j, 0.45733097+0.j, 0.45733097+0.j, 0.91466194+0.j,\n",
      " 0.63711684+0.j, 0.63711684+0.j, 1.27423369+0.j, 0.53421697+0.j,\n",
      " 0.53421697+0.j, 1.06843395+0.j, 0.55881775+0.j, 0.55881775+0.j,\n",
      " 1.1176355 +0.j, 0.558467  +0.j, 0.558467  +0.j, 1.116934  +0.j,\n",
      " 0.59091015+0.j, 0.59091015+0.j, 1.1818203 +0.j, 0.46851598+0.j,\n",
      " 0.46851598+0.j, 0.93703195+0.j, 0.28011274+0.j, 0.28011274+0.j,\n",
      " 0.56022547+0.j, 0.58531893+0.j, 0.58531893+0.j, 1.17063787+0.j,\n",
      " 0.31446315+0.j, 0.31446315+0.j, 0.6289263 +0.j])\n",
      "hamiltonian_sim_entrypoint.run_function:INFO:2025-05-26 13:29:14,587: Observable: SparsePauliOp(['IIIIIIIIIIIIIIIIIIIIIIIIZZIIIIIIIIIIIIIIIIIIIIIIII'],\n",
      "              coeffs=[1.+0.j])\n",
      "hamiltonian_sim_entrypoint.run_function:INFO:2025-05-26 13:29:20,637: Target MPS maximum bond dimension: 5\n",
      "hamiltonian_sim_entrypoint.run_function:INFO:2025-05-26 13:29:20,749: Number of AQC parameters: 816\n",
      "hamiltonian_sim_entrypoint.run_function:INFO:2025-05-26 13:29:20,939: Starting fidelity of AQC portion: 0.9914382555614002\n",
      "hamiltonian_sim_entrypoint.callback:INFO:2025-05-26 13:30:01,955: 2025-05-26 13:30:01.955683 Intermediate result: Fidelity 0.99764200\n",
      "hamiltonian_sim_entrypoint.callback:INFO:2025-05-26 13:30:01,987: 2025-05-26 13:30:01.987368 Intermediate result: Fidelity 0.99788134\n",
      "hamiltonian_sim_entrypoint.callback:INFO:2025-05-26 13:30:02,018: 2025-05-26 13:30:02.018176 Intermediate result: Fidelity 0.99795732\n",
      "hamiltonian_sim_entrypoint.callback:INFO:2025-05-26 13:30:02,051: 2025-05-26 13:30:02.051793 Intermediate result: Fidelity 0.99799126\n",
      "hamiltonian_sim_entrypoint.callback:INFO:2025-05-26 13:30:02,086: 2025-05-26 13:30:02.086447 Intermediate result: Fidelity 0.99803485\n",
      "hamiltonian_sim_entrypoint.callback:INFO:2025-05-26 13:30:02,120: 2025-05-26 13:30:02.120064 Intermediate result: Fidelity 0.99809868\n",
      "hamiltonian_sim_entrypoint.callback:INFO:2025-05-26 13:30:02,154: 2025-05-26 13:30:02.154082 Intermediate result: Fidelity 0.99824815\n",
      "hamiltonian_sim_entrypoint.callback:INFO:2025-05-26 13:30:02,186: 2025-05-26 13:30:02.186369 Intermediate result: Fidelity 0.99845314\n",
      "hamiltonian_sim_entrypoint.callback:INFO:2025-05-26 13:30:02,217: 2025-05-26 13:30:02.217678 Intermediate result: Fidelity 0.99870378\n",
      "hamiltonian_sim_entrypoint.callback:INFO:2025-05-26 13:30:02,248: 2025-05-26 13:30:02.248580 Intermediate result: Fidelity 0.99891597\n",
      "hamiltonian_sim_entrypoint.callback:INFO:2025-05-26 13:30:02,279: 2025-05-26 13:30:02.279207 Intermediate result: Fidelity 0.99904882\n",
      "hamiltonian_sim_entrypoint.callback:INFO:2025-05-26 13:30:02,309: 2025-05-26 13:30:02.309788 Intermediate result: Fidelity 0.99914486\n",
      "hamiltonian_sim_entrypoint.callback:INFO:2025-05-26 13:30:02,340: 2025-05-26 13:30:02.340690 Intermediate result: Fidelity 0.99923006\n",
      "hamiltonian_sim_entrypoint.callback:INFO:2025-05-26 13:30:02,371: 2025-05-26 13:30:02.371195 Intermediate result: Fidelity 0.99929059\n",
      "hamiltonian_sim_entrypoint.callback:INFO:2025-05-26 13:30:02,402: 2025-05-26 13:30:02.402392 Intermediate result: Fidelity 0.99932456\n",
      "hamiltonian_sim_entrypoint.callback:INFO:2025-05-26 13:30:02,433: 2025-05-26 13:30:02.433489 Intermediate result: Fidelity 0.99936805\n",
      "hamiltonian_sim_entrypoint.callback:INFO:2025-05-26 13:30:02,463: 2025-05-26 13:30:02.463105 Intermediate result: Fidelity 0.99938819\n",
      "hamiltonian_sim_entrypoint.callback:INFO:2025-05-26 13:30:02,493: 2025-05-26 13:30:02.493524 Intermediate result: Fidelity 0.99940583\n",
      "hamiltonian_sim_entrypoint.callback:INFO:2025-05-26 13:30:02,524: 2025-05-26 13:30:02.524944 Intermediate result: Fidelity 0.99941834\n",
      "hamiltonian_sim_entrypoint.callback:INFO:2025-05-26 13:30:02,556: 2025-05-26 13:30:02.556740 Intermediate result: Fidelity 0.99944409\n",
      "hamiltonian_sim_entrypoint.callback:INFO:2025-05-26 13:30:02,589: 2025-05-26 13:30:02.589793 Intermediate result: Fidelity 0.99946995\n",
      "hamiltonian_sim_entrypoint.callback:INFO:2025-05-26 13:30:02,621: 2025-05-26 13:30:02.621613 Intermediate result: Fidelity 0.99948735\n",
      "hamiltonian_sim_entrypoint.callback:INFO:2025-05-26 13:30:02,653: 2025-05-26 13:30:02.653064 Intermediate result: Fidelity 0.99952119\n",
      "hamiltonian_sim_entrypoint.callback:INFO:2025-05-26 13:30:02,684: 2025-05-26 13:30:02.684624 Intermediate result: Fidelity 0.99953704\n",
      "hamiltonian_sim_entrypoint.callback:INFO:2025-05-26 13:30:02,717: 2025-05-26 13:30:02.717879 Intermediate result: Fidelity 0.99955397\n",
      "hamiltonian_sim_entrypoint.callback:INFO:2025-05-26 13:30:02,751: 2025-05-26 13:30:02.751790 Intermediate result: Fidelity 0.99958353\n",
      "hamiltonian_sim_entrypoint.callback:INFO:2025-05-26 13:30:02,782: 2025-05-26 13:30:02.782658 Intermediate result: Fidelity 0.99960283\n",
      "hamiltonian_sim_entrypoint.callback:INFO:2025-05-26 13:30:02,814: 2025-05-26 13:30:02.814080 Intermediate result: Fidelity 0.99961940\n",
      "hamiltonian_sim_entrypoint.callback:INFO:2025-05-26 13:30:02,845: 2025-05-26 13:30:02.845613 Intermediate result: Fidelity 0.99963668\n",
      "hamiltonian_sim_entrypoint.callback:INFO:2025-05-26 13:30:02,880: 2025-05-26 13:30:02.880042 Intermediate result: Fidelity 0.99964264\n",
      "hamiltonian_sim_entrypoint.callback:INFO:2025-05-26 13:30:02,913: 2025-05-26 13:30:02.913539 Intermediate result: Fidelity 0.99964920\n",
      "hamiltonian_sim_entrypoint.callback:INFO:2025-05-26 13:30:02,947: 2025-05-26 13:30:02.947674 Intermediate result: Fidelity 0.99965790\n",
      "hamiltonian_sim_entrypoint.callback:INFO:2025-05-26 13:30:02,980: 2025-05-26 13:30:02.980267 Intermediate result: Fidelity 0.99966386\n",
      "hamiltonian_sim_entrypoint.callback:INFO:2025-05-26 13:30:03,015: 2025-05-26 13:30:03.015588 Intermediate result: Fidelity 0.99967602\n",
      "hamiltonian_sim_entrypoint.callback:INFO:2025-05-26 13:30:03,052: 2025-05-26 13:30:03.052499 Intermediate result: Fidelity 0.99968412\n",
      "hamiltonian_sim_entrypoint.callback:INFO:2025-05-26 13:30:03,086: 2025-05-26 13:30:03.086902 Intermediate result: Fidelity 0.99969044\n",
      "hamiltonian_sim_entrypoint.callback:INFO:2025-05-26 13:30:03,119: 2025-05-26 13:30:03.119032 Intermediate result: Fidelity 0.99970665\n",
      "hamiltonian_sim_entrypoint.callback:INFO:2025-05-26 13:30:03,150: 2025-05-26 13:30:03.150067 Intermediate result: Fidelity 0.99971821\n",
      "hamiltonian_sim_entrypoint.callback:INFO:2025-05-26 13:30:03,180: 2025-05-26 13:30:03.180203 Intermediate result: Fidelity 0.99972870\n",
      "hamiltonian_sim_entrypoint.callback:INFO:2025-05-26 13:30:03,210: 2025-05-26 13:30:03.210941 Intermediate result: Fidelity 0.99973549\n",
      "hamiltonian_sim_entrypoint.callback:INFO:2025-05-26 13:30:03,241: 2025-05-26 13:30:03.241639 Intermediate result: Fidelity 0.99974157\n",
      "hamiltonian_sim_entrypoint.callback:INFO:2025-05-26 13:30:03,272: 2025-05-26 13:30:03.272386 Intermediate result: Fidelity 0.99974252\n",
      "hamiltonian_sim_entrypoint.callback:INFO:2025-05-26 13:30:03,303: 2025-05-26 13:30:03.303682 Intermediate result: Fidelity 0.99974801\n",
      "hamiltonian_sim_entrypoint.callback:INFO:2025-05-26 13:30:03,334: 2025-05-26 13:30:03.334545 Intermediate result: Fidelity 0.99975015\n",
      "hamiltonian_sim_entrypoint.callback:INFO:2025-05-26 13:30:03,364: 2025-05-26 13:30:03.364671 Intermediate result: Fidelity 0.99975146\n",
      "hamiltonian_sim_entrypoint.callback:INFO:2025-05-26 13:30:03,395: 2025-05-26 13:30:03.395316 Intermediate result: Fidelity 0.99975266\n",
      "hamiltonian_sim_entrypoint.callback:INFO:2025-05-26 13:30:03,427: 2025-05-26 13:30:03.427303 Intermediate result: Fidelity 0.99975528\n",
      "hamiltonian_sim_entrypoint.callback:INFO:2025-05-26 13:30:03,457: 2025-05-26 13:30:03.457586 Intermediate result: Fidelity 0.99975885\n",
      "hamiltonian_sim_entrypoint.callback:INFO:2025-05-26 13:30:03,521: 2025-05-26 13:30:03.521811 Intermediate result: Fidelity 0.99976088\n",
      "hamiltonian_sim_entrypoint.callback:INFO:2025-05-26 13:30:03,554: 2025-05-26 13:30:03.554342 Intermediate result: Fidelity 0.99976815\n",
      "hamiltonian_sim_entrypoint.callback:INFO:2025-05-26 13:30:03,621: 2025-05-26 13:30:03.621269 Intermediate result: Fidelity 0.99977030\n",
      "hamiltonian_sim_entrypoint.callback:INFO:2025-05-26 13:30:03,654: 2025-05-26 13:30:03.654393 Intermediate result: Fidelity 0.99977268\n",
      "hamiltonian_sim_entrypoint.callback:INFO:2025-05-26 13:30:03,781: 2025-05-26 13:30:03.781925 Intermediate result: Fidelity 0.99977304\n",
      "hamiltonian_sim_entrypoint.callback:INFO:2025-05-26 13:30:03,814: 2025-05-26 13:30:03.814534 Intermediate result: Fidelity 0.99977602\n",
      "hamiltonian_sim_entrypoint.callback:INFO:2025-05-26 13:30:04,397: 2025-05-26 13:30:04.397687 Intermediate result: Fidelity 0.99977602\n",
      "hamiltonian_sim_entrypoint.run_function:INFO:2025-05-26 13:30:04,398: Done after 55 iterations\n",
      "hamiltonian_sim_entrypoint.run_function:INFO:2025-05-26 13:30:04,677: Fidelity of AQC portion: 0.9997823400276018\n",
      "hamiltonian_sim_entrypoint.run_function:INFO:2025-05-26 13:30:15,094: ISA circuit two-qubit depth: 33\n",
      "hamiltonian_sim_entrypoint.run_function:INFO:2025-05-26 13:30:15,094: Exiting before hardware execution since `dry_run` is True.\n",
      "\n"
     ]
    }
   ],
   "source": [
    "print(job.logs())"
   ]
  },
  {
   "cell_type": "markdown",
   "id": "ba179114",
   "metadata": {},
   "source": [
    "Block the rest of the program until a result is available. After the job is done, you can retrieve the results. These include the domain-level output of Hamiltonian simulation (expectation value) and useful metadata."
   ]
  },
  {
   "cell_type": "code",
   "execution_count": 11,
   "id": "3500adce",
   "metadata": {},
   "outputs": [
    {
     "data": {
      "text/plain": [
       "{'target_bond_dimension': 5,\n",
       " 'num_aqc_parameters': 816,\n",
       " 'aqc_starting_fidelity': 0.9914382555614002,\n",
       " 'num_iterations': 55,\n",
       " 'aqc_fidelity': 0.9997823400276018,\n",
       " 'twoqubit_depth': 33,\n",
       " 'metadata': {'resources_usage': {'RUNNING: MAPPING': {'CPU_TIME': 52.6219527721405},\n",
       "   'RUNNING: OPTIMIZING_FOR_HARDWARE': {'CPU_TIME': 10.403448820114136}}}}"
      ]
     },
     "execution_count": 11,
     "metadata": {},
     "output_type": "execute_result"
    }
   ],
   "source": [
    "result = job.result()\n",
    "\n",
    "del result[\"aqc_final_parameters\"]  # the list is too long to conveniently display here\n",
    "result"
   ]
  },
  {
   "cell_type": "markdown",
   "id": "6a1a2ff3",
   "metadata": {},
   "source": [
    "Note that the result metadata includes a resource usage summary that allows to better estimate the QPU and CPU time required for each workload (this example runs on dry-run mode so no quantum resources are used).  "
   ]
  },
  {
   "cell_type": "markdown",
   "id": "49d0b26d",
   "metadata": {
    "vscode": {
     "languageId": "plaintext"
    }
   },
   "source": [
    "After the job completes, the entire logging output will be available."
   ]
  },
  {
   "cell_type": "code",
   "execution_count": 12,
   "id": "ddcba564",
   "metadata": {},
   "outputs": [
    {
     "name": "stdout",
     "output_type": "stream",
     "text": [
      "2025-05-26 13:28:05,191\tINFO job_manager.py:531 -- Runtime env is setting up.\n",
      "/usr/local/lib/python3.11/site-packages/cotengra/hyperoptimizers/hyper.py:54: UserWarning: Couldn't find `optuna`, `cmaes`, or `nevergrad` so will use completely random sampling in place of hyper-optimization.\n",
      "  warnings.warn(\n",
      "/usr/local/lib/python3.11/site-packages/cotengra/hyperoptimizers/hyper.py:73: UserWarning: Couldn't find `optuna`, `cmaes`, or `nevergrad` so will use completely random sampling in place of hyper-optimization.\n",
      "  warnings.warn(\n",
      "/usr/local/lib64/python3.11/site-packages/qiskit/qpy/interface.py:346: UserWarning: The qiskit version used to generate the provided QPY file, 1.4.3, is newer than the current qiskit version 1.4.2. This may result in an error if the QPY file uses instructions not present in this current qiskit version\n",
      "  warnings.warn(\n",
      "hamiltonian_sim_entrypoint.run_function:INFO:2025-05-26 13:29:05,025: Starting runtime service\n",
      "/tmp/ray/session_2025-05-26_13-27-38_752650_1/runtime_resources/working_dir_files/_ray_pkg_ff57d4035f255a0a/hamiltonian_sim_entrypoint.py:102: DeprecationWarning: The \"ibm_quantum\" channel option is deprecated and will be sunset on 1 July. After this date, ibm_cloud will be the only valid channel. For information on migrating to the new IBM Quantum Platform on the \"ibm_cloud\" channel, review the migration guide https://quantum.cloud.ibm.com/docs/migration-guides/classic-iqp-to-cloud-iqp .\n",
      "  service = QiskitRuntimeService()\n",
      "hamiltonian_sim_entrypoint.run_function:INFO:2025-05-26 13:29:12,066: Backend: ibm_fez\n",
      "hamiltonian_sim_entrypoint.run_function:INFO:2025-05-26 13:29:12,068: estimator_options = {\n",
      "    \"resilience\": {\n",
      "        \"measure_mitigation\": true,\n",
      "        \"zne_mitigation\": true,\n",
      "        \"zne\": {\n",
      "            \"amplifier\": \"gate_folding\",\n",
      "            \"noise_factors\": [\n",
      "                1,\n",
      "                2,\n",
      "                3\n",
      "            ],\n",
      "            \"extrapolated_noise_factors\": [\n",
      "                0.0,\n",
      "                0.1,\n",
      "                0.2,\n",
      "                0.30000000000000004,\n",
      "                0.4,\n",
      "                0.5,\n",
      "                0.6000000000000001,\n",
      "                0.7000000000000001,\n",
      "                0.8,\n",
      "                0.9,\n",
      "                1.0,\n",
      "                1.1,\n",
      "                1.2000000000000002,\n",
      "                1.3,\n",
      "                1.4000000000000001,\n",
      "                1.5,\n",
      "                1.6,\n",
      "                1.7000000000000002,\n",
      "                1.8,\n",
      "                1.9000000000000001,\n",
      "                2.0,\n",
      "                2.1,\n",
      "                2.2,\n",
      "                2.3000000000000003,\n",
      "                2.4000000000000004,\n",
      "                2.5,\n",
      "                2.6,\n",
      "                2.7,\n",
      "                2.8000000000000003,\n",
      "                2.9000000000000004,\n",
      "                3.0\n",
      "            ],\n",
      "            \"extrapolator\": [\n",
      "                \"exponential\",\n",
      "                \"linear\",\n",
      "                \"fallback\"\n",
      "            ]\n",
      "        },\n",
      "        \"measure_noise_learning\": {\n",
      "            \"num_randomizations\": 512,\n",
      "            \"shots_per_randomization\": 512\n",
      "        }\n",
      "    },\n",
      "    \"twirling\": {\n",
      "        \"enable_gates\": true,\n",
      "        \"enable_measure\": true,\n",
      "        \"num_randomizations\": 300,\n",
      "        \"shots_per_randomization\": 100,\n",
      "        \"strategy\": \"active\"\n",
      "    },\n",
      "    \"environment\": {\n",
      "        \"job_tags\": [\n",
      "            \"hamsim_function\"\n",
      "        ]\n",
      "    }\n",
      "}\n",
      "hamiltonian_sim_entrypoint.run_function:INFO:2025-05-26 13:29:14,586: Hamiltonian: SparsePauliOp(['IIIIIIIIIIIIIIIIIIIIIIIIIIIIIIIIIIIIIIIIIIIIIIIIXX', 'IIIIIIIIIIIIIIIIIIIIIIIIIIIIIIIIIIIIIIIIIIIIIIIIYY', 'IIIIIIIIIIIIIIIIIIIIIIIIIIIIIIIIIIIIIIIIIIIIIIIIZZ', 'IIIIIIIIIIIIIIIIIIIIIIIIIIIIIIIIIIIIIIIIIIIIIIXXII', 'IIIIIIIIIIIIIIIIIIIIIIIIIIIIIIIIIIIIIIIIIIIIIIYYII', 'IIIIIIIIIIIIIIIIIIIIIIIIIIIIIIIIIIIIIIIIIIIIIIZZII', 'IIIIIIIIIIIIIIIIIIIIIIIIIIIIIIIIIIIIIIIIIIIIXXIIII', 'IIIIIIIIIIIIIIIIIIIIIIIIIIIIIIIIIIIIIIIIIIIIYYIIII', 'IIIIIIIIIIIIIIIIIIIIIIIIIIIIIIIIIIIIIIIIIIIIZZIIII', 'IIIIIIIIIIIIIIIIIIIIIIIIIIIIIIIIIIIIIIIIIIXXIIIIII', 'IIIIIIIIIIIIIIIIIIIIIIIIIIIIIIIIIIIIIIIIIIYYIIIIII', 'IIIIIIIIIIIIIIIIIIIIIIIIIIIIIIIIIIIIIIIIIIZZIIIIII', 'IIIIIIIIIIIIIIIIIIIIIIIIIIIIIIIIIIIIIIIIXXIIIIIIII', 'IIIIIIIIIIIIIIIIIIIIIIIIIIIIIIIIIIIIIIIIYYIIIIIIII', 'IIIIIIIIIIIIIIIIIIIIIIIIIIIIIIIIIIIIIIIIZZIIIIIIII', 'IIIIIIIIIIIIIIIIIIIIIIIIIIIIIIIIIIIIIIXXIIIIIIIIII', 'IIIIIIIIIIIIIIIIIIIIIIIIIIIIIIIIIIIIIIYYIIIIIIIIII', 'IIIIIIIIIIIIIIIIIIIIIIIIIIIIIIIIIIIIIIZZIIIIIIIIII', 'IIIIIIIIIIIIIIIIIIIIIIIIIIIIIIIIIIIIXXIIIIIIIIIIII', 'IIIIIIIIIIIIIIIIIIIIIIIIIIIIIIIIIIIIYYIIIIIIIIIIII', 'IIIIIIIIIIIIIIIIIIIIIIIIIIIIIIIIIIIIZZIIIIIIIIIIII', 'IIIIIIIIIIIIIIIIIIIIIIIIIIIIIIIIIIXXIIIIIIIIIIIIII', 'IIIIIIIIIIIIIIIIIIIIIIIIIIIIIIIIIIYYIIIIIIIIIIIIII', 'IIIIIIIIIIIIIIIIIIIIIIIIIIIIIIIIIIZZIIIIIIIIIIIIII', 'IIIIIIIIIIIIIIIIIIIIIIIIIIIIIIIIXXIIIIIIIIIIIIIIII', 'IIIIIIIIIIIIIIIIIIIIIIIIIIIIIIIIYYIIIIIIIIIIIIIIII', 'IIIIIIIIIIIIIIIIIIIIIIIIIIIIIIIIZZIIIIIIIIIIIIIIII', 'IIIIIIIIIIIIIIIIIIIIIIIIIIIIIIXXIIIIIIIIIIIIIIIIII', 'IIIIIIIIIIIIIIIIIIIIIIIIIIIIIIYYIIIIIIIIIIIIIIIIII', 'IIIIIIIIIIIIIIIIIIIIIIIIIIIIIIZZIIIIIIIIIIIIIIIIII', 'IIIIIIIIIIIIIIIIIIIIIIIIIIIIXXIIIIIIIIIIIIIIIIIIII', 'IIIIIIIIIIIIIIIIIIIIIIIIIIIIYYIIIIIIIIIIIIIIIIIIII', 'IIIIIIIIIIIIIIIIIIIIIIIIIIIIZZIIIIIIIIIIIIIIIIIIII', 'IIIIIIIIIIIIIIIIIIIIIIIIIIXXIIIIIIIIIIIIIIIIIIIIII', 'IIIIIIIIIIIIIIIIIIIIIIIIIIYYIIIIIIIIIIIIIIIIIIIIII', 'IIIIIIIIIIIIIIIIIIIIIIIIIIZZIIIIIIIIIIIIIIIIIIIIII', 'IIIIIIIIIIIIIIIIIIIIIIIIXXIIIIIIIIIIIIIIIIIIIIIIII', 'IIIIIIIIIIIIIIIIIIIIIIIIYYIIIIIIIIIIIIIIIIIIIIIIII', 'IIIIIIIIIIIIIIIIIIIIIIIIZZIIIIIIIIIIIIIIIIIIIIIIII', 'IIIIIIIIIIIIIIIIIIIIIIXXIIIIIIIIIIIIIIIIIIIIIIIIII', 'IIIIIIIIIIIIIIIIIIIIIIYYIIIIIIIIIIIIIIIIIIIIIIIIII', 'IIIIIIIIIIIIIIIIIIIIIIZZIIIIIIIIIIIIIIIIIIIIIIIIII', 'IIIIIIIIIIIIIIIIIIIIXXIIIIIIIIIIIIIIIIIIIIIIIIIIII', 'IIIIIIIIIIIIIIIIIIIIYYIIIIIIIIIIIIIIIIIIIIIIIIIIII', 'IIIIIIIIIIIIIIIIIIIIZZIIIIIIIIIIIIIIIIIIIIIIIIIIII', 'IIIIIIIIIIIIIIIIIIXXIIIIIIIIIIIIIIIIIIIIIIIIIIIIII', 'IIIIIIIIIIIIIIIIIIYYIIIIIIIIIIIIIIIIIIIIIIIIIIIIII', 'IIIIIIIIIIIIIIIIIIZZIIIIIIIIIIIIIIIIIIIIIIIIIIIIII', 'IIIIIIIIIIIIIIIIXXIIIIIIIIIIIIIIIIIIIIIIIIIIIIIIII', 'IIIIIIIIIIIIIIIIYYIIIIIIIIIIIIIIIIIIIIIIIIIIIIIIII', 'IIIIIIIIIIIIIIIIZZIIIIIIIIIIIIIIIIIIIIIIIIIIIIIIII', 'IIIIIIIIIIIIIIXXIIIIIIIIIIIIIIIIIIIIIIIIIIIIIIIIII', 'IIIIIIIIIIIIIIYYIIIIIIIIIIIIIIIIIIIIIIIIIIIIIIIIII', 'IIIIIIIIIIIIIIZZIIIIIIIIIIIIIIIIIIIIIIIIIIIIIIIIII', 'IIIIIIIIIIIIXXIIIIIIIIIIIIIIIIIIIIIIIIIIIIIIIIIIII', 'IIIIIIIIIIIIYYIIIIIIIIIIIIIIIIIIIIIIIIIIIIIIIIIIII', 'IIIIIIIIIIIIZZIIIIIIIIIIIIIIIIIIIIIIIIIIIIIIIIIIII', 'IIIIIIIIIIXXIIIIIIIIIIIIIIIIIIIIIIIIIIIIIIIIIIIIII', 'IIIIIIIIIIYYIIIIIIIIIIIIIIIIIIIIIIIIIIIIIIIIIIIIII', 'IIIIIIIIIIZZIIIIIIIIIIIIIIIIIIIIIIIIIIIIIIIIIIIIII', 'IIIIIIIIXXIIIIIIIIIIIIIIIIIIIIIIIIIIIIIIIIIIIIIIII', 'IIIIIIIIYYIIIIIIIIIIIIIIIIIIIIIIIIIIIIIIIIIIIIIIII', 'IIIIIIIIZZIIIIIIIIIIIIIIIIIIIIIIIIIIIIIIIIIIIIIIII', 'IIIIIIXXIIIIIIIIIIIIIIIIIIIIIIIIIIIIIIIIIIIIIIIIII', 'IIIIIIYYIIIIIIIIIIIIIIIIIIIIIIIIIIIIIIIIIIIIIIIIII', 'IIIIIIZZIIIIIIIIIIIIIIIIIIIIIIIIIIIIIIIIIIIIIIIIII', 'IIIIXXIIIIIIIIIIIIIIIIIIIIIIIIIIIIIIIIIIIIIIIIIIII', 'IIIIYYIIIIIIIIIIIIIIIIIIIIIIIIIIIIIIIIIIIIIIIIIIII', 'IIIIZZIIIIIIIIIIIIIIIIIIIIIIIIIIIIIIIIIIIIIIIIIIII', 'IIXXIIIIIIIIIIIIIIIIIIIIIIIIIIIIIIIIIIIIIIIIIIIIII', 'IIYYIIIIIIIIIIIIIIIIIIIIIIIIIIIIIIIIIIIIIIIIIIIIII', 'IIZZIIIIIIIIIIIIIIIIIIIIIIIIIIIIIIIIIIIIIIIIIIIIII', 'XXIIIIIIIIIIIIIIIIIIIIIIIIIIIIIIIIIIIIIIIIIIIIIIII', 'YYIIIIIIIIIIIIIIIIIIIIIIIIIIIIIIIIIIIIIIIIIIIIIIII', 'ZZIIIIIIIIIIIIIIIIIIIIIIIIIIIIIIIIIIIIIIIIIIIIIIII', 'IIIIIIIIIIIIIIIIIIIIIIIIIIIIIIIIIIIIIIIIIIIIIIIXXI', 'IIIIIIIIIIIIIIIIIIIIIIIIIIIIIIIIIIIIIIIIIIIIIIIYYI', 'IIIIIIIIIIIIIIIIIIIIIIIIIIIIIIIIIIIIIIIIIIIIIIIZZI', 'IIIIIIIIIIIIIIIIIIIIIIIIIIIIIIIIIIIIIIIIIIIIIXXIII', 'IIIIIIIIIIIIIIIIIIIIIIIIIIIIIIIIIIIIIIIIIIIIIYYIII', 'IIIIIIIIIIIIIIIIIIIIIIIIIIIIIIIIIIIIIIIIIIIIIZZIII', 'IIIIIIIIIIIIIIIIIIIIIIIIIIIIIIIIIIIIIIIIIIIXXIIIII', 'IIIIIIIIIIIIIIIIIIIIIIIIIIIIIIIIIIIIIIIIIIIYYIIIII', 'IIIIIIIIIIIIIIIIIIIIIIIIIIIIIIIIIIIIIIIIIIIZZIIIII', 'IIIIIIIIIIIIIIIIIIIIIIIIIIIIIIIIIIIIIIIIIXXIIIIIII', 'IIIIIIIIIIIIIIIIIIIIIIIIIIIIIIIIIIIIIIIIIYYIIIIIII', 'IIIIIIIIIIIIIIIIIIIIIIIIIIIIIIIIIIIIIIIIIZZIIIIIII', 'IIIIIIIIIIIIIIIIIIIIIIIIIIIIIIIIIIIIIIIXXIIIIIIIII', 'IIIIIIIIIIIIIIIIIIIIIIIIIIIIIIIIIIIIIIIYYIIIIIIIII', 'IIIIIIIIIIIIIIIIIIIIIIIIIIIIIIIIIIIIIIIZZIIIIIIIII', 'IIIIIIIIIIIIIIIIIIIIIIIIIIIIIIIIIIIIIXXIIIIIIIIIII', 'IIIIIIIIIIIIIIIIIIIIIIIIIIIIIIIIIIIIIYYIIIIIIIIIII', 'IIIIIIIIIIIIIIIIIIIIIIIIIIIIIIIIIIIIIZZIIIIIIIIIII', 'IIIIIIIIIIIIIIIIIIIIIIIIIIIIIIIIIIIXXIIIIIIIIIIIII', 'IIIIIIIIIIIIIIIIIIIIIIIIIIIIIIIIIIIYYIIIIIIIIIIIII', 'IIIIIIIIIIIIIIIIIIIIIIIIIIIIIIIIIIIZZIIIIIIIIIIIII', 'IIIIIIIIIIIIIIIIIIIIIIIIIIIIIIIIIXXIIIIIIIIIIIIIII', 'IIIIIIIIIIIIIIIIIIIIIIIIIIIIIIIIIYYIIIIIIIIIIIIIII', 'IIIIIIIIIIIIIIIIIIIIIIIIIIIIIIIIIZZIIIIIIIIIIIIIII', 'IIIIIIIIIIIIIIIIIIIIIIIIIIIIIIIXXIIIIIIIIIIIIIIIII', 'IIIIIIIIIIIIIIIIIIIIIIIIIIIIIIIYYIIIIIIIIIIIIIIIII', 'IIIIIIIIIIIIIIIIIIIIIIIIIIIIIIIZZIIIIIIIIIIIIIIIII', 'IIIIIIIIIIIIIIIIIIIIIIIIIIIIIXXIIIIIIIIIIIIIIIIIII', 'IIIIIIIIIIIIIIIIIIIIIIIIIIIIIYYIIIIIIIIIIIIIIIIIII', 'IIIIIIIIIIIIIIIIIIIIIIIIIIIIIZZIIIIIIIIIIIIIIIIIII', 'IIIIIIIIIIIIIIIIIIIIIIIIIIIXXIIIIIIIIIIIIIIIIIIIII', 'IIIIIIIIIIIIIIIIIIIIIIIIIIIYYIIIIIIIIIIIIIIIIIIIII', 'IIIIIIIIIIIIIIIIIIIIIIIIIIIZZIIIIIIIIIIIIIIIIIIIII', 'IIIIIIIIIIIIIIIIIIIIIIIIIXXIIIIIIIIIIIIIIIIIIIIIII', 'IIIIIIIIIIIIIIIIIIIIIIIIIYYIIIIIIIIIIIIIIIIIIIIIII', 'IIIIIIIIIIIIIIIIIIIIIIIIIZZIIIIIIIIIIIIIIIIIIIIIII', 'IIIIIIIIIIIIIIIIIIIIIIIXXIIIIIIIIIIIIIIIIIIIIIIIII', 'IIIIIIIIIIIIIIIIIIIIIIIYYIIIIIIIIIIIIIIIIIIIIIIIII', 'IIIIIIIIIIIIIIIIIIIIIIIZZIIIIIIIIIIIIIIIIIIIIIIIII', 'IIIIIIIIIIIIIIIIIIIIIXXIIIIIIIIIIIIIIIIIIIIIIIIIII', 'IIIIIIIIIIIIIIIIIIIIIYYIIIIIIIIIIIIIIIIIIIIIIIIIII', 'IIIIIIIIIIIIIIIIIIIIIZZIIIIIIIIIIIIIIIIIIIIIIIIIII', 'IIIIIIIIIIIIIIIIIIIXXIIIIIIIIIIIIIIIIIIIIIIIIIIIII', 'IIIIIIIIIIIIIIIIIIIYYIIIIIIIIIIIIIIIIIIIIIIIIIIIII', 'IIIIIIIIIIIIIIIIIIIZZIIIIIIIIIIIIIIIIIIIIIIIIIIIII', 'IIIIIIIIIIIIIIIIIXXIIIIIIIIIIIIIIIIIIIIIIIIIIIIIII', 'IIIIIIIIIIIIIIIIIYYIIIIIIIIIIIIIIIIIIIIIIIIIIIIIII', 'IIIIIIIIIIIIIIIIIZZIIIIIIIIIIIIIIIIIIIIIIIIIIIIIII', 'IIIIIIIIIIIIIIIXXIIIIIIIIIIIIIIIIIIIIIIIIIIIIIIIII', 'IIIIIIIIIIIIIIIYYIIIIIIIIIIIIIIIIIIIIIIIIIIIIIIIII', 'IIIIIIIIIIIIIIIZZIIIIIIIIIIIIIIIIIIIIIIIIIIIIIIIII', 'IIIIIIIIIIIIIXXIIIIIIIIIIIIIIIIIIIIIIIIIIIIIIIIIII', 'IIIIIIIIIIIIIYYIIIIIIIIIIIIIIIIIIIIIIIIIIIIIIIIIII', 'IIIIIIIIIIIIIZZIIIIIIIIIIIIIIIIIIIIIIIIIIIIIIIIIII', 'IIIIIIIIIIIXXIIIIIIIIIIIIIIIIIIIIIIIIIIIIIIIIIIIII', 'IIIIIIIIIIIYYIIIIIIIIIIIIIIIIIIIIIIIIIIIIIIIIIIIII', 'IIIIIIIIIIIZZIIIIIIIIIIIIIIIIIIIIIIIIIIIIIIIIIIIII', 'IIIIIIIIIXXIIIIIIIIIIIIIIIIIIIIIIIIIIIIIIIIIIIIIII', 'IIIIIIIIIYYIIIIIIIIIIIIIIIIIIIIIIIIIIIIIIIIIIIIIII', 'IIIIIIIIIZZIIIIIIIIIIIIIIIIIIIIIIIIIIIIIIIIIIIIIII', 'IIIIIIIXXIIIIIIIIIIIIIIIIIIIIIIIIIIIIIIIIIIIIIIIII', 'IIIIIIIYYIIIIIIIIIIIIIIIIIIIIIIIIIIIIIIIIIIIIIIIII', 'IIIIIIIZZIIIIIIIIIIIIIIIIIIIIIIIIIIIIIIIIIIIIIIIII', 'IIIIIXXIIIIIIIIIIIIIIIIIIIIIIIIIIIIIIIIIIIIIIIIIII', 'IIIIIYYIIIIIIIIIIIIIIIIIIIIIIIIIIIIIIIIIIIIIIIIIII', 'IIIIIZZIIIIIIIIIIIIIIIIIIIIIIIIIIIIIIIIIIIIIIIIIII', 'IIIXXIIIIIIIIIIIIIIIIIIIIIIIIIIIIIIIIIIIIIIIIIIIII', 'IIIYYIIIIIIIIIIIIIIIIIIIIIIIIIIIIIIIIIIIIIIIIIIIII', 'IIIZZIIIIIIIIIIIIIIIIIIIIIIIIIIIIIIIIIIIIIIIIIIIII', 'IXXIIIIIIIIIIIIIIIIIIIIIIIIIIIIIIIIIIIIIIIIIIIIIII', 'IYYIIIIIIIIIIIIIIIIIIIIIIIIIIIIIIIIIIIIIIIIIIIIIII', 'IZZIIIIIIIIIIIIIIIIIIIIIIIIIIIIIIIIIIIIIIIIIIIIIII'],\n",
      "              coeffs=[0.52440675+0.j, 0.52440675+0.j, 1.0488135 +0.j, 0.55138169+0.j,\n",
      " 0.55138169+0.j, 1.10276338+0.j, 0.4618274 +0.j, 0.4618274 +0.j,\n",
      " 0.9236548 +0.j, 0.46879361+0.j, 0.46879361+0.j, 0.93758721+0.j,\n",
      " 0.73183138+0.j, 0.73183138+0.j, 1.46366276+0.j, 0.64586252+0.j,\n",
      " 0.64586252+0.j, 1.29172504+0.j, 0.53402228+0.j, 0.53402228+0.j,\n",
      " 1.06804456+0.j, 0.28551803+0.j, 0.28551803+0.j, 0.57103606+0.j,\n",
      " 0.2601092 +0.j, 0.2601092 +0.j, 0.5202184 +0.j, 0.63907838+0.j,\n",
      " 0.63907838+0.j, 1.27815675+0.j, 0.73930917+0.j, 0.73930917+0.j,\n",
      " 1.47861834+0.j, 0.48073968+0.j, 0.48073968+0.j, 0.96147936+0.j,\n",
      " 0.30913721+0.j, 0.30913721+0.j, 0.61827443+0.j, 0.32167664+0.j,\n",
      " 0.32167664+0.j, 0.64335329+0.j, 0.51092416+0.j, 0.51092416+0.j,\n",
      " 1.02184832+0.j, 0.38227781+0.j, 0.38227781+0.j, 0.76455561+0.j,\n",
      " 0.47807517+0.j, 0.47807517+0.j, 0.95615033+0.j, 0.2593949 +0.j,\n",
      " 0.2593949 +0.j, 0.5187898 +0.j, 0.55604786+0.j, 0.55604786+0.j,\n",
      " 1.11209572+0.j, 0.72187404+0.j, 0.72187404+0.j, 1.44374808+0.j,\n",
      " 0.42975395+0.j, 0.42975395+0.j, 0.8595079 +0.j, 0.5988156 +0.j,\n",
      " 0.5988156 +0.j, 1.1976312 +0.j, 0.58338336+0.j, 0.58338336+0.j,\n",
      " 1.16676672+0.j, 0.35519128+0.j, 0.35519128+0.j, 0.71038256+0.j,\n",
      " 0.40771418+0.j, 0.40771418+0.j, 0.81542835+0.j, 0.60759468+0.j,\n",
      " 0.60759468+0.j, 1.21518937+0.j, 0.52244159+0.j, 0.52244159+0.j,\n",
      " 1.04488318+0.j, 0.57294706+0.j, 0.57294706+0.j, 1.14589411+0.j,\n",
      " 0.6958865 +0.j, 0.6958865 +0.j, 1.391773  +0.j, 0.44172076+0.j,\n",
      " 0.44172076+0.j, 0.88344152+0.j, 0.51444746+0.j, 0.51444746+0.j,\n",
      " 1.02889492+0.j, 0.71279832+0.j, 0.71279832+0.j, 1.42559664+0.j,\n",
      " 0.29356465+0.j, 0.29356465+0.j, 0.5871293 +0.j, 0.66630992+0.j,\n",
      " 0.66630992+0.j, 1.33261985+0.j, 0.68500607+0.j, 0.68500607+0.j,\n",
      " 1.37001215+0.j, 0.64957928+0.j, 0.64957928+0.j, 1.29915856+0.j,\n",
      " 0.64026459+0.j, 0.64026459+0.j, 1.28052918+0.j, 0.56996051+0.j,\n",
      " 0.56996051+0.j, 1.13992102+0.j, 0.72233446+0.j, 0.72233446+0.j,\n",
      " 1.44466892+0.j, 0.45733097+0.j, 0.45733097+0.j, 0.91466194+0.j,\n",
      " 0.63711684+0.j, 0.63711684+0.j, 1.27423369+0.j, 0.53421697+0.j,\n",
      " 0.53421697+0.j, 1.06843395+0.j, 0.55881775+0.j, 0.55881775+0.j,\n",
      " 1.1176355 +0.j, 0.558467  +0.j, 0.558467  +0.j, 1.116934  +0.j,\n",
      " 0.59091015+0.j, 0.59091015+0.j, 1.1818203 +0.j, 0.46851598+0.j,\n",
      " 0.46851598+0.j, 0.93703195+0.j, 0.28011274+0.j, 0.28011274+0.j,\n",
      " 0.56022547+0.j, 0.58531893+0.j, 0.58531893+0.j, 1.17063787+0.j,\n",
      " 0.31446315+0.j, 0.31446315+0.j, 0.6289263 +0.j])\n",
      "hamiltonian_sim_entrypoint.run_function:INFO:2025-05-26 13:29:14,587: Observable: SparsePauliOp(['IIIIIIIIIIIIIIIIIIIIIIIIZZIIIIIIIIIIIIIIIIIIIIIIII'],\n",
      "              coeffs=[1.+0.j])\n",
      "hamiltonian_sim_entrypoint.run_function:INFO:2025-05-26 13:29:20,637: Target MPS maximum bond dimension: 5\n",
      "hamiltonian_sim_entrypoint.run_function:INFO:2025-05-26 13:29:20,749: Number of AQC parameters: 816\n",
      "hamiltonian_sim_entrypoint.run_function:INFO:2025-05-26 13:29:20,939: Starting fidelity of AQC portion: 0.9914382555614002\n",
      "hamiltonian_sim_entrypoint.callback:INFO:2025-05-26 13:30:01,955: 2025-05-26 13:30:01.955683 Intermediate result: Fidelity 0.99764200\n",
      "hamiltonian_sim_entrypoint.callback:INFO:2025-05-26 13:30:01,987: 2025-05-26 13:30:01.987368 Intermediate result: Fidelity 0.99788134\n",
      "hamiltonian_sim_entrypoint.callback:INFO:2025-05-26 13:30:02,018: 2025-05-26 13:30:02.018176 Intermediate result: Fidelity 0.99795732\n",
      "hamiltonian_sim_entrypoint.callback:INFO:2025-05-26 13:30:02,051: 2025-05-26 13:30:02.051793 Intermediate result: Fidelity 0.99799126\n",
      "hamiltonian_sim_entrypoint.callback:INFO:2025-05-26 13:30:02,086: 2025-05-26 13:30:02.086447 Intermediate result: Fidelity 0.99803485\n",
      "hamiltonian_sim_entrypoint.callback:INFO:2025-05-26 13:30:02,120: 2025-05-26 13:30:02.120064 Intermediate result: Fidelity 0.99809868\n",
      "hamiltonian_sim_entrypoint.callback:INFO:2025-05-26 13:30:02,154: 2025-05-26 13:30:02.154082 Intermediate result: Fidelity 0.99824815\n",
      "hamiltonian_sim_entrypoint.callback:INFO:2025-05-26 13:30:02,186: 2025-05-26 13:30:02.186369 Intermediate result: Fidelity 0.99845314\n",
      "hamiltonian_sim_entrypoint.callback:INFO:2025-05-26 13:30:02,217: 2025-05-26 13:30:02.217678 Intermediate result: Fidelity 0.99870378\n",
      "hamiltonian_sim_entrypoint.callback:INFO:2025-05-26 13:30:02,248: 2025-05-26 13:30:02.248580 Intermediate result: Fidelity 0.99891597\n",
      "hamiltonian_sim_entrypoint.callback:INFO:2025-05-26 13:30:02,279: 2025-05-26 13:30:02.279207 Intermediate result: Fidelity 0.99904882\n",
      "hamiltonian_sim_entrypoint.callback:INFO:2025-05-26 13:30:02,309: 2025-05-26 13:30:02.309788 Intermediate result: Fidelity 0.99914486\n",
      "hamiltonian_sim_entrypoint.callback:INFO:2025-05-26 13:30:02,340: 2025-05-26 13:30:02.340690 Intermediate result: Fidelity 0.99923006\n",
      "hamiltonian_sim_entrypoint.callback:INFO:2025-05-26 13:30:02,371: 2025-05-26 13:30:02.371195 Intermediate result: Fidelity 0.99929059\n",
      "hamiltonian_sim_entrypoint.callback:INFO:2025-05-26 13:30:02,402: 2025-05-26 13:30:02.402392 Intermediate result: Fidelity 0.99932456\n",
      "hamiltonian_sim_entrypoint.callback:INFO:2025-05-26 13:30:02,433: 2025-05-26 13:30:02.433489 Intermediate result: Fidelity 0.99936805\n",
      "hamiltonian_sim_entrypoint.callback:INFO:2025-05-26 13:30:02,463: 2025-05-26 13:30:02.463105 Intermediate result: Fidelity 0.99938819\n",
      "hamiltonian_sim_entrypoint.callback:INFO:2025-05-26 13:30:02,493: 2025-05-26 13:30:02.493524 Intermediate result: Fidelity 0.99940583\n",
      "hamiltonian_sim_entrypoint.callback:INFO:2025-05-26 13:30:02,524: 2025-05-26 13:30:02.524944 Intermediate result: Fidelity 0.99941834\n",
      "hamiltonian_sim_entrypoint.callback:INFO:2025-05-26 13:30:02,556: 2025-05-26 13:30:02.556740 Intermediate result: Fidelity 0.99944409\n",
      "hamiltonian_sim_entrypoint.callback:INFO:2025-05-26 13:30:02,589: 2025-05-26 13:30:02.589793 Intermediate result: Fidelity 0.99946995\n",
      "hamiltonian_sim_entrypoint.callback:INFO:2025-05-26 13:30:02,621: 2025-05-26 13:30:02.621613 Intermediate result: Fidelity 0.99948735\n",
      "hamiltonian_sim_entrypoint.callback:INFO:2025-05-26 13:30:02,653: 2025-05-26 13:30:02.653064 Intermediate result: Fidelity 0.99952119\n",
      "hamiltonian_sim_entrypoint.callback:INFO:2025-05-26 13:30:02,684: 2025-05-26 13:30:02.684624 Intermediate result: Fidelity 0.99953704\n",
      "hamiltonian_sim_entrypoint.callback:INFO:2025-05-26 13:30:02,717: 2025-05-26 13:30:02.717879 Intermediate result: Fidelity 0.99955397\n",
      "hamiltonian_sim_entrypoint.callback:INFO:2025-05-26 13:30:02,751: 2025-05-26 13:30:02.751790 Intermediate result: Fidelity 0.99958353\n",
      "hamiltonian_sim_entrypoint.callback:INFO:2025-05-26 13:30:02,782: 2025-05-26 13:30:02.782658 Intermediate result: Fidelity 0.99960283\n",
      "hamiltonian_sim_entrypoint.callback:INFO:2025-05-26 13:30:02,814: 2025-05-26 13:30:02.814080 Intermediate result: Fidelity 0.99961940\n",
      "hamiltonian_sim_entrypoint.callback:INFO:2025-05-26 13:30:02,845: 2025-05-26 13:30:02.845613 Intermediate result: Fidelity 0.99963668\n",
      "hamiltonian_sim_entrypoint.callback:INFO:2025-05-26 13:30:02,880: 2025-05-26 13:30:02.880042 Intermediate result: Fidelity 0.99964264\n",
      "hamiltonian_sim_entrypoint.callback:INFO:2025-05-26 13:30:02,913: 2025-05-26 13:30:02.913539 Intermediate result: Fidelity 0.99964920\n",
      "hamiltonian_sim_entrypoint.callback:INFO:2025-05-26 13:30:02,947: 2025-05-26 13:30:02.947674 Intermediate result: Fidelity 0.99965790\n",
      "hamiltonian_sim_entrypoint.callback:INFO:2025-05-26 13:30:02,980: 2025-05-26 13:30:02.980267 Intermediate result: Fidelity 0.99966386\n",
      "hamiltonian_sim_entrypoint.callback:INFO:2025-05-26 13:30:03,015: 2025-05-26 13:30:03.015588 Intermediate result: Fidelity 0.99967602\n",
      "hamiltonian_sim_entrypoint.callback:INFO:2025-05-26 13:30:03,052: 2025-05-26 13:30:03.052499 Intermediate result: Fidelity 0.99968412\n",
      "hamiltonian_sim_entrypoint.callback:INFO:2025-05-26 13:30:03,086: 2025-05-26 13:30:03.086902 Intermediate result: Fidelity 0.99969044\n",
      "hamiltonian_sim_entrypoint.callback:INFO:2025-05-26 13:30:03,119: 2025-05-26 13:30:03.119032 Intermediate result: Fidelity 0.99970665\n",
      "hamiltonian_sim_entrypoint.callback:INFO:2025-05-26 13:30:03,150: 2025-05-26 13:30:03.150067 Intermediate result: Fidelity 0.99971821\n",
      "hamiltonian_sim_entrypoint.callback:INFO:2025-05-26 13:30:03,180: 2025-05-26 13:30:03.180203 Intermediate result: Fidelity 0.99972870\n",
      "hamiltonian_sim_entrypoint.callback:INFO:2025-05-26 13:30:03,210: 2025-05-26 13:30:03.210941 Intermediate result: Fidelity 0.99973549\n",
      "hamiltonian_sim_entrypoint.callback:INFO:2025-05-26 13:30:03,241: 2025-05-26 13:30:03.241639 Intermediate result: Fidelity 0.99974157\n",
      "hamiltonian_sim_entrypoint.callback:INFO:2025-05-26 13:30:03,272: 2025-05-26 13:30:03.272386 Intermediate result: Fidelity 0.99974252\n",
      "hamiltonian_sim_entrypoint.callback:INFO:2025-05-26 13:30:03,303: 2025-05-26 13:30:03.303682 Intermediate result: Fidelity 0.99974801\n",
      "hamiltonian_sim_entrypoint.callback:INFO:2025-05-26 13:30:03,334: 2025-05-26 13:30:03.334545 Intermediate result: Fidelity 0.99975015\n",
      "hamiltonian_sim_entrypoint.callback:INFO:2025-05-26 13:30:03,364: 2025-05-26 13:30:03.364671 Intermediate result: Fidelity 0.99975146\n",
      "hamiltonian_sim_entrypoint.callback:INFO:2025-05-26 13:30:03,395: 2025-05-26 13:30:03.395316 Intermediate result: Fidelity 0.99975266\n",
      "hamiltonian_sim_entrypoint.callback:INFO:2025-05-26 13:30:03,427: 2025-05-26 13:30:03.427303 Intermediate result: Fidelity 0.99975528\n",
      "hamiltonian_sim_entrypoint.callback:INFO:2025-05-26 13:30:03,457: 2025-05-26 13:30:03.457586 Intermediate result: Fidelity 0.99975885\n",
      "hamiltonian_sim_entrypoint.callback:INFO:2025-05-26 13:30:03,521: 2025-05-26 13:30:03.521811 Intermediate result: Fidelity 0.99976088\n",
      "hamiltonian_sim_entrypoint.callback:INFO:2025-05-26 13:30:03,554: 2025-05-26 13:30:03.554342 Intermediate result: Fidelity 0.99976815\n",
      "hamiltonian_sim_entrypoint.callback:INFO:2025-05-26 13:30:03,621: 2025-05-26 13:30:03.621269 Intermediate result: Fidelity 0.99977030\n",
      "hamiltonian_sim_entrypoint.callback:INFO:2025-05-26 13:30:03,654: 2025-05-26 13:30:03.654393 Intermediate result: Fidelity 0.99977268\n",
      "hamiltonian_sim_entrypoint.callback:INFO:2025-05-26 13:30:03,781: 2025-05-26 13:30:03.781925 Intermediate result: Fidelity 0.99977304\n",
      "hamiltonian_sim_entrypoint.callback:INFO:2025-05-26 13:30:03,814: 2025-05-26 13:30:03.814534 Intermediate result: Fidelity 0.99977602\n",
      "hamiltonian_sim_entrypoint.callback:INFO:2025-05-26 13:30:04,397: 2025-05-26 13:30:04.397687 Intermediate result: Fidelity 0.99977602\n",
      "hamiltonian_sim_entrypoint.run_function:INFO:2025-05-26 13:30:04,398: Done after 55 iterations\n",
      "hamiltonian_sim_entrypoint.run_function:INFO:2025-05-26 13:30:04,677: Fidelity of AQC portion: 0.9997823400276018\n",
      "hamiltonian_sim_entrypoint.run_function:INFO:2025-05-26 13:30:15,094: ISA circuit two-qubit depth: 33\n",
      "hamiltonian_sim_entrypoint.run_function:INFO:2025-05-26 13:30:15,094: Exiting before hardware execution since `dry_run` is True.\n",
      "\n"
     ]
    }
   ],
   "source": [
    "print(job.logs())"
   ]
  }
 ],
 "metadata": {
  "kernelspec": {
   "display_name": ".venv_hamsim",
   "language": "python",
   "name": "python3"
  },
  "language_info": {
   "codemirror_mode": {
    "name": "ipython",
    "version": 3
   },
   "file_extension": ".py",
   "mimetype": "text/x-python",
   "name": "python",
   "nbconvert_exporter": "python",
   "pygments_lexer": "ipython3",
   "version": "3.11.9"
  }
 },
 "nbformat": 4,
 "nbformat_minor": 5
}
