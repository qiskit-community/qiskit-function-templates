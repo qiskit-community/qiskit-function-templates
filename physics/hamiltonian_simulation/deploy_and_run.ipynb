{
 "cells": [
  {
   "cell_type": "markdown",
   "id": "8cfa587b",
   "metadata": {},
   "source": [
    "# Deploy and Run the Hamiltonian Simulation Function"
   ]
  },
  {
   "cell_type": "markdown",
   "id": "01bdd609",
   "metadata": {
    "vscode": {
     "languageId": "plaintext"
    }
   },
   "source": [
    "This interactive guide shows how to upload the Hamiltonian simulation function to Qiskit Serverless and run an example workload."
   ]
  },
  {
   "cell_type": "markdown",
   "id": "a0cb6f4a",
   "metadata": {
    "vscode": {
     "languageId": "plaintext"
    }
   },
   "source": [
    "### Requirements\n",
    "\n",
    "This guide was developed with the following local package versions:"
   ]
  },
  {
   "cell_type": "code",
   "execution_count": null,
   "id": "6ed191ea-32f1-4708-9141-b41dc2ac9590",
   "metadata": {},
   "outputs": [],
   "source": [
    "from qiskit import __version__ as qiskit_version\n",
    "from qiskit_ibm_catalog import __version__ as catalog_version\n",
    "\n",
    "print(\"qiskit version:\", qiskit_version)\n",
    "print(\"qiskit catalog version:\", catalog_version)"
   ]
  },
  {
   "cell_type": "markdown",
   "id": "6c92ac84",
   "metadata": {
    "vscode": {
     "languageId": "plaintext"
    }
   },
   "source": [
    "## 1. Authentication\n",
    "\n",
    "Use `qiskit-ibm-catalog` to authenticate to `QiskitServerless` with your API key (token) and CRN (instance), which you can find on the [IBM Quantum Platform](https://quantum.cloud.ibm.com) dashboard. This will allow you to locally instantiate the serverless client to upload or run the selected function:\n",
    "\n",
    "```python\n",
    "from qiskit_ibm_catalog import QiskitServerless\n",
    "serverless = QiskitServerless(channel=\"ibm_quantum_platform\", token=\"MY_TOKEN\", instance=\"MY_CRN\")\n",
    "```\n",
    "\n",
    "You can optionally use `save_account()` to save your credentials in your local environment (see the [Set up your IBM Cloud account](/docs/guides/cloud-setup#cloud-save) guide). Note that this writes your credentials to the same file as [`QiskitRuntimeService.save_account()`](/docs/api/qiskit-ibm-runtime/qiskit-runtime-service#save_account):\n",
    "\n",
    "```python\n",
    "QiskitServerless.save_account(channel=\"ibm_quantum_platform\", token=\"MY_TOKEN\", instance=\"MY_CRN\")\n",
    "```\n",
    "\n",
    "If the account is saved, there is no need to provide the token to authenticate:"
   ]
  },
  {
   "cell_type": "code",
   "execution_count": null,
   "id": "7393286a",
   "metadata": {},
   "outputs": [],
   "source": [
    "from qiskit_ibm_catalog import QiskitServerless\n",
    "\n",
    "# Authenticate to the remote cluster\n",
    "# In this case, using the \"ibm_quantum_platform\" (IBM Cloud) channel\n",
    "serverless = QiskitServerless(channel=\"ibm_quantum_platform\")"
   ]
  },
  {
   "cell_type": "markdown",
   "id": "e1f99d80",
   "metadata": {
    "vscode": {
     "languageId": "plaintext"
    }
   },
   "source": [
    "## 2. Upload the custom function"
   ]
  },
  {
   "cell_type": "markdown",
   "id": "3e0e8cc8",
   "metadata": {
    "vscode": {
     "languageId": "plaintext"
    }
   },
   "source": [
    "To upload a Qiskit Function, you must first instantiate a `QiskitFunction` object that defines the function source code. The title will allow you to identify the function once it's in the remote cluster. The main entry point is the file that contains `if __name__ == \"__main__\"`. If your workflow requires additional source files, you can define a working directory that will be uploaded together with the entry point."
   ]
  },
  {
   "cell_type": "code",
   "execution_count": null,
   "id": "77b2b9b6",
   "metadata": {},
   "outputs": [],
   "source": [
    "from qiskit_ibm_catalog import QiskitFunction\n",
    "\n",
    "template = QiskitFunction(\n",
    "    title=\"hamiltonian_simulation_template\",\n",
    "    entrypoint=\"hamiltonian_sim_entrypoint.py\",\n",
    "    working_dir=\"./source_files/\",  # all files in this directory will be uploaded\n",
    ")\n",
    "print(template)"
   ]
  },
  {
   "cell_type": "markdown",
   "id": "72854f5a",
   "metadata": {},
   "source": [
    "Once the instance is ready, upload it to serverless:"
   ]
  },
  {
   "cell_type": "code",
   "execution_count": null,
   "id": "59e7fdb5",
   "metadata": {},
   "outputs": [],
   "source": [
    "serverless.upload(template)"
   ]
  },
  {
   "cell_type": "markdown",
   "id": "ac7d8764",
   "metadata": {
    "vscode": {
     "languageId": "plaintext"
    }
   },
   "source": [
    "To check if the program successfully uploaded, use `serverless.list()`:"
   ]
  },
  {
   "cell_type": "code",
   "execution_count": null,
   "id": "03a91030",
   "metadata": {},
   "outputs": [],
   "source": [
    "serverless.list()"
   ]
  },
  {
   "cell_type": "markdown",
   "id": "99408586",
   "metadata": {},
   "source": [
    "## 3. Load and run the custom function remotely"
   ]
  },
  {
   "cell_type": "markdown",
   "id": "62b37d7a",
   "metadata": {},
   "source": [
    "\n",
    "The function template has been uploaded, so you can run it remotely with Qiskit Serverless. First, load the template by name:"
   ]
  },
  {
   "cell_type": "code",
   "execution_count": null,
   "id": "854d12cf",
   "metadata": {},
   "outputs": [],
   "source": [
    "template = serverless.load(\"hamiltonian_simulation_template\")\n",
    "print(template)"
   ]
  },
  {
   "cell_type": "markdown",
   "id": "fa2dc721",
   "metadata": {
    "vscode": {
     "languageId": "plaintext"
    }
   },
   "source": [
    "Next, run the template with the domain-level inputs for Hamiltonian simulation. This example specifies a 50-qubit XXZ model with random couplings, and an initial state and observable."
   ]
  },
  {
   "cell_type": "code",
   "execution_count": null,
   "id": "a1719ab1",
   "metadata": {},
   "outputs": [],
   "source": [
    "from itertools import chain\n",
    "import numpy as np\n",
    "from qiskit.quantum_info import SparsePauliOp\n",
    "\n",
    "L = 50\n",
    "\n",
    "# Generate the edge list for this spin-chain\n",
    "edges = [(i, i + 1) for i in range(L - 1)]\n",
    "# Generate an edge-coloring so we can make hw-efficient circuits\n",
    "edges = edges[::2] + edges[1::2]\n",
    "\n",
    "# Generate random coefficients for our XXZ Hamiltonian\n",
    "np.random.seed(0)\n",
    "Js = np.random.rand(L - 1) + 0.5 * np.ones(L - 1)\n",
    "\n",
    "hamiltonian = SparsePauliOp.from_sparse_list(\n",
    "    chain.from_iterable(\n",
    "        [\n",
    "            [\n",
    "                (\"XX\", (i, j), Js[i] / 2),\n",
    "                (\"YY\", (i, j), Js[i] / 2),\n",
    "                (\"ZZ\", (i, j), Js[i]),\n",
    "            ]\n",
    "            for i, j in edges\n",
    "        ]\n",
    "    ),\n",
    "    num_qubits=L,\n",
    ")\n",
    "observable = SparsePauliOp.from_sparse_list([(\"ZZ\", (L // 2 - 1, L // 2), 1.0)], num_qubits=L)"
   ]
  },
  {
   "cell_type": "code",
   "execution_count": null,
   "id": "6226745b",
   "metadata": {},
   "outputs": [],
   "source": [
    "from qiskit import QuantumCircuit\n",
    "\n",
    "initial_state = QuantumCircuit(L)\n",
    "for i in range(L):\n",
    "    if i % 2:\n",
    "        initial_state.x(i)"
   ]
  },
  {
   "cell_type": "code",
   "execution_count": null,
   "id": "01c0667c",
   "metadata": {},
   "outputs": [],
   "source": [
    "# set up AQC options\n",
    "\n",
    "aqc_options = {\n",
    "    \"aqc_evolution_time\": 0.2,\n",
    "    \"aqc_ansatz_num_trotter_steps\": 1,\n",
    "    \"aqc_target_num_trotter_steps\": 32,\n",
    "    \"remainder_evolution_time\": 0.2,\n",
    "    \"remainder_num_trotter_steps\": 4,\n",
    "    \"aqc_max_iterations\": 300,\n",
    "}\n",
    "\n",
    "job = template.run(\n",
    "    backend_name=\"ibm_fez\",\n",
    "    hamiltonian=hamiltonian,\n",
    "    observable=observable,\n",
    "    initial_state=initial_state,\n",
    "    aqc_options=aqc_options,\n",
    "    estimator_options={},\n",
    "    dry_run=True,\n",
    ")\n",
    "print(job.job_id)"
   ]
  },
  {
   "cell_type": "markdown",
   "id": "a9101a94",
   "metadata": {},
   "source": [
    "Check the detailed status of the job:"
   ]
  },
  {
   "cell_type": "code",
   "execution_count": null,
   "id": "4385a34f",
   "metadata": {},
   "outputs": [],
   "source": [
    "import time\n",
    "\n",
    "t0 = time.time()\n",
    "status = job.status()\n",
    "if status == \"QUEUED\":\n",
    "    print(f\"time = {time.time()-t0:.2f}, status = QUEUED\")\n",
    "while True:\n",
    "    status = job.status()\n",
    "    if status == \"QUEUED\":\n",
    "        continue\n",
    "    print(f\"time = {time.time()-t0:.2f}, status = {status}\")\n",
    "    if status == \"DONE\" or status == \"ERROR\":\n",
    "        break"
   ]
  },
  {
   "cell_type": "markdown",
   "id": "4adc5293",
   "metadata": {},
   "source": [
    "After the job is running, you can fetch logs created from the `logger.info` outputs. These can provide actionable information about the progress of the Hamiltonian simulation workflow. For example, the value of the objective function during the iterative component of AQC, or the two-qubit depth of the final ISA circuit intended for execution on hardware."
   ]
  },
  {
   "cell_type": "code",
   "execution_count": null,
   "id": "a5b1f190",
   "metadata": {},
   "outputs": [],
   "source": [
    "print(job.logs())"
   ]
  },
  {
   "cell_type": "markdown",
   "id": "ba179114",
   "metadata": {},
   "source": [
    "Block the rest of the program until a result is available. After the job is done, you can retrieve the results. These include the domain-level output of Hamiltonian simulation (expectation value) and useful metadata."
   ]
  },
  {
   "cell_type": "code",
   "execution_count": null,
   "id": "3500adce",
   "metadata": {},
   "outputs": [],
   "source": [
    "result = job.result()\n",
    "\n",
    "del result[\"aqc_final_parameters\"]  # the list is too long to conveniently display here\n",
    "result"
   ]
  },
  {
   "cell_type": "markdown",
   "id": "6a1a2ff3",
   "metadata": {},
   "source": [
    "Note that the result metadata includes a resource usage summary that allows to better estimate the QPU and CPU time required for each workload (this example runs on dry-run mode so no quantum resources are used).  "
   ]
  }
 ],
 "metadata": {
  "kernelspec": {
   "display_name": "Python 3 (ipykernel)",
   "language": "python",
   "name": "python3"
  },
  "language_info": {
   "codemirror_mode": {
    "name": "ipython",
    "version": 3
   },
   "file_extension": ".py",
   "mimetype": "text/x-python",
   "name": "python",
   "nbconvert_exporter": "python",
   "pygments_lexer": "ipython3",
   "version": "3.11.9"
  }
 },
 "nbformat": 4,
 "nbformat_minor": 5
}
