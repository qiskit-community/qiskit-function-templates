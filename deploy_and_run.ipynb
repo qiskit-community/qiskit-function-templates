{
 "cells": [
  {
   "cell_type": "markdown",
   "id": "8cfa587b",
   "metadata": {},
   "source": [
    "# Deploy and Run the Hamiltonian Simulation Function"
   ]
  },
  {
   "cell_type": "markdown",
   "id": "01bdd609",
   "metadata": {
    "vscode": {
     "languageId": "plaintext"
    }
   },
   "source": [
    "This interactive guide shows how to upload the hamiltonian simulation function to Qiskit Serverless and run an example workload."
   ]
  },
  {
   "cell_type": "markdown",
   "id": "a0cb6f4a",
   "metadata": {
    "vscode": {
     "languageId": "plaintext"
    }
   },
   "source": [
    "### Requirements\n",
    "\n",
    "This guide was developed with the following package versions:\n",
    "\n",
    "```\n",
    "qiskit-ibm-catalog == 0.5.0\n",
    "qiskit-ibm-runtime == 0.38.0\n",
    "```"
   ]
  },
  {
   "cell_type": "markdown",
   "id": "6c92ac84",
   "metadata": {
    "vscode": {
     "languageId": "plaintext"
    }
   },
   "source": [
    "## 1. Autentication\n",
    "\n",
    "Use `qiskit-ibm-catalog` to authenticate to `QiskitServerless` with your API key (token), which you can find on the [IBM Quantum Platform](https://quantum.cloud.ibm.com) dashboard. This will allow you to locally instantiate the serverless client to upload or run the selected function:\n",
    "\n",
    "```python\n",
    "from qiskit_ibm_catalog import QiskitServerless\n",
    "serverless = QiskitServerless(token=\"MY_TOKEN\")\n",
    "```\n",
    "\n",
    "You can optionally use `save_account()` to save your credentials in your local environment (see the [Set up your IBM Cloud account](/docs/guides/cloud-setup#cloud-save) guide). Note that this writes your credentials to the same file as [`QiskitRuntimeService.save_account()`](/docs/api/qiskit-ibm-runtime/qiskit-runtime-service#save_account):\n",
    "\n",
    "```python\n",
    "QiskitServerless.save_account(token=\"MY_TOKEN\")\n",
    "```\n",
    "\n",
    "If the account is saved, there is no need to provide the token to authenticate:"
   ]
  },
  {
   "cell_type": "code",
   "execution_count": 1,
   "id": "7393286a",
   "metadata": {},
   "outputs": [],
   "source": [
    "from qiskit_ibm_catalog import QiskitServerless\n",
    "\n",
    "# Authenticate to the remote cluster\n",
    "serverless = QiskitServerless(channel=\"ibm_quantum\")"
   ]
  },
  {
   "cell_type": "markdown",
   "id": "e1f99d80",
   "metadata": {
    "vscode": {
     "languageId": "plaintext"
    }
   },
   "source": [
    "## 2. Upload the Function"
   ]
  },
  {
   "cell_type": "markdown",
   "id": "3e0e8cc8",
   "metadata": {
    "vscode": {
     "languageId": "plaintext"
    }
   },
   "source": [
    "To upload a Qiskit Function, you must first instantiate a `QiskitFunction` object that defines the function source code. The title will allow you to identify the function once it's in the remote cluster. The main entry point is the file that contains `if __name__ == \"__main__\"`. If your workflow requires additional source files, you can define a working directory that will be uploaded together with the entry point."
   ]
  },
  {
   "cell_type": "code",
   "execution_count": null,
   "id": "77b2b9b6",
   "metadata": {},
   "outputs": [
    {
     "name": "stdout",
     "output_type": "stream",
     "text": [
      "QiskitFunction(hamiltonian_simulation_template)\n"
     ]
    }
   ],
   "source": [
    "from qiskit_ibm_catalog import QiskitFunction\n",
    "\n",
    "template = QiskitFunction(\n",
    "    title=\"hamiltonian_simulation_template\",\n",
    "    entrypoint=\"hamiltonian_simulation.py\",\n",
    "    working_dir=\"./physics/hamiltonian_simulation/\",  # all files in this directory will be uploaded\n",
    ")\n",
    "print(template)"
   ]
  },
  {
   "cell_type": "markdown",
   "id": "72854f5a",
   "metadata": {},
   "source": [
    "Once the instance is ready, upload it to serverless:"
   ]
  },
  {
   "cell_type": "code",
   "execution_count": 4,
   "id": "59e7fdb5",
   "metadata": {},
   "outputs": [
    {
     "data": {
      "text/plain": [
       "QiskitFunction(hamiltonian_simulation_template)"
      ]
     },
     "execution_count": 4,
     "metadata": {},
     "output_type": "execute_result"
    }
   ],
   "source": [
    "serverless.upload(template)"
   ]
  },
  {
   "cell_type": "markdown",
   "id": "ac7d8764",
   "metadata": {
    "vscode": {
     "languageId": "plaintext"
    }
   },
   "source": [
    "To check if the program successfully uploaded, use `serverless.list()`:"
   ]
  },
  {
   "cell_type": "code",
   "execution_count": 5,
   "id": "03a91030",
   "metadata": {},
   "outputs": [
    {
     "data": {
      "text/plain": [
       "[QiskitFunction(template_hamiltonian_simulation),\n",
       " QiskitFunction(hamiltonian_simulation_template)]"
      ]
     },
     "execution_count": 5,
     "metadata": {},
     "output_type": "execute_result"
    }
   ],
   "source": [
    "serverless.list()"
   ]
  },
  {
   "cell_type": "markdown",
   "id": "99408586",
   "metadata": {},
   "source": [
    "## 3. Loand and Run the Function remotely"
   ]
  },
  {
   "cell_type": "markdown",
   "id": "62b37d7a",
   "metadata": {},
   "source": [
    "\n",
    "The function template has been uploaded, so you can run it remotely with Qiskit Serverless. First, load the template by name:"
   ]
  },
  {
   "cell_type": "code",
   "execution_count": 6,
   "id": "854d12cf",
   "metadata": {},
   "outputs": [
    {
     "name": "stdout",
     "output_type": "stream",
     "text": [
      "QiskitFunction(hamiltonian_simulation_template)\n"
     ]
    }
   ],
   "source": [
    "template = serverless.load(\"hamiltonian_simulation_template\")\n",
    "print(template)"
   ]
  },
  {
   "cell_type": "markdown",
   "id": "fa2dc721",
   "metadata": {
    "vscode": {
     "languageId": "plaintext"
    }
   },
   "source": [
    "Next, run the template with the domain-level inputs for Hamiltonian simulation. This example specifies a 50-qubit XXZ model with random couplings, and an initial state and observable."
   ]
  },
  {
   "cell_type": "code",
   "execution_count": 7,
   "id": "a1719ab1",
   "metadata": {},
   "outputs": [],
   "source": [
    "from itertools import chain\n",
    "import numpy as np\n",
    "from qiskit.quantum_info import SparsePauliOp\n",
    "\n",
    "L = 50\n",
    "\n",
    "# Generate the edge list for this spin-chain\n",
    "edges = [(i, i + 1) for i in range(L - 1)]\n",
    "# Generate an edge-coloring so we can make hw-efficient circuits\n",
    "edges = edges[::2] + edges[1::2]\n",
    "\n",
    "# Generate random coefficients for our XXZ Hamiltonian\n",
    "np.random.seed(0)\n",
    "Js = np.random.rand(L - 1) + 0.5 * np.ones(L - 1)\n",
    "\n",
    "hamiltonian = SparsePauliOp.from_sparse_list(\n",
    "    chain.from_iterable(\n",
    "        [\n",
    "            [\n",
    "                (\"XX\", (i, j), Js[i] / 2),\n",
    "                (\"YY\", (i, j), Js[i] / 2),\n",
    "                (\"ZZ\", (i, j), Js[i]),\n",
    "            ]\n",
    "            for i, j in edges\n",
    "        ]\n",
    "    ),\n",
    "    num_qubits=L,\n",
    ")\n",
    "observable = SparsePauliOp.from_sparse_list([(\"ZZ\", (L // 2 - 1, L // 2), 1.0)], num_qubits=L)"
   ]
  },
  {
   "cell_type": "code",
   "execution_count": 8,
   "id": "6226745b",
   "metadata": {},
   "outputs": [],
   "source": [
    "from qiskit import QuantumCircuit\n",
    "\n",
    "initial_state = QuantumCircuit(L)\n",
    "for i in range(L):\n",
    "    if i % 2:\n",
    "        initial_state.x(i)"
   ]
  },
  {
   "cell_type": "code",
   "execution_count": 9,
   "id": "01c0667c",
   "metadata": {},
   "outputs": [
    {
     "name": "stdout",
     "output_type": "stream",
     "text": [
      "103cc1ae-4a40-41e9-8105-294ca2d7b196\n"
     ]
    }
   ],
   "source": [
    "job = template.run(\n",
    "    dry_run=True,\n",
    "    initial_state=initial_state,\n",
    "    hamiltonian=hamiltonian,\n",
    "    observable=observable,\n",
    "    backend_name=\"ibm_fez\",\n",
    "    estimator_options={},\n",
    "    aqc_evolution_time=0.2,\n",
    "    aqc_ansatz_num_trotter_steps=1,\n",
    "    aqc_target_num_trotter_steps=32,\n",
    "    remainder_evolution_time=0.2,\n",
    "    remainder_num_trotter_steps=4,\n",
    "    aqc_max_iterations=300,\n",
    ")\n",
    "print(job.job_id)"
   ]
  },
  {
   "cell_type": "markdown",
   "id": "a9101a94",
   "metadata": {},
   "source": [
    "Check the status of the job:"
   ]
  },
  {
   "cell_type": "code",
   "execution_count": 10,
   "id": "4385a34f",
   "metadata": {},
   "outputs": [
    {
     "data": {
      "text/plain": [
       "'QUEUED'"
      ]
     },
     "execution_count": 10,
     "metadata": {},
     "output_type": "execute_result"
    }
   ],
   "source": [
    "job.status()"
   ]
  },
  {
   "cell_type": "markdown",
   "id": "4adc5293",
   "metadata": {},
   "source": [
    "After the job is running, you can fetch logs created from the `logger.info` outputs. These can provide actionable information about the progress of the Hamiltonian simulation workflow. For example, the value of the objective function during the iterative component of AQC, or the two-qubit depth of the final ISA circuit intended for execution on hardware."
   ]
  },
  {
   "cell_type": "code",
   "execution_count": 11,
   "id": "a5b1f190",
   "metadata": {},
   "outputs": [
    {
     "name": "stdout",
     "output_type": "stream",
     "text": [
      "No logs yet.\n"
     ]
    }
   ],
   "source": [
    "print(job.logs())"
   ]
  },
  {
   "cell_type": "markdown",
   "id": "ba179114",
   "metadata": {},
   "source": [
    "Block the rest of the program until a result is available. After the job is done, you can retrieve the results. These include the domain-level output of Hamiltonian simulation (expectation value) and useful metadata."
   ]
  },
  {
   "cell_type": "code",
   "execution_count": 12,
   "id": "3500adce",
   "metadata": {},
   "outputs": [
    {
     "data": {
      "text/plain": [
       "{'target_bond_dimension': 5,\n",
       " 'num_aqc_parameters': 816,\n",
       " 'aqc_starting_fidelity': 0.9914382555614002,\n",
       " 'num_iterations': 58,\n",
       " 'aqc_fidelity': 0.9997886841427734,\n",
       " 'twoqubit_depth': 33}"
      ]
     },
     "execution_count": 12,
     "metadata": {},
     "output_type": "execute_result"
    }
   ],
   "source": [
    "result = job.result()\n",
    "\n",
    "del result[\"aqc_final_parameters\"]  # the list is too long to conveniently display here\n",
    "result"
   ]
  },
  {
   "cell_type": "markdown",
   "id": "49d0b26d",
   "metadata": {
    "vscode": {
     "languageId": "plaintext"
    }
   },
   "source": [
    "After the job completes, the entire logging output will be available."
   ]
  },
  {
   "cell_type": "code",
   "execution_count": 13,
   "id": "ddcba564",
   "metadata": {},
   "outputs": [
    {
     "name": "stdout",
     "output_type": "stream",
     "text": [
      "2025-04-30 09:27:02,974\tINFO job_manager.py:531 -- Runtime env is setting up.\n",
      "/usr/local/lib/python3.11/site-packages/cotengra/hyperoptimizers/hyper.py:57: UserWarning: Couldn't find `optuna`, `cmaes`, or `nevergrad` so will use completely random sampling in place of hyper-optimization.\n",
      "  warnings.warn(\n",
      "/usr/local/lib/python3.11/site-packages/cotengra/hyperoptimizers/hyper.py:76: UserWarning: Couldn't find `optuna`, `cmaes`, or `nevergrad` so will use completely random sampling in place of hyper-optimization.\n",
      "  warnings.warn(\n",
      "/usr/local/lib64/python3.11/site-packages/qiskit/qpy/interface.py:346: UserWarning: The qiskit version used to generate the provided QPY file, 2.0.0, is newer than the current qiskit version 1.4.2. This may result in an error if the QPY file uses instructions not present in this current qiskit version\n",
      "  warnings.warn(\n",
      "hamiltonian_simulation.run_function:INFO:2025-04-30 09:28:04,267: Starting runtime service\n",
      "hamiltonian_simulation.run_function:INFO:2025-04-30 09:28:13,804: backend: ibm_fez\n",
      "hamiltonian_simulation.run_function:INFO:2025-04-30 09:28:13,805: estimator_options = {\n",
      "    \"resilience\": {\n",
      "        \"measure_mitigation\": true,\n",
      "        \"zne_mitigation\": true,\n",
      "        \"zne\": {\n",
      "            \"amplifier\": \"gate_folding\",\n",
      "            \"noise_factors\": [\n",
      "                1,\n",
      "                2,\n",
      "                3\n",
      "            ],\n",
      "            \"extrapolated_noise_factors\": [\n",
      "                0.0,\n",
      "                0.1,\n",
      "                0.2,\n",
      "                0.30000000000000004,\n",
      "                0.4,\n",
      "                0.5,\n",
      "                0.6000000000000001,\n",
      "                0.7000000000000001,\n",
      "                0.8,\n",
      "                0.9,\n",
      "                1.0,\n",
      "                1.1,\n",
      "                1.2000000000000002,\n",
      "                1.3,\n",
      "                1.4000000000000001,\n",
      "                1.5,\n",
      "                1.6,\n",
      "                1.7000000000000002,\n",
      "                1.8,\n",
      "                1.9000000000000001,\n",
      "                2.0,\n",
      "                2.1,\n",
      "                2.2,\n",
      "                2.3000000000000003,\n",
      "                2.4000000000000004,\n",
      "                2.5,\n",
      "                2.6,\n",
      "                2.7,\n",
      "                2.8000000000000003,\n",
      "                2.9000000000000004,\n",
      "                3.0\n",
      "            ],\n",
      "            \"extrapolator\": [\n",
      "                \"exponential\",\n",
      "                \"linear\",\n",
      "                \"fallback\"\n",
      "            ]\n",
      "        },\n",
      "        \"measure_noise_learning\": {\n",
      "            \"num_randomizations\": 512,\n",
      "            \"shots_per_randomization\": 512\n",
      "        }\n",
      "    },\n",
      "    \"twirling\": {\n",
      "        \"enable_gates\": true,\n",
      "        \"enable_measure\": true,\n",
      "        \"num_randomizations\": 300,\n",
      "        \"shots_per_randomization\": 100,\n",
      "        \"strategy\": \"active\"\n",
      "    }\n",
      "}\n",
      "hamiltonian_simulation.run_function:INFO:2025-04-30 09:28:13,808: Hamiltonian: SparsePauliOp(['IIIIIIIIIIIIIIIIIIIIIIIIIIIIIIIIIIIIIIIIIIIIIIIIXX', 'IIIIIIIIIIIIIIIIIIIIIIIIIIIIIIIIIIIIIIIIIIIIIIIIYY', 'IIIIIIIIIIIIIIIIIIIIIIIIIIIIIIIIIIIIIIIIIIIIIIIIZZ', 'IIIIIIIIIIIIIIIIIIIIIIIIIIIIIIIIIIIIIIIIIIIIIIXXII', 'IIIIIIIIIIIIIIIIIIIIIIIIIIIIIIIIIIIIIIIIIIIIIIYYII', 'IIIIIIIIIIIIIIIIIIIIIIIIIIIIIIIIIIIIIIIIIIIIIIZZII', 'IIIIIIIIIIIIIIIIIIIIIIIIIIIIIIIIIIIIIIIIIIIIXXIIII', 'IIIIIIIIIIIIIIIIIIIIIIIIIIIIIIIIIIIIIIIIIIIIYYIIII', 'IIIIIIIIIIIIIIIIIIIIIIIIIIIIIIIIIIIIIIIIIIIIZZIIII', 'IIIIIIIIIIIIIIIIIIIIIIIIIIIIIIIIIIIIIIIIIIXXIIIIII', 'IIIIIIIIIIIIIIIIIIIIIIIIIIIIIIIIIIIIIIIIIIYYIIIIII', 'IIIIIIIIIIIIIIIIIIIIIIIIIIIIIIIIIIIIIIIIIIZZIIIIII', 'IIIIIIIIIIIIIIIIIIIIIIIIIIIIIIIIIIIIIIIIXXIIIIIIII', 'IIIIIIIIIIIIIIIIIIIIIIIIIIIIIIIIIIIIIIIIYYIIIIIIII', 'IIIIIIIIIIIIIIIIIIIIIIIIIIIIIIIIIIIIIIIIZZIIIIIIII', 'IIIIIIIIIIIIIIIIIIIIIIIIIIIIIIIIIIIIIIXXIIIIIIIIII', 'IIIIIIIIIIIIIIIIIIIIIIIIIIIIIIIIIIIIIIYYIIIIIIIIII', 'IIIIIIIIIIIIIIIIIIIIIIIIIIIIIIIIIIIIIIZZIIIIIIIIII', 'IIIIIIIIIIIIIIIIIIIIIIIIIIIIIIIIIIIIXXIIIIIIIIIIII', 'IIIIIIIIIIIIIIIIIIIIIIIIIIIIIIIIIIIIYYIIIIIIIIIIII', 'IIIIIIIIIIIIIIIIIIIIIIIIIIIIIIIIIIIIZZIIIIIIIIIIII', 'IIIIIIIIIIIIIIIIIIIIIIIIIIIIIIIIIIXXIIIIIIIIIIIIII', 'IIIIIIIIIIIIIIIIIIIIIIIIIIIIIIIIIIYYIIIIIIIIIIIIII', 'IIIIIIIIIIIIIIIIIIIIIIIIIIIIIIIIIIZZIIIIIIIIIIIIII', 'IIIIIIIIIIIIIIIIIIIIIIIIIIIIIIIIXXIIIIIIIIIIIIIIII', 'IIIIIIIIIIIIIIIIIIIIIIIIIIIIIIIIYYIIIIIIIIIIIIIIII', 'IIIIIIIIIIIIIIIIIIIIIIIIIIIIIIIIZZIIIIIIIIIIIIIIII', 'IIIIIIIIIIIIIIIIIIIIIIIIIIIIIIXXIIIIIIIIIIIIIIIIII', 'IIIIIIIIIIIIIIIIIIIIIIIIIIIIIIYYIIIIIIIIIIIIIIIIII', 'IIIIIIIIIIIIIIIIIIIIIIIIIIIIIIZZIIIIIIIIIIIIIIIIII', 'IIIIIIIIIIIIIIIIIIIIIIIIIIIIXXIIIIIIIIIIIIIIIIIIII', 'IIIIIIIIIIIIIIIIIIIIIIIIIIIIYYIIIIIIIIIIIIIIIIIIII', 'IIIIIIIIIIIIIIIIIIIIIIIIIIIIZZIIIIIIIIIIIIIIIIIIII', 'IIIIIIIIIIIIIIIIIIIIIIIIIIXXIIIIIIIIIIIIIIIIIIIIII', 'IIIIIIIIIIIIIIIIIIIIIIIIIIYYIIIIIIIIIIIIIIIIIIIIII', 'IIIIIIIIIIIIIIIIIIIIIIIIIIZZIIIIIIIIIIIIIIIIIIIIII', 'IIIIIIIIIIIIIIIIIIIIIIIIXXIIIIIIIIIIIIIIIIIIIIIIII', 'IIIIIIIIIIIIIIIIIIIIIIIIYYIIIIIIIIIIIIIIIIIIIIIIII', 'IIIIIIIIIIIIIIIIIIIIIIIIZZIIIIIIIIIIIIIIIIIIIIIIII', 'IIIIIIIIIIIIIIIIIIIIIIXXIIIIIIIIIIIIIIIIIIIIIIIIII', 'IIIIIIIIIIIIIIIIIIIIIIYYIIIIIIIIIIIIIIIIIIIIIIIIII', 'IIIIIIIIIIIIIIIIIIIIIIZZIIIIIIIIIIIIIIIIIIIIIIIIII', 'IIIIIIIIIIIIIIIIIIIIXXIIIIIIIIIIIIIIIIIIIIIIIIIIII', 'IIIIIIIIIIIIIIIIIIIIYYIIIIIIIIIIIIIIIIIIIIIIIIIIII', 'IIIIIIIIIIIIIIIIIIIIZZIIIIIIIIIIIIIIIIIIIIIIIIIIII', 'IIIIIIIIIIIIIIIIIIXXIIIIIIIIIIIIIIIIIIIIIIIIIIIIII', 'IIIIIIIIIIIIIIIIIIYYIIIIIIIIIIIIIIIIIIIIIIIIIIIIII', 'IIIIIIIIIIIIIIIIIIZZIIIIIIIIIIIIIIIIIIIIIIIIIIIIII', 'IIIIIIIIIIIIIIIIXXIIIIIIIIIIIIIIIIIIIIIIIIIIIIIIII', 'IIIIIIIIIIIIIIIIYYIIIIIIIIIIIIIIIIIIIIIIIIIIIIIIII', 'IIIIIIIIIIIIIIIIZZIIIIIIIIIIIIIIIIIIIIIIIIIIIIIIII', 'IIIIIIIIIIIIIIXXIIIIIIIIIIIIIIIIIIIIIIIIIIIIIIIIII', 'IIIIIIIIIIIIIIYYIIIIIIIIIIIIIIIIIIIIIIIIIIIIIIIIII', 'IIIIIIIIIIIIIIZZIIIIIIIIIIIIIIIIIIIIIIIIIIIIIIIIII', 'IIIIIIIIIIIIXXIIIIIIIIIIIIIIIIIIIIIIIIIIIIIIIIIIII', 'IIIIIIIIIIIIYYIIIIIIIIIIIIIIIIIIIIIIIIIIIIIIIIIIII', 'IIIIIIIIIIIIZZIIIIIIIIIIIIIIIIIIIIIIIIIIIIIIIIIIII', 'IIIIIIIIIIXXIIIIIIIIIIIIIIIIIIIIIIIIIIIIIIIIIIIIII', 'IIIIIIIIIIYYIIIIIIIIIIIIIIIIIIIIIIIIIIIIIIIIIIIIII', 'IIIIIIIIIIZZIIIIIIIIIIIIIIIIIIIIIIIIIIIIIIIIIIIIII', 'IIIIIIIIXXIIIIIIIIIIIIIIIIIIIIIIIIIIIIIIIIIIIIIIII', 'IIIIIIIIYYIIIIIIIIIIIIIIIIIIIIIIIIIIIIIIIIIIIIIIII', 'IIIIIIIIZZIIIIIIIIIIIIIIIIIIIIIIIIIIIIIIIIIIIIIIII', 'IIIIIIXXIIIIIIIIIIIIIIIIIIIIIIIIIIIIIIIIIIIIIIIIII', 'IIIIIIYYIIIIIIIIIIIIIIIIIIIIIIIIIIIIIIIIIIIIIIIIII', 'IIIIIIZZIIIIIIIIIIIIIIIIIIIIIIIIIIIIIIIIIIIIIIIIII', 'IIIIXXIIIIIIIIIIIIIIIIIIIIIIIIIIIIIIIIIIIIIIIIIIII', 'IIIIYYIIIIIIIIIIIIIIIIIIIIIIIIIIIIIIIIIIIIIIIIIIII', 'IIIIZZIIIIIIIIIIIIIIIIIIIIIIIIIIIIIIIIIIIIIIIIIIII', 'IIXXIIIIIIIIIIIIIIIIIIIIIIIIIIIIIIIIIIIIIIIIIIIIII', 'IIYYIIIIIIIIIIIIIIIIIIIIIIIIIIIIIIIIIIIIIIIIIIIIII', 'IIZZIIIIIIIIIIIIIIIIIIIIIIIIIIIIIIIIIIIIIIIIIIIIII', 'XXIIIIIIIIIIIIIIIIIIIIIIIIIIIIIIIIIIIIIIIIIIIIIIII', 'YYIIIIIIIIIIIIIIIIIIIIIIIIIIIIIIIIIIIIIIIIIIIIIIII', 'ZZIIIIIIIIIIIIIIIIIIIIIIIIIIIIIIIIIIIIIIIIIIIIIIII', 'IIIIIIIIIIIIIIIIIIIIIIIIIIIIIIIIIIIIIIIIIIIIIIIXXI', 'IIIIIIIIIIIIIIIIIIIIIIIIIIIIIIIIIIIIIIIIIIIIIIIYYI', 'IIIIIIIIIIIIIIIIIIIIIIIIIIIIIIIIIIIIIIIIIIIIIIIZZI', 'IIIIIIIIIIIIIIIIIIIIIIIIIIIIIIIIIIIIIIIIIIIIIXXIII', 'IIIIIIIIIIIIIIIIIIIIIIIIIIIIIIIIIIIIIIIIIIIIIYYIII', 'IIIIIIIIIIIIIIIIIIIIIIIIIIIIIIIIIIIIIIIIIIIIIZZIII', 'IIIIIIIIIIIIIIIIIIIIIIIIIIIIIIIIIIIIIIIIIIIXXIIIII', 'IIIIIIIIIIIIIIIIIIIIIIIIIIIIIIIIIIIIIIIIIIIYYIIIII', 'IIIIIIIIIIIIIIIIIIIIIIIIIIIIIIIIIIIIIIIIIIIZZIIIII', 'IIIIIIIIIIIIIIIIIIIIIIIIIIIIIIIIIIIIIIIIIXXIIIIIII', 'IIIIIIIIIIIIIIIIIIIIIIIIIIIIIIIIIIIIIIIIIYYIIIIIII', 'IIIIIIIIIIIIIIIIIIIIIIIIIIIIIIIIIIIIIIIIIZZIIIIIII', 'IIIIIIIIIIIIIIIIIIIIIIIIIIIIIIIIIIIIIIIXXIIIIIIIII', 'IIIIIIIIIIIIIIIIIIIIIIIIIIIIIIIIIIIIIIIYYIIIIIIIII', 'IIIIIIIIIIIIIIIIIIIIIIIIIIIIIIIIIIIIIIIZZIIIIIIIII', 'IIIIIIIIIIIIIIIIIIIIIIIIIIIIIIIIIIIIIXXIIIIIIIIIII', 'IIIIIIIIIIIIIIIIIIIIIIIIIIIIIIIIIIIIIYYIIIIIIIIIII', 'IIIIIIIIIIIIIIIIIIIIIIIIIIIIIIIIIIIIIZZIIIIIIIIIII', 'IIIIIIIIIIIIIIIIIIIIIIIIIIIIIIIIIIIXXIIIIIIIIIIIII', 'IIIIIIIIIIIIIIIIIIIIIIIIIIIIIIIIIIIYYIIIIIIIIIIIII', 'IIIIIIIIIIIIIIIIIIIIIIIIIIIIIIIIIIIZZIIIIIIIIIIIII', 'IIIIIIIIIIIIIIIIIIIIIIIIIIIIIIIIIXXIIIIIIIIIIIIIII', 'IIIIIIIIIIIIIIIIIIIIIIIIIIIIIIIIIYYIIIIIIIIIIIIIII', 'IIIIIIIIIIIIIIIIIIIIIIIIIIIIIIIIIZZIIIIIIIIIIIIIII', 'IIIIIIIIIIIIIIIIIIIIIIIIIIIIIIIXXIIIIIIIIIIIIIIIII', 'IIIIIIIIIIIIIIIIIIIIIIIIIIIIIIIYYIIIIIIIIIIIIIIIII', 'IIIIIIIIIIIIIIIIIIIIIIIIIIIIIIIZZIIIIIIIIIIIIIIIII', 'IIIIIIIIIIIIIIIIIIIIIIIIIIIIIXXIIIIIIIIIIIIIIIIIII', 'IIIIIIIIIIIIIIIIIIIIIIIIIIIIIYYIIIIIIIIIIIIIIIIIII', 'IIIIIIIIIIIIIIIIIIIIIIIIIIIIIZZIIIIIIIIIIIIIIIIIII', 'IIIIIIIIIIIIIIIIIIIIIIIIIIIXXIIIIIIIIIIIIIIIIIIIII', 'IIIIIIIIIIIIIIIIIIIIIIIIIIIYYIIIIIIIIIIIIIIIIIIIII', 'IIIIIIIIIIIIIIIIIIIIIIIIIIIZZIIIIIIIIIIIIIIIIIIIII', 'IIIIIIIIIIIIIIIIIIIIIIIIIXXIIIIIIIIIIIIIIIIIIIIIII', 'IIIIIIIIIIIIIIIIIIIIIIIIIYYIIIIIIIIIIIIIIIIIIIIIII', 'IIIIIIIIIIIIIIIIIIIIIIIIIZZIIIIIIIIIIIIIIIIIIIIIII', 'IIIIIIIIIIIIIIIIIIIIIIIXXIIIIIIIIIIIIIIIIIIIIIIIII', 'IIIIIIIIIIIIIIIIIIIIIIIYYIIIIIIIIIIIIIIIIIIIIIIIII', 'IIIIIIIIIIIIIIIIIIIIIIIZZIIIIIIIIIIIIIIIIIIIIIIIII', 'IIIIIIIIIIIIIIIIIIIIIXXIIIIIIIIIIIIIIIIIIIIIIIIIII', 'IIIIIIIIIIIIIIIIIIIIIYYIIIIIIIIIIIIIIIIIIIIIIIIIII', 'IIIIIIIIIIIIIIIIIIIIIZZIIIIIIIIIIIIIIIIIIIIIIIIIII', 'IIIIIIIIIIIIIIIIIIIXXIIIIIIIIIIIIIIIIIIIIIIIIIIIII', 'IIIIIIIIIIIIIIIIIIIYYIIIIIIIIIIIIIIIIIIIIIIIIIIIII', 'IIIIIIIIIIIIIIIIIIIZZIIIIIIIIIIIIIIIIIIIIIIIIIIIII', 'IIIIIIIIIIIIIIIIIXXIIIIIIIIIIIIIIIIIIIIIIIIIIIIIII', 'IIIIIIIIIIIIIIIIIYYIIIIIIIIIIIIIIIIIIIIIIIIIIIIIII', 'IIIIIIIIIIIIIIIIIZZIIIIIIIIIIIIIIIIIIIIIIIIIIIIIII', 'IIIIIIIIIIIIIIIXXIIIIIIIIIIIIIIIIIIIIIIIIIIIIIIIII', 'IIIIIIIIIIIIIIIYYIIIIIIIIIIIIIIIIIIIIIIIIIIIIIIIII', 'IIIIIIIIIIIIIIIZZIIIIIIIIIIIIIIIIIIIIIIIIIIIIIIIII', 'IIIIIIIIIIIIIXXIIIIIIIIIIIIIIIIIIIIIIIIIIIIIIIIIII', 'IIIIIIIIIIIIIYYIIIIIIIIIIIIIIIIIIIIIIIIIIIIIIIIIII', 'IIIIIIIIIIIIIZZIIIIIIIIIIIIIIIIIIIIIIIIIIIIIIIIIII', 'IIIIIIIIIIIXXIIIIIIIIIIIIIIIIIIIIIIIIIIIIIIIIIIIII', 'IIIIIIIIIIIYYIIIIIIIIIIIIIIIIIIIIIIIIIIIIIIIIIIIII', 'IIIIIIIIIIIZZIIIIIIIIIIIIIIIIIIIIIIIIIIIIIIIIIIIII', 'IIIIIIIIIXXIIIIIIIIIIIIIIIIIIIIIIIIIIIIIIIIIIIIIII', 'IIIIIIIIIYYIIIIIIIIIIIIIIIIIIIIIIIIIIIIIIIIIIIIIII', 'IIIIIIIIIZZIIIIIIIIIIIIIIIIIIIIIIIIIIIIIIIIIIIIIII', 'IIIIIIIXXIIIIIIIIIIIIIIIIIIIIIIIIIIIIIIIIIIIIIIIII', 'IIIIIIIYYIIIIIIIIIIIIIIIIIIIIIIIIIIIIIIIIIIIIIIIII', 'IIIIIIIZZIIIIIIIIIIIIIIIIIIIIIIIIIIIIIIIIIIIIIIIII', 'IIIIIXXIIIIIIIIIIIIIIIIIIIIIIIIIIIIIIIIIIIIIIIIIII', 'IIIIIYYIIIIIIIIIIIIIIIIIIIIIIIIIIIIIIIIIIIIIIIIIII', 'IIIIIZZIIIIIIIIIIIIIIIIIIIIIIIIIIIIIIIIIIIIIIIIIII', 'IIIXXIIIIIIIIIIIIIIIIIIIIIIIIIIIIIIIIIIIIIIIIIIIII', 'IIIYYIIIIIIIIIIIIIIIIIIIIIIIIIIIIIIIIIIIIIIIIIIIII', 'IIIZZIIIIIIIIIIIIIIIIIIIIIIIIIIIIIIIIIIIIIIIIIIIII', 'IXXIIIIIIIIIIIIIIIIIIIIIIIIIIIIIIIIIIIIIIIIIIIIIII', 'IYYIIIIIIIIIIIIIIIIIIIIIIIIIIIIIIIIIIIIIIIIIIIIIII', 'IZZIIIIIIIIIIIIIIIIIIIIIIIIIIIIIIIIIIIIIIIIIIIIIII'],\n",
      "              coeffs=[0.52440675+0.j, 0.52440675+0.j, 1.0488135 +0.j, 0.55138169+0.j,\n",
      " 0.55138169+0.j, 1.10276338+0.j, 0.4618274 +0.j, 0.4618274 +0.j,\n",
      " 0.9236548 +0.j, 0.46879361+0.j, 0.46879361+0.j, 0.93758721+0.j,\n",
      " 0.73183138+0.j, 0.73183138+0.j, 1.46366276+0.j, 0.64586252+0.j,\n",
      " 0.64586252+0.j, 1.29172504+0.j, 0.53402228+0.j, 0.53402228+0.j,\n",
      " 1.06804456+0.j, 0.28551803+0.j, 0.28551803+0.j, 0.57103606+0.j,\n",
      " 0.2601092 +0.j, 0.2601092 +0.j, 0.5202184 +0.j, 0.63907838+0.j,\n",
      " 0.63907838+0.j, 1.27815675+0.j, 0.73930917+0.j, 0.73930917+0.j,\n",
      " 1.47861834+0.j, 0.48073968+0.j, 0.48073968+0.j, 0.96147936+0.j,\n",
      " 0.30913721+0.j, 0.30913721+0.j, 0.61827443+0.j, 0.32167664+0.j,\n",
      " 0.32167664+0.j, 0.64335329+0.j, 0.51092416+0.j, 0.51092416+0.j,\n",
      " 1.02184832+0.j, 0.38227781+0.j, 0.38227781+0.j, 0.76455561+0.j,\n",
      " 0.47807517+0.j, 0.47807517+0.j, 0.95615033+0.j, 0.2593949 +0.j,\n",
      " 0.2593949 +0.j, 0.5187898 +0.j, 0.55604786+0.j, 0.55604786+0.j,\n",
      " 1.11209572+0.j, 0.72187404+0.j, 0.72187404+0.j, 1.44374808+0.j,\n",
      " 0.42975395+0.j, 0.42975395+0.j, 0.8595079 +0.j, 0.5988156 +0.j,\n",
      " 0.5988156 +0.j, 1.1976312 +0.j, 0.58338336+0.j, 0.58338336+0.j,\n",
      " 1.16676672+0.j, 0.35519128+0.j, 0.35519128+0.j, 0.71038256+0.j,\n",
      " 0.40771418+0.j, 0.40771418+0.j, 0.81542835+0.j, 0.60759468+0.j,\n",
      " 0.60759468+0.j, 1.21518937+0.j, 0.52244159+0.j, 0.52244159+0.j,\n",
      " 1.04488318+0.j, 0.57294706+0.j, 0.57294706+0.j, 1.14589411+0.j,\n",
      " 0.6958865 +0.j, 0.6958865 +0.j, 1.391773  +0.j, 0.44172076+0.j,\n",
      " 0.44172076+0.j, 0.88344152+0.j, 0.51444746+0.j, 0.51444746+0.j,\n",
      " 1.02889492+0.j, 0.71279832+0.j, 0.71279832+0.j, 1.42559664+0.j,\n",
      " 0.29356465+0.j, 0.29356465+0.j, 0.5871293 +0.j, 0.66630992+0.j,\n",
      " 0.66630992+0.j, 1.33261985+0.j, 0.68500607+0.j, 0.68500607+0.j,\n",
      " 1.37001215+0.j, 0.64957928+0.j, 0.64957928+0.j, 1.29915856+0.j,\n",
      " 0.64026459+0.j, 0.64026459+0.j, 1.28052918+0.j, 0.56996051+0.j,\n",
      " 0.56996051+0.j, 1.13992102+0.j, 0.72233446+0.j, 0.72233446+0.j,\n",
      " 1.44466892+0.j, 0.45733097+0.j, 0.45733097+0.j, 0.91466194+0.j,\n",
      " 0.63711684+0.j, 0.63711684+0.j, 1.27423369+0.j, 0.53421697+0.j,\n",
      " 0.53421697+0.j, 1.06843395+0.j, 0.55881775+0.j, 0.55881775+0.j,\n",
      " 1.1176355 +0.j, 0.558467  +0.j, 0.558467  +0.j, 1.116934  +0.j,\n",
      " 0.59091015+0.j, 0.59091015+0.j, 1.1818203 +0.j, 0.46851598+0.j,\n",
      " 0.46851598+0.j, 0.93703195+0.j, 0.28011274+0.j, 0.28011274+0.j,\n",
      " 0.56022547+0.j, 0.58531893+0.j, 0.58531893+0.j, 1.17063787+0.j,\n",
      " 0.31446315+0.j, 0.31446315+0.j, 0.6289263 +0.j])\n",
      "hamiltonian_simulation.run_function:INFO:2025-04-30 09:28:13,808: Observable: SparsePauliOp(['IIIIIIIIIIIIIIIIIIIIIIIIZZIIIIIIIIIIIIIIIIIIIIIIII'],\n",
      "              coeffs=[1.+0.j])\n",
      "hamiltonian_simulation.run_function:INFO:2025-04-30 09:28:19,417: Target MPS maximum bond dimension: 5\n",
      "hamiltonian_simulation.run_function:INFO:2025-04-30 09:28:19,529: Number of AQC parameters: 816\n",
      "hamiltonian_simulation.run_function:INFO:2025-04-30 09:28:19,701: Starting fidelity of AQC portion: 0.9914382555614002\n",
      "hamiltonian_simulation.callback:INFO:2025-04-30 09:28:56,695: 2025-04-30 09:28:56.695819 Intermediate result: Fidelity 0.99764319\n",
      "hamiltonian_simulation.callback:INFO:2025-04-30 09:28:56,726: 2025-04-30 09:28:56.725976 Intermediate result: Fidelity 0.99788420\n",
      "hamiltonian_simulation.callback:INFO:2025-04-30 09:28:56,755: 2025-04-30 09:28:56.754971 Intermediate result: Fidelity 0.99796125\n",
      "hamiltonian_simulation.callback:INFO:2025-04-30 09:28:56,784: 2025-04-30 09:28:56.784239 Intermediate result: Fidelity 0.99798793\n",
      "hamiltonian_simulation.callback:INFO:2025-04-30 09:28:56,812: 2025-04-30 09:28:56.812188 Intermediate result: Fidelity 0.99803544\n",
      "hamiltonian_simulation.callback:INFO:2025-04-30 09:28:56,843: 2025-04-30 09:28:56.843080 Intermediate result: Fidelity 0.99809928\n",
      "hamiltonian_simulation.callback:INFO:2025-04-30 09:28:56,871: 2025-04-30 09:28:56.871663 Intermediate result: Fidelity 0.99824851\n",
      "hamiltonian_simulation.callback:INFO:2025-04-30 09:28:56,899: 2025-04-30 09:28:56.899762 Intermediate result: Fidelity 0.99845481\n",
      "hamiltonian_simulation.callback:INFO:2025-04-30 09:28:56,928: 2025-04-30 09:28:56.927974 Intermediate result: Fidelity 0.99870497\n",
      "hamiltonian_simulation.callback:INFO:2025-04-30 09:28:56,956: 2025-04-30 09:28:56.956538 Intermediate result: Fidelity 0.99891656\n",
      "hamiltonian_simulation.callback:INFO:2025-04-30 09:28:56,985: 2025-04-30 09:28:56.985233 Intermediate result: Fidelity 0.99904906\n",
      "hamiltonian_simulation.callback:INFO:2025-04-30 09:28:57,013: 2025-04-30 09:28:57.013791 Intermediate result: Fidelity 0.99914617\n",
      "hamiltonian_simulation.callback:INFO:2025-04-30 09:28:57,043: 2025-04-30 09:28:57.043566 Intermediate result: Fidelity 0.99923101\n",
      "hamiltonian_simulation.callback:INFO:2025-04-30 09:28:57,072: 2025-04-30 09:28:57.072519 Intermediate result: Fidelity 0.99928904\n",
      "hamiltonian_simulation.callback:INFO:2025-04-30 09:28:57,101: 2025-04-30 09:28:57.101414 Intermediate result: Fidelity 0.99932098\n",
      "hamiltonian_simulation.callback:INFO:2025-04-30 09:28:57,129: 2025-04-30 09:28:57.129267 Intermediate result: Fidelity 0.99936674\n",
      "hamiltonian_simulation.callback:INFO:2025-04-30 09:28:57,157: 2025-04-30 09:28:57.156989 Intermediate result: Fidelity 0.99938629\n",
      "hamiltonian_simulation.callback:INFO:2025-04-30 09:28:57,185: 2025-04-30 09:28:57.185093 Intermediate result: Fidelity 0.99940583\n",
      "hamiltonian_simulation.callback:INFO:2025-04-30 09:28:57,212: 2025-04-30 09:28:57.212877 Intermediate result: Fidelity 0.99942204\n",
      "hamiltonian_simulation.callback:INFO:2025-04-30 09:28:57,241: 2025-04-30 09:28:57.241784 Intermediate result: Fidelity 0.99944432\n",
      "hamiltonian_simulation.callback:INFO:2025-04-30 09:28:57,270: 2025-04-30 09:28:57.270763 Intermediate result: Fidelity 0.99946828\n",
      "hamiltonian_simulation.callback:INFO:2025-04-30 09:28:57,299: 2025-04-30 09:28:57.299349 Intermediate result: Fidelity 0.99948973\n",
      "hamiltonian_simulation.callback:INFO:2025-04-30 09:28:57,328: 2025-04-30 09:28:57.328904 Intermediate result: Fidelity 0.99952000\n",
      "hamiltonian_simulation.callback:INFO:2025-04-30 09:28:57,358: 2025-04-30 09:28:57.358946 Intermediate result: Fidelity 0.99953561\n",
      "hamiltonian_simulation.callback:INFO:2025-04-30 09:28:57,388: 2025-04-30 09:28:57.388006 Intermediate result: Fidelity 0.99955230\n",
      "hamiltonian_simulation.callback:INFO:2025-04-30 09:28:57,417: 2025-04-30 09:28:57.417062 Intermediate result: Fidelity 0.99958186\n",
      "hamiltonian_simulation.callback:INFO:2025-04-30 09:28:57,446: 2025-04-30 09:28:57.446247 Intermediate result: Fidelity 0.99960307\n",
      "hamiltonian_simulation.callback:INFO:2025-04-30 09:28:57,475: 2025-04-30 09:28:57.475275 Intermediate result: Fidelity 0.99961726\n",
      "hamiltonian_simulation.callback:INFO:2025-04-30 09:28:57,505: 2025-04-30 09:28:57.505800 Intermediate result: Fidelity 0.99963883\n",
      "hamiltonian_simulation.callback:INFO:2025-04-30 09:28:57,535: 2025-04-30 09:28:57.535024 Intermediate result: Fidelity 0.99964217\n",
      "hamiltonian_simulation.callback:INFO:2025-04-30 09:28:57,563: 2025-04-30 09:28:57.563845 Intermediate result: Fidelity 0.99964991\n",
      "hamiltonian_simulation.callback:INFO:2025-04-30 09:28:57,592: 2025-04-30 09:28:57.592328 Intermediate result: Fidelity 0.99965730\n",
      "hamiltonian_simulation.callback:INFO:2025-04-30 09:28:57,621: 2025-04-30 09:28:57.621032 Intermediate result: Fidelity 0.99966207\n",
      "hamiltonian_simulation.callback:INFO:2025-04-30 09:28:57,649: 2025-04-30 09:28:57.649104 Intermediate result: Fidelity 0.99967411\n",
      "hamiltonian_simulation.callback:INFO:2025-04-30 09:28:57,677: 2025-04-30 09:28:57.677897 Intermediate result: Fidelity 0.99968269\n",
      "hamiltonian_simulation.callback:INFO:2025-04-30 09:28:57,706: 2025-04-30 09:28:57.706868 Intermediate result: Fidelity 0.99969425\n",
      "hamiltonian_simulation.callback:INFO:2025-04-30 09:28:57,736: 2025-04-30 09:28:57.736929 Intermediate result: Fidelity 0.99970855\n",
      "hamiltonian_simulation.callback:INFO:2025-04-30 09:28:57,766: 2025-04-30 09:28:57.766469 Intermediate result: Fidelity 0.99971821\n",
      "hamiltonian_simulation.callback:INFO:2025-04-30 09:28:57,798: 2025-04-30 09:28:57.798018 Intermediate result: Fidelity 0.99972751\n",
      "hamiltonian_simulation.callback:INFO:2025-04-30 09:28:57,828: 2025-04-30 09:28:57.828633 Intermediate result: Fidelity 0.99973692\n",
      "hamiltonian_simulation.callback:INFO:2025-04-30 09:28:57,857: 2025-04-30 09:28:57.857621 Intermediate result: Fidelity 0.99973907\n",
      "hamiltonian_simulation.callback:INFO:2025-04-30 09:28:57,886: 2025-04-30 09:28:57.886359 Intermediate result: Fidelity 0.99974229\n",
      "hamiltonian_simulation.callback:INFO:2025-04-30 09:28:57,915: 2025-04-30 09:28:57.915451 Intermediate result: Fidelity 0.99974741\n",
      "hamiltonian_simulation.callback:INFO:2025-04-30 09:28:57,944: 2025-04-30 09:28:57.944293 Intermediate result: Fidelity 0.99974789\n",
      "hamiltonian_simulation.callback:INFO:2025-04-30 09:28:57,973: 2025-04-30 09:28:57.973483 Intermediate result: Fidelity 0.99975313\n",
      "hamiltonian_simulation.callback:INFO:2025-04-30 09:28:58,001: 2025-04-30 09:28:58.001938 Intermediate result: Fidelity 0.99975492\n",
      "hamiltonian_simulation.callback:INFO:2025-04-30 09:28:58,030: 2025-04-30 09:28:58.030563 Intermediate result: Fidelity 0.99975683\n",
      "hamiltonian_simulation.callback:INFO:2025-04-30 09:28:58,061: 2025-04-30 09:28:58.061164 Intermediate result: Fidelity 0.99975838\n",
      "hamiltonian_simulation.callback:INFO:2025-04-30 09:28:58,090: 2025-04-30 09:28:58.090733 Intermediate result: Fidelity 0.99976243\n",
      "hamiltonian_simulation.callback:INFO:2025-04-30 09:28:58,120: 2025-04-30 09:28:58.120189 Intermediate result: Fidelity 0.99976303\n",
      "hamiltonian_simulation.callback:INFO:2025-04-30 09:28:58,150: 2025-04-30 09:28:58.150753 Intermediate result: Fidelity 0.99976565\n",
      "hamiltonian_simulation.callback:INFO:2025-04-30 09:28:58,208: 2025-04-30 09:28:58.208933 Intermediate result: Fidelity 0.99977149\n",
      "hamiltonian_simulation.callback:INFO:2025-04-30 09:28:58,238: 2025-04-30 09:28:58.238796 Intermediate result: Fidelity 0.99977232\n",
      "hamiltonian_simulation.callback:INFO:2025-04-30 09:28:58,353: 2025-04-30 09:28:58.353608 Intermediate result: Fidelity 0.99977292\n",
      "hamiltonian_simulation.callback:INFO:2025-04-30 09:28:58,383: 2025-04-30 09:28:58.383091 Intermediate result: Fidelity 0.99977900\n",
      "hamiltonian_simulation.callback:INFO:2025-04-30 09:28:58,412: 2025-04-30 09:28:58.412359 Intermediate result: Fidelity 0.99977924\n",
      "hamiltonian_simulation.callback:INFO:2025-04-30 09:28:58,441: 2025-04-30 09:28:58.441428 Intermediate result: Fidelity 0.99978186\n",
      "hamiltonian_simulation.callback:INFO:2025-04-30 09:28:58,985: 2025-04-30 09:28:58.985907 Intermediate result: Fidelity 0.99978186\n",
      "hamiltonian_simulation.run_function:INFO:2025-04-30 09:28:58,986: Done after 58 iterations\n",
      "hamiltonian_simulation.run_function:INFO:2025-04-30 09:28:59,248: Fidelity of AQC portion: 0.9997886841427734\n",
      "hamiltonian_simulation.run_function:INFO:2025-04-30 09:29:08,900: ISA circuit two-qubit depth: 33\n",
      "hamiltonian_simulation.run_function:INFO:2025-04-30 09:29:08,900: Exiting before hardware execution since `dry_run` is True.\n",
      "\n"
     ]
    }
   ],
   "source": [
    "print(job.logs())"
   ]
  },
  {
   "cell_type": "code",
   "execution_count": null,
   "id": "6fffe0a7",
   "metadata": {},
   "outputs": [],
   "source": []
  }
 ],
 "metadata": {
  "kernelspec": {
   "display_name": ".venv",
   "language": "python",
   "name": "python3"
  },
  "language_info": {
   "codemirror_mode": {
    "name": "ipython",
    "version": 3
   },
   "file_extension": ".py",
   "mimetype": "text/x-python",
   "name": "python",
   "nbconvert_exporter": "python",
   "pygments_lexer": "ipython3",
   "version": "3.11.11"
  }
 },
 "nbformat": 4,
 "nbformat_minor": 5
}
